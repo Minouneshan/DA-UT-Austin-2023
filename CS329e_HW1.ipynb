{
  "cells": [
    {
      "cell_type": "markdown",
      "metadata": {
        "id": "BoxpSMDOX1_y"
      },
      "source": [
        "# Homework 1\n",
        "\n",
        "## Pair Programming Group Number: Group 18\n",
        "## Members of Team: \n",
        "### Fayed Nassor\n",
        "### Mohamad Minoneshan\n",
        "\n",
        "\n",
        "### Data maniupuation and Visualization!\n",
        "\n",
        "In our first assignment you will practice manipuating and visualizing data from a real wold data set, Melbourne Australia home sales records. \n",
        "\n",
        "### The Data\n",
        "\n",
        "Was taken from a Kaggle competition, and came with the following descriptions:\n",
        "Content & Acknowledgements\n",
        "\n",
        "```\n",
        "This data was scraped from publicly available results posted every week from Domain.com.au, I've cleaned it as best I can, now it's up to you to make data analysis magic. The dataset includes Address, Type of Real estate, Suburb, Method of Selling, Rooms, Price, Real Estate Agent, Date of Sale and distance from C.B.D.\n",
        "\n",
        "….Now with extra data including including property size, land size and council area, you may need to change your code!\n",
        "\n",
        "Some Key Details\n",
        "Suburb: Suburb\n",
        "\n",
        "Address: Address\n",
        "\n",
        "Rooms: Number of rooms\n",
        "\n",
        "Price: Price in Australian dollars\n",
        "\n",
        "Method:\n",
        "S - property sold;\n",
        "SP - property sold prior;\n",
        "PI - property passed in;\n",
        "PN - sold prior not disclosed;\n",
        "SN - sold not disclosed;\n",
        "NB - no bid;\n",
        "VB - vendor bid;\n",
        "W - withdrawn prior to auction;\n",
        "SA - sold after auction;\n",
        "SS - sold after auction price not disclosed.\n",
        "N/A - price or highest bid not available.\n",
        "\n",
        "Type:\n",
        "br - bedroom(s);\n",
        "h - house,cottage,villa, semi,terrace;\n",
        "u - unit, duplex;\n",
        "t - townhouse;\n",
        "dev site - development site;\n",
        "o res - other residential.\n",
        "\n",
        "SellerG: Real Estate Agent\n",
        "\n",
        "Date: Date sold\n",
        "\n",
        "Distance: Distance from CBD in Kilometres\n",
        "\n",
        "Regionname: General Region (West, North West, North, North east …etc)\n",
        "\n",
        "Propertycount: Number of properties that exist in the suburb.\n",
        "\n",
        "Bedroom2 : Scraped # of Bedrooms (from different source)\n",
        "\n",
        "Bathroom: Number of Bathrooms\n",
        "\n",
        "Car: Number of carspots\n",
        "\n",
        "Landsize: Land Size in Metres\n",
        "\n",
        "BuildingArea: Building Size in Metres\n",
        "\n",
        "YearBuilt: Year the house was built\n",
        "\n",
        "CouncilArea: Governing council for the area\n",
        "\n",
        "Lattitude: Self explanitory\n",
        "\n",
        "Longtitude: Self explanitory\n",
        "```\n"
      ]
    },
    {
      "cell_type": "markdown",
      "metadata": {
        "id": "Xc3WoTIgX1_z"
      },
      "source": [
        "## Q1 - Loading Data\n",
        "Run the following code section to load dataset into a pandas DataFrame named `df`. If you need to look up other\n",
        "syntax on how to read csv files you can find it [here](https://pandas.pydata.org/docs/reference/api/pandas.read_csv.html)."
      ]
    },
    {
      "cell_type": "code",
      "execution_count": null,
      "metadata": {
        "id": "meTTfqQNX1_0"
      },
      "outputs": [],
      "source": [
        "# remember to type in your standard library import for pandas first\n",
        "import pandas as pd\n",
        "\n",
        "url = 'https://gist.githubusercontent.com/TieJean/ba718aac753c2f90e3d4e040d8f7d982/raw/2aca4164b087fa86721e877b4f1a6bd46d687035/melb_data.csv'\n",
        "\n",
        "# your code goes here - read the data from the URL \n",
        "df = pd.read_csv(url)"
      ]
    },
    {
      "cell_type": "code",
      "source": [
        "# Displaying the top five rows\n",
        "df.head()"
      ],
      "metadata": {
        "colab": {
          "base_uri": "https://localhost:8080/",
          "height": 366
        },
        "id": "4Ou4o7FSUbTc",
        "outputId": "25b70e0f-4f03-4480-e36b-11edac0cb2c9"
      },
      "execution_count": null,
      "outputs": [
        {
          "output_type": "execute_result",
          "data": {
            "text/plain": [
              "       Suburb           Address  Rooms Type      Price Method SellerG  \\\n",
              "0  Abbotsford      85 Turner St      2    h  1480000.0      S  Biggin   \n",
              "1  Abbotsford   25 Bloomburg St      2    h  1035000.0      S  Biggin   \n",
              "2  Abbotsford      5 Charles St      3    h  1465000.0     SP  Biggin   \n",
              "3  Abbotsford  40 Federation La      3    h   850000.0     PI  Biggin   \n",
              "4  Abbotsford       55a Park St      4    h  1600000.0     VB  Nelson   \n",
              "\n",
              "        Date  Distance  Postcode  ...  Bathroom  Car  Landsize  BuildingArea  \\\n",
              "0  3/12/2016       2.5    3067.0  ...       1.0  1.0     202.0           NaN   \n",
              "1  4/02/2016       2.5    3067.0  ...       1.0  0.0     156.0          79.0   \n",
              "2  4/03/2017       2.5    3067.0  ...       2.0  0.0     134.0         150.0   \n",
              "3  4/03/2017       2.5    3067.0  ...       2.0  1.0      94.0           NaN   \n",
              "4  4/06/2016       2.5    3067.0  ...       1.0  2.0     120.0         142.0   \n",
              "\n",
              "   YearBuilt  CouncilArea Lattitude  Longtitude             Regionname  \\\n",
              "0        NaN        Yarra  -37.7996    144.9984  Northern Metropolitan   \n",
              "1     1900.0        Yarra  -37.8079    144.9934  Northern Metropolitan   \n",
              "2     1900.0        Yarra  -37.8093    144.9944  Northern Metropolitan   \n",
              "3        NaN        Yarra  -37.7969    144.9969  Northern Metropolitan   \n",
              "4     2014.0        Yarra  -37.8072    144.9941  Northern Metropolitan   \n",
              "\n",
              "  Propertycount  \n",
              "0        4019.0  \n",
              "1        4019.0  \n",
              "2        4019.0  \n",
              "3        4019.0  \n",
              "4        4019.0  \n",
              "\n",
              "[5 rows x 21 columns]"
            ],
            "text/html": [
              "\n",
              "  <div id=\"df-e966c957-ca6b-406e-86c5-67c237de23ce\">\n",
              "    <div class=\"colab-df-container\">\n",
              "      <div>\n",
              "<style scoped>\n",
              "    .dataframe tbody tr th:only-of-type {\n",
              "        vertical-align: middle;\n",
              "    }\n",
              "\n",
              "    .dataframe tbody tr th {\n",
              "        vertical-align: top;\n",
              "    }\n",
              "\n",
              "    .dataframe thead th {\n",
              "        text-align: right;\n",
              "    }\n",
              "</style>\n",
              "<table border=\"1\" class=\"dataframe\">\n",
              "  <thead>\n",
              "    <tr style=\"text-align: right;\">\n",
              "      <th></th>\n",
              "      <th>Suburb</th>\n",
              "      <th>Address</th>\n",
              "      <th>Rooms</th>\n",
              "      <th>Type</th>\n",
              "      <th>Price</th>\n",
              "      <th>Method</th>\n",
              "      <th>SellerG</th>\n",
              "      <th>Date</th>\n",
              "      <th>Distance</th>\n",
              "      <th>Postcode</th>\n",
              "      <th>...</th>\n",
              "      <th>Bathroom</th>\n",
              "      <th>Car</th>\n",
              "      <th>Landsize</th>\n",
              "      <th>BuildingArea</th>\n",
              "      <th>YearBuilt</th>\n",
              "      <th>CouncilArea</th>\n",
              "      <th>Lattitude</th>\n",
              "      <th>Longtitude</th>\n",
              "      <th>Regionname</th>\n",
              "      <th>Propertycount</th>\n",
              "    </tr>\n",
              "  </thead>\n",
              "  <tbody>\n",
              "    <tr>\n",
              "      <th>0</th>\n",
              "      <td>Abbotsford</td>\n",
              "      <td>85 Turner St</td>\n",
              "      <td>2</td>\n",
              "      <td>h</td>\n",
              "      <td>1480000.0</td>\n",
              "      <td>S</td>\n",
              "      <td>Biggin</td>\n",
              "      <td>3/12/2016</td>\n",
              "      <td>2.5</td>\n",
              "      <td>3067.0</td>\n",
              "      <td>...</td>\n",
              "      <td>1.0</td>\n",
              "      <td>1.0</td>\n",
              "      <td>202.0</td>\n",
              "      <td>NaN</td>\n",
              "      <td>NaN</td>\n",
              "      <td>Yarra</td>\n",
              "      <td>-37.7996</td>\n",
              "      <td>144.9984</td>\n",
              "      <td>Northern Metropolitan</td>\n",
              "      <td>4019.0</td>\n",
              "    </tr>\n",
              "    <tr>\n",
              "      <th>1</th>\n",
              "      <td>Abbotsford</td>\n",
              "      <td>25 Bloomburg St</td>\n",
              "      <td>2</td>\n",
              "      <td>h</td>\n",
              "      <td>1035000.0</td>\n",
              "      <td>S</td>\n",
              "      <td>Biggin</td>\n",
              "      <td>4/02/2016</td>\n",
              "      <td>2.5</td>\n",
              "      <td>3067.0</td>\n",
              "      <td>...</td>\n",
              "      <td>1.0</td>\n",
              "      <td>0.0</td>\n",
              "      <td>156.0</td>\n",
              "      <td>79.0</td>\n",
              "      <td>1900.0</td>\n",
              "      <td>Yarra</td>\n",
              "      <td>-37.8079</td>\n",
              "      <td>144.9934</td>\n",
              "      <td>Northern Metropolitan</td>\n",
              "      <td>4019.0</td>\n",
              "    </tr>\n",
              "    <tr>\n",
              "      <th>2</th>\n",
              "      <td>Abbotsford</td>\n",
              "      <td>5 Charles St</td>\n",
              "      <td>3</td>\n",
              "      <td>h</td>\n",
              "      <td>1465000.0</td>\n",
              "      <td>SP</td>\n",
              "      <td>Biggin</td>\n",
              "      <td>4/03/2017</td>\n",
              "      <td>2.5</td>\n",
              "      <td>3067.0</td>\n",
              "      <td>...</td>\n",
              "      <td>2.0</td>\n",
              "      <td>0.0</td>\n",
              "      <td>134.0</td>\n",
              "      <td>150.0</td>\n",
              "      <td>1900.0</td>\n",
              "      <td>Yarra</td>\n",
              "      <td>-37.8093</td>\n",
              "      <td>144.9944</td>\n",
              "      <td>Northern Metropolitan</td>\n",
              "      <td>4019.0</td>\n",
              "    </tr>\n",
              "    <tr>\n",
              "      <th>3</th>\n",
              "      <td>Abbotsford</td>\n",
              "      <td>40 Federation La</td>\n",
              "      <td>3</td>\n",
              "      <td>h</td>\n",
              "      <td>850000.0</td>\n",
              "      <td>PI</td>\n",
              "      <td>Biggin</td>\n",
              "      <td>4/03/2017</td>\n",
              "      <td>2.5</td>\n",
              "      <td>3067.0</td>\n",
              "      <td>...</td>\n",
              "      <td>2.0</td>\n",
              "      <td>1.0</td>\n",
              "      <td>94.0</td>\n",
              "      <td>NaN</td>\n",
              "      <td>NaN</td>\n",
              "      <td>Yarra</td>\n",
              "      <td>-37.7969</td>\n",
              "      <td>144.9969</td>\n",
              "      <td>Northern Metropolitan</td>\n",
              "      <td>4019.0</td>\n",
              "    </tr>\n",
              "    <tr>\n",
              "      <th>4</th>\n",
              "      <td>Abbotsford</td>\n",
              "      <td>55a Park St</td>\n",
              "      <td>4</td>\n",
              "      <td>h</td>\n",
              "      <td>1600000.0</td>\n",
              "      <td>VB</td>\n",
              "      <td>Nelson</td>\n",
              "      <td>4/06/2016</td>\n",
              "      <td>2.5</td>\n",
              "      <td>3067.0</td>\n",
              "      <td>...</td>\n",
              "      <td>1.0</td>\n",
              "      <td>2.0</td>\n",
              "      <td>120.0</td>\n",
              "      <td>142.0</td>\n",
              "      <td>2014.0</td>\n",
              "      <td>Yarra</td>\n",
              "      <td>-37.8072</td>\n",
              "      <td>144.9941</td>\n",
              "      <td>Northern Metropolitan</td>\n",
              "      <td>4019.0</td>\n",
              "    </tr>\n",
              "  </tbody>\n",
              "</table>\n",
              "<p>5 rows × 21 columns</p>\n",
              "</div>\n",
              "      <button class=\"colab-df-convert\" onclick=\"convertToInteractive('df-e966c957-ca6b-406e-86c5-67c237de23ce')\"\n",
              "              title=\"Convert this dataframe to an interactive table.\"\n",
              "              style=\"display:none;\">\n",
              "        \n",
              "  <svg xmlns=\"http://www.w3.org/2000/svg\" height=\"24px\"viewBox=\"0 0 24 24\"\n",
              "       width=\"24px\">\n",
              "    <path d=\"M0 0h24v24H0V0z\" fill=\"none\"/>\n",
              "    <path d=\"M18.56 5.44l.94 2.06.94-2.06 2.06-.94-2.06-.94-.94-2.06-.94 2.06-2.06.94zm-11 1L8.5 8.5l.94-2.06 2.06-.94-2.06-.94L8.5 2.5l-.94 2.06-2.06.94zm10 10l.94 2.06.94-2.06 2.06-.94-2.06-.94-.94-2.06-.94 2.06-2.06.94z\"/><path d=\"M17.41 7.96l-1.37-1.37c-.4-.4-.92-.59-1.43-.59-.52 0-1.04.2-1.43.59L10.3 9.45l-7.72 7.72c-.78.78-.78 2.05 0 2.83L4 21.41c.39.39.9.59 1.41.59.51 0 1.02-.2 1.41-.59l7.78-7.78 2.81-2.81c.8-.78.8-2.07 0-2.86zM5.41 20L4 18.59l7.72-7.72 1.47 1.35L5.41 20z\"/>\n",
              "  </svg>\n",
              "      </button>\n",
              "      \n",
              "  <style>\n",
              "    .colab-df-container {\n",
              "      display:flex;\n",
              "      flex-wrap:wrap;\n",
              "      gap: 12px;\n",
              "    }\n",
              "\n",
              "    .colab-df-convert {\n",
              "      background-color: #E8F0FE;\n",
              "      border: none;\n",
              "      border-radius: 50%;\n",
              "      cursor: pointer;\n",
              "      display: none;\n",
              "      fill: #1967D2;\n",
              "      height: 32px;\n",
              "      padding: 0 0 0 0;\n",
              "      width: 32px;\n",
              "    }\n",
              "\n",
              "    .colab-df-convert:hover {\n",
              "      background-color: #E2EBFA;\n",
              "      box-shadow: 0px 1px 2px rgba(60, 64, 67, 0.3), 0px 1px 3px 1px rgba(60, 64, 67, 0.15);\n",
              "      fill: #174EA6;\n",
              "    }\n",
              "\n",
              "    [theme=dark] .colab-df-convert {\n",
              "      background-color: #3B4455;\n",
              "      fill: #D2E3FC;\n",
              "    }\n",
              "\n",
              "    [theme=dark] .colab-df-convert:hover {\n",
              "      background-color: #434B5C;\n",
              "      box-shadow: 0px 1px 3px 1px rgba(0, 0, 0, 0.15);\n",
              "      filter: drop-shadow(0px 1px 2px rgba(0, 0, 0, 0.3));\n",
              "      fill: #FFFFFF;\n",
              "    }\n",
              "  </style>\n",
              "\n",
              "      <script>\n",
              "        const buttonEl =\n",
              "          document.querySelector('#df-e966c957-ca6b-406e-86c5-67c237de23ce button.colab-df-convert');\n",
              "        buttonEl.style.display =\n",
              "          google.colab.kernel.accessAllowed ? 'block' : 'none';\n",
              "\n",
              "        async function convertToInteractive(key) {\n",
              "          const element = document.querySelector('#df-e966c957-ca6b-406e-86c5-67c237de23ce');\n",
              "          const dataTable =\n",
              "            await google.colab.kernel.invokeFunction('convertToInteractive',\n",
              "                                                     [key], {});\n",
              "          if (!dataTable) return;\n",
              "\n",
              "          const docLinkHtml = 'Like what you see? Visit the ' +\n",
              "            '<a target=\"_blank\" href=https://colab.research.google.com/notebooks/data_table.ipynb>data table notebook</a>'\n",
              "            + ' to learn more about interactive tables.';\n",
              "          element.innerHTML = '';\n",
              "          dataTable['output_type'] = 'display_data';\n",
              "          await google.colab.output.renderOutput(dataTable, element);\n",
              "          const docLink = document.createElement('div');\n",
              "          docLink.innerHTML = docLinkHtml;\n",
              "          element.appendChild(docLink);\n",
              "        }\n",
              "      </script>\n",
              "    </div>\n",
              "  </div>\n",
              "  "
            ]
          },
          "metadata": {},
          "execution_count": 6
        }
      ]
    },
    {
      "cell_type": "markdown",
      "metadata": {
        "id": "w8oF--FrX1_0"
      },
      "source": [
        "## Q2 - How many unique suburbs are there?\n",
        "\n",
        "Are there any pandas DataFrame operations that can do this for you?\n",
        "\n",
        "[This](https://pandas.pydata.org/pandas-docs/stable/reference/api/pandas.Series.nunique.html) function might help. "
      ]
    },
    {
      "cell_type": "code",
      "execution_count": null,
      "metadata": {
        "id": "hLKvAS0YX1_1",
        "colab": {
          "base_uri": "https://localhost:8080/"
        },
        "outputId": "6b6dfa30-4ad4-4a67-bcae-44e07a6ad717"
      },
      "outputs": [
        {
          "output_type": "execute_result",
          "data": {
            "text/plain": [
              "314"
            ]
          },
          "metadata": {},
          "execution_count": 7
        }
      ],
      "source": [
        "# code goes here\n",
        "theSuburbs = df['Suburb']\n",
        "numSuburbs = pd.Series.nunique(theSuburbs)\n",
        "numSuburbs"
      ]
    },
    {
      "cell_type": "code",
      "source": [
        "# Another approach\n",
        "df['Suburb'].nunique()"
      ],
      "metadata": {
        "colab": {
          "base_uri": "https://localhost:8080/"
        },
        "id": "m796UOodU3gb",
        "outputId": "60e418ea-5f7c-46d2-f96a-7feddb1a5beb"
      },
      "execution_count": null,
      "outputs": [
        {
          "output_type": "execute_result",
          "data": {
            "text/plain": [
              "314"
            ]
          },
          "metadata": {},
          "execution_count": 8
        }
      ]
    },
    {
      "cell_type": "markdown",
      "metadata": {
        "id": "e6X1RCrUX1_1"
      },
      "source": [
        "## Q3 - How many unique properties are there?\n",
        "\n",
        "If you forget the names of the columns you can always type:\n",
        "\n",
        "`df.columns` \n",
        "\n",
        "in a cell by itself to see this list of column names."
      ]
    },
    {
      "cell_type": "code",
      "execution_count": null,
      "metadata": {
        "id": "ER7hBbf9X1_2",
        "colab": {
          "base_uri": "https://localhost:8080/"
        },
        "outputId": "e377b14b-6150-4a90-c899-25c5d2379a33"
      },
      "outputs": [
        {
          "output_type": "execute_result",
          "data": {
            "text/plain": [
              "Index(['Suburb', 'Address', 'Rooms', 'Type', 'Price', 'Method', 'SellerG',\n",
              "       'Date', 'Distance', 'Postcode', 'Bedroom2', 'Bathroom', 'Car',\n",
              "       'Landsize', 'BuildingArea', 'YearBuilt', 'CouncilArea', 'Lattitude',\n",
              "       'Longtitude', 'Regionname', 'Propertycount'],\n",
              "      dtype='object')"
            ]
          },
          "metadata": {},
          "execution_count": 10
        }
      ],
      "source": [
        "# listing the columns\n",
        "df.columns"
      ]
    },
    {
      "cell_type": "code",
      "source": [
        "# code goes here\n",
        "numProperties = pd.Series.nunique(df['Address'])\n",
        "numProperties"
      ],
      "metadata": {
        "colab": {
          "base_uri": "https://localhost:8080/"
        },
        "id": "kOKNmuwhVHgO",
        "outputId": "34584717-b2be-469b-a0b6-883165a95bf4"
      },
      "execution_count": null,
      "outputs": [
        {
          "output_type": "execute_result",
          "data": {
            "text/plain": [
              "13378"
            ]
          },
          "metadata": {},
          "execution_count": 11
        }
      ]
    },
    {
      "cell_type": "markdown",
      "metadata": {
        "id": "BtVI3MNMX1_2"
      },
      "source": [
        "## Q4 - What is the mean price of a property in the Kensington suburb?\n",
        "\n",
        "You are getting the hang of reading the documentation!  Try finding the function\n",
        "for mean yourself at the [root page](https://pandas.pydata.org/pandas-docs/stable/index.html) of the documentation."
      ]
    },
    {
      "cell_type": "code",
      "execution_count": null,
      "metadata": {
        "id": "Z9l57TjwX1_3",
        "colab": {
          "base_uri": "https://localhost:8080/"
        },
        "outputId": "ee737635-9aea-4e71-a3de-048ed23aab3a"
      },
      "outputs": [
        {
          "output_type": "execute_result",
          "data": {
            "text/plain": [
              "831667.4358974359"
            ]
          },
          "metadata": {},
          "execution_count": 12
        }
      ],
      "source": [
        "# code goes here\n",
        "allKensington = df[df['Suburb']=='Kensington']\n",
        "allKensington['Price'].mean()"
      ]
    },
    {
      "cell_type": "markdown",
      "metadata": {
        "id": "-8ZCoblfX1_4"
      },
      "source": [
        "## Q5 - What percentage of properties contain a YearBuilt value?"
      ]
    },
    {
      "cell_type": "code",
      "execution_count": null,
      "metadata": {
        "id": "mRRvcWjQX1_4",
        "colab": {
          "base_uri": "https://localhost:8080/"
        },
        "outputId": "7039d5bf-e9d1-4214-a928-7723bffef678"
      },
      "outputs": [
        {
          "output_type": "execute_result",
          "data": {
            "text/plain": [
              "60.41973490427098"
            ]
          },
          "metadata": {},
          "execution_count": 13
        }
      ],
      "source": [
        "# code goes here\n",
        "yearBuilt = df[df['YearBuilt'].notnull()]\n",
        "percentYear = (len(yearBuilt) / len(df)) * 100\n",
        "percentYear"
      ]
    },
    {
      "cell_type": "code",
      "source": [
        "# Different approach\n",
        "per = len(df[df['YearBuilt'].notna()]) / len(df) * 100\n",
        "print(f'{per:.2f}')"
      ],
      "metadata": {
        "colab": {
          "base_uri": "https://localhost:8080/"
        },
        "id": "KWzQW_ARWd52",
        "outputId": "213afb65-b955-495c-9879-593cd5ccd637"
      },
      "execution_count": null,
      "outputs": [
        {
          "output_type": "stream",
          "name": "stdout",
          "text": [
            "60.42\n"
          ]
        }
      ]
    },
    {
      "cell_type": "markdown",
      "metadata": {
        "id": "aiQCYn_IX1_4"
      },
      "source": [
        "## Q6 - Plot the Landsize as a histogram using 20 bins. Say something interesting about the graph.\n",
        "\n",
        "Matplotlib is [here](https://matplotlib.org/3.3.3/api/_as_gen/matplotlib.pyplot.hist.html) to help. \n",
        "\n",
        "In data visualization we discuss the \"Ink Ratio\" of creating graphics.  If you use the definalt bin sizes of the matplotlib histogram function, you will find that the histogram is not very informative.  Use the documentation to guide you to adjust the width of the bins in the histogram to make one _really_ wide bin on the right, and the rest of the bins equally distributed where most of the data resides. "
      ]
    },
    {
      "cell_type": "code",
      "execution_count": null,
      "metadata": {
        "id": "Oo6vG_lMX1_5",
        "colab": {
          "base_uri": "https://localhost:8080/",
          "height": 352
        },
        "outputId": "2abd44b8-8a74-4a2d-97ea-1a029280965f"
      },
      "outputs": [
        {
          "output_type": "execute_result",
          "data": {
            "text/plain": [
              "(array([1.3576e+04, 3.0000e+00, 0.0000e+00, 0.0000e+00, 0.0000e+00,\n",
              "        0.0000e+00, 0.0000e+00, 0.0000e+00, 0.0000e+00, 1.0000e+00]),\n",
              " array([     0. ,  43301.4,  86602.8, 129904.2, 173205.6, 216507. ,\n",
              "        259808.4, 303109.8, 346411.2, 389712.6, 433014. ]),\n",
              " <a list of 10 Patch objects>)"
            ]
          },
          "metadata": {},
          "execution_count": 46
        },
        {
          "output_type": "display_data",
          "data": {
            "text/plain": [
              "<Figure size 432x288 with 1 Axes>"
            ],
            "image/png": "[encoded data removed]"
          },
          "metadata": {
            "needs_background": "light"
          }
        }
      ],
      "source": [
        "# code goes here\n",
        "#initial approach, to see data\n",
        "import matplotlib.pyplot as plt\n",
        "df\n",
        "landSize = df['Landsize']\n",
        "plt.hist(landSize)"
      ]
    },
    {
      "cell_type": "code",
      "source": [
        "plt.boxplot(landSize,vert = 0)"
      ],
      "metadata": {
        "colab": {
          "base_uri": "https://localhost:8080/",
          "height": 404
        },
        "id": "rjw3_Oigcmmv",
        "outputId": "35147a3b-7e95-4de2-a9d3-b8077ef01b53"
      },
      "execution_count": null,
      "outputs": [
        {
          "output_type": "execute_result",
          "data": {
            "text/plain": [
              "{'whiskers': [<matplotlib.lines.Line2D at 0x7ff2197aa2b0>,\n",
              "  <matplotlib.lines.Line2D at 0x7ff2197aa610>],\n",
              " 'caps': [<matplotlib.lines.Line2D at 0x7ff2197aa970>,\n",
              "  <matplotlib.lines.Line2D at 0x7ff2197aacd0>],\n",
              " 'boxes': [<matplotlib.lines.Line2D at 0x7ff21979bf10>],\n",
              " 'medians': [<matplotlib.lines.Line2D at 0x7ff2197b3070>],\n",
              " 'fliers': [<matplotlib.lines.Line2D at 0x7ff2197b3370>],\n",
              " 'means': []}"
            ]
          },
          "metadata": {},
          "execution_count": 53
        },
        {
          "output_type": "display_data",
          "data": {
            "text/plain": [
              "<Figure size 432x288 with 1 Axes>"
            ],
            "image/png": "[encoded data removed]"
          },
          "metadata": {
            "needs_background": "light"
          }
        }
      ]
    },
    {
      "cell_type": "code",
      "source": [
        "# As we can see from the boxplot, there is an outlier which is larger than 400000!\n",
        "# So we gonna ignore and scale down our bin range..."
      ],
      "metadata": {
        "id": "geJqI7Sydugf"
      },
      "execution_count": null,
      "outputs": []
    },
    {
      "cell_type": "code",
      "source": [
        "plt.hist(landSize,bins=range(0, 5000,250))"
      ],
      "metadata": {
        "colab": {
          "base_uri": "https://localhost:8080/",
          "height": 369
        },
        "id": "QcPnN9-Addxn",
        "outputId": "c610ac56-bd4d-40c5-d604-09815dda1655"
      },
      "execution_count": null,
      "outputs": [
        {
          "output_type": "execute_result",
          "data": {
            "text/plain": [
              "(array([4571., 2821., 4383., 1132.,  259.,   83.,   52.,   40.,   42.,\n",
              "          31.,   14.,   17.,   12.,    6.,    8.,   10.,   10.,   14.,\n",
              "           8.]),\n",
              " array([   0,  250,  500,  750, 1000, 1250, 1500, 1750, 2000, 2250, 2500,\n",
              "        2750, 3000, 3250, 3500, 3750, 4000, 4250, 4500, 4750]),\n",
              " <a list of 19 Patch objects>)"
            ]
          },
          "metadata": {},
          "execution_count": 52
        },
        {
          "output_type": "display_data",
          "data": {
            "text/plain": [
              "<Figure size 432x288 with 1 Axes>"
            ],
            "image/png": "[encoded data removed]"
          },
          "metadata": {
            "needs_background": "light"
          }
        }
      ]
    },
    {
      "cell_type": "code",
      "source": [
        "plt.hist(landSize,bins=range(0, 2000,100))"
      ],
      "metadata": {
        "colab": {
          "base_uri": "https://localhost:8080/",
          "height": 369
        },
        "id": "LFH9BOXRZx6_",
        "outputId": "44076041-b0d6-432a-a766-d7cf1da629af"
      },
      "execution_count": null,
      "outputs": [
        {
          "output_type": "execute_result",
          "data": {
            "text/plain": [
              "(array([2248., 1550., 1449., 1167.,  978., 1681., 2026., 1102.,  475.,\n",
              "         231.,  166.,   68.,   49.,   31.,   28.,   23.,   22.,   19.,\n",
              "          15.]),\n",
              " array([   0,  100,  200,  300,  400,  500,  600,  700,  800,  900, 1000,\n",
              "        1100, 1200, 1300, 1400, 1500, 1600, 1700, 1800, 1900]),\n",
              " <a list of 19 Patch objects>)"
            ]
          },
          "metadata": {},
          "execution_count": 43
        },
        {
          "output_type": "display_data",
          "data": {
            "text/plain": [
              "<Figure size 432x288 with 1 Axes>"
            ],
            "image/png": "[encoded data removed]"
          },
          "metadata": {
            "needs_background": "light"
          }
        }
      ]
    },
    {
      "cell_type": "code",
      "source": [
        "plt.hist(landSize,bins=range(0, 1000,50))"
      ],
      "metadata": {
        "colab": {
          "base_uri": "https://localhost:8080/",
          "height": 369
        },
        "id": "1qEi8QiHbnfm",
        "outputId": "d4b9beb1-cc95-4b62-e9e7-c1e6d1a3bc0d"
      },
      "execution_count": null,
      "outputs": [
        {
          "output_type": "execute_result",
          "data": {
            "text/plain": [
              "(array([1969.,  279.,  679.,  871.,  773.,  676.,  689.,  478.,  475.,\n",
              "         503.,  674., 1007., 1004., 1022.,  676.,  426.,  307.,  168.,\n",
              "         143.]),\n",
              " array([  0,  50, 100, 150, 200, 250, 300, 350, 400, 450, 500, 550, 600,\n",
              "        650, 700, 750, 800, 850, 900, 950]),\n",
              " <a list of 19 Patch objects>)"
            ]
          },
          "metadata": {},
          "execution_count": 45
        },
        {
          "output_type": "display_data",
          "data": {
            "text/plain": [
              "<Figure size 432x288 with 1 Axes>"
            ],
            "image/png": "[encoded data removed]"
          },
          "metadata": {
            "needs_background": "light"
          }
        }
      ]
    },
    {
      "cell_type": "code",
      "source": [
        "# We scaled down tp (0,1000) and (0,2000) which we can observe that the landSize hist is skewed to the right and the majority of lands are less han 1000. "
      ],
      "metadata": {
        "id": "2m_q2548b2It"
      },
      "execution_count": null,
      "outputs": []
    },
    {
      "cell_type": "markdown",
      "metadata": {
        "id": "yd42RX90X1_5"
      },
      "source": [
        "## Q7 - Plot a scatter plot of price as a function of BuildingArea using only rows that have a valid BuildingArea value\n",
        "\n",
        "Break this down into slicing the DataFrame first, then creating the visualization.  There are both `plot` and `scatter` functions in the matplotlib library that can help here.  You'll notice there is more than one way to do a thing so much in computer science 😄\n",
        "\n",
        "If you have to change your axes and end up excluding some points to make the data more visible, then annotate the number of points excluded in the graph. "
      ]
    },
    {
      "cell_type": "code",
      "execution_count": null,
      "metadata": {
        "id": "8rCVjyRkX1_5",
        "colab": {
          "base_uri": "https://localhost:8080/",
          "height": 280
        },
        "outputId": "eff33d95-7243-4f29-8bd6-4bc12131c4e7"
      },
      "outputs": [
        {
          "output_type": "execute_result",
          "data": {
            "text/plain": [
              "       Suburb          Address  Rooms Type      Price Method SellerG  \\\n",
              "0  Abbotsford  25 Bloomburg St      2    h  1035000.0      S  Biggin   \n",
              "1  Abbotsford     5 Charles St      3    h  1465000.0     SP  Biggin   \n",
              "2  Abbotsford      55a Park St      4    h  1600000.0     VB  Nelson   \n",
              "3  Abbotsford     124 Yarra St      3    h  1876000.0      S  Nelson   \n",
              "4  Abbotsford    98 Charles St      2    h  1636000.0      S  Nelson   \n",
              "\n",
              "        Date  Distance  Postcode  ...  Bathroom  Car  Landsize  BuildingArea  \\\n",
              "0  4/02/2016       2.5    3067.0  ...       1.0  0.0     156.0          79.0   \n",
              "1  4/03/2017       2.5    3067.0  ...       2.0  0.0     134.0         150.0   \n",
              "2  4/06/2016       2.5    3067.0  ...       1.0  2.0     120.0         142.0   \n",
              "3  7/05/2016       2.5    3067.0  ...       2.0  0.0     245.0         210.0   \n",
              "4  8/10/2016       2.5    3067.0  ...       1.0  2.0     256.0         107.0   \n",
              "\n",
              "   YearBuilt  CouncilArea Lattitude  Longtitude             Regionname  \\\n",
              "0     1900.0        Yarra  -37.8079    144.9934  Northern Metropolitan   \n",
              "1     1900.0        Yarra  -37.8093    144.9944  Northern Metropolitan   \n",
              "2     2014.0        Yarra  -37.8072    144.9941  Northern Metropolitan   \n",
              "3     1910.0        Yarra  -37.8024    144.9993  Northern Metropolitan   \n",
              "4     1890.0        Yarra  -37.8060    144.9954  Northern Metropolitan   \n",
              "\n",
              "  Propertycount  \n",
              "0        4019.0  \n",
              "1        4019.0  \n",
              "2        4019.0  \n",
              "3        4019.0  \n",
              "4        4019.0  \n",
              "\n",
              "[5 rows x 21 columns]"
            ],
            "text/html": [
              "\n",
              "  <div id=\"df-d8e2132c-775f-4c84-98a7-7b028901e1a6\">\n",
              "    <div class=\"colab-df-container\">\n",
              "      <div>\n",
              "<style scoped>\n",
              "    .dataframe tbody tr th:only-of-type {\n",
              "        vertical-align: middle;\n",
              "    }\n",
              "\n",
              "    .dataframe tbody tr th {\n",
              "        vertical-align: top;\n",
              "    }\n",
              "\n",
              "    .dataframe thead th {\n",
              "        text-align: right;\n",
              "    }\n",
              "</style>\n",
              "<table border=\"1\" class=\"dataframe\">\n",
              "  <thead>\n",
              "    <tr style=\"text-align: right;\">\n",
              "      <th></th>\n",
              "      <th>Suburb</th>\n",
              "      <th>Address</th>\n",
              "      <th>Rooms</th>\n",
              "      <th>Type</th>\n",
              "      <th>Price</th>\n",
              "      <th>Method</th>\n",
              "      <th>SellerG</th>\n",
              "      <th>Date</th>\n",
              "      <th>Distance</th>\n",
              "      <th>Postcode</th>\n",
              "      <th>...</th>\n",
              "      <th>Bathroom</th>\n",
              "      <th>Car</th>\n",
              "      <th>Landsize</th>\n",
              "      <th>BuildingArea</th>\n",
              "      <th>YearBuilt</th>\n",
              "      <th>CouncilArea</th>\n",
              "      <th>Lattitude</th>\n",
              "      <th>Longtitude</th>\n",
              "      <th>Regionname</th>\n",
              "      <th>Propertycount</th>\n",
              "    </tr>\n",
              "  </thead>\n",
              "  <tbody>\n",
              "    <tr>\n",
              "      <th>0</th>\n",
              "      <td>Abbotsford</td>\n",
              "      <td>25 Bloomburg St</td>\n",
              "      <td>2</td>\n",
              "      <td>h</td>\n",
              "      <td>1035000.0</td>\n",
              "      <td>S</td>\n",
              "      <td>Biggin</td>\n",
              "      <td>4/02/2016</td>\n",
              "      <td>2.5</td>\n",
              "      <td>3067.0</td>\n",
              "      <td>...</td>\n",
              "      <td>1.0</td>\n",
              "      <td>0.0</td>\n",
              "      <td>156.0</td>\n",
              "      <td>79.0</td>\n",
              "      <td>1900.0</td>\n",
              "      <td>Yarra</td>\n",
              "      <td>-37.8079</td>\n",
              "      <td>144.9934</td>\n",
              "      <td>Northern Metropolitan</td>\n",
              "      <td>4019.0</td>\n",
              "    </tr>\n",
              "    <tr>\n",
              "      <th>1</th>\n",
              "      <td>Abbotsford</td>\n",
              "      <td>5 Charles St</td>\n",
              "      <td>3</td>\n",
              "      <td>h</td>\n",
              "      <td>1465000.0</td>\n",
              "      <td>SP</td>\n",
              "      <td>Biggin</td>\n",
              "      <td>4/03/2017</td>\n",
              "      <td>2.5</td>\n",
              "      <td>3067.0</td>\n",
              "      <td>...</td>\n",
              "      <td>2.0</td>\n",
              "      <td>0.0</td>\n",
              "      <td>134.0</td>\n",
              "      <td>150.0</td>\n",
              "      <td>1900.0</td>\n",
              "      <td>Yarra</td>\n",
              "      <td>-37.8093</td>\n",
              "      <td>144.9944</td>\n",
              "      <td>Northern Metropolitan</td>\n",
              "      <td>4019.0</td>\n",
              "    </tr>\n",
              "    <tr>\n",
              "      <th>2</th>\n",
              "      <td>Abbotsford</td>\n",
              "      <td>55a Park St</td>\n",
              "      <td>4</td>\n",
              "      <td>h</td>\n",
              "      <td>1600000.0</td>\n",
              "      <td>VB</td>\n",
              "      <td>Nelson</td>\n",
              "      <td>4/06/2016</td>\n",
              "      <td>2.5</td>\n",
              "      <td>3067.0</td>\n",
              "      <td>...</td>\n",
              "      <td>1.0</td>\n",
              "      <td>2.0</td>\n",
              "      <td>120.0</td>\n",
              "      <td>142.0</td>\n",
              "      <td>2014.0</td>\n",
              "      <td>Yarra</td>\n",
              "      <td>-37.8072</td>\n",
              "      <td>144.9941</td>\n",
              "      <td>Northern Metropolitan</td>\n",
              "      <td>4019.0</td>\n",
              "    </tr>\n",
              "    <tr>\n",
              "      <th>3</th>\n",
              "      <td>Abbotsford</td>\n",
              "      <td>124 Yarra St</td>\n",
              "      <td>3</td>\n",
              "      <td>h</td>\n",
              "      <td>1876000.0</td>\n",
              "      <td>S</td>\n",
              "      <td>Nelson</td>\n",
              "      <td>7/05/2016</td>\n",
              "      <td>2.5</td>\n",
              "      <td>3067.0</td>\n",
              "      <td>...</td>\n",
              "      <td>2.0</td>\n",
              "      <td>0.0</td>\n",
              "      <td>245.0</td>\n",
              "      <td>210.0</td>\n",
              "      <td>1910.0</td>\n",
              "      <td>Yarra</td>\n",
              "      <td>-37.8024</td>\n",
              "      <td>144.9993</td>\n",
              "      <td>Northern Metropolitan</td>\n",
              "      <td>4019.0</td>\n",
              "    </tr>\n",
              "    <tr>\n",
              "      <th>4</th>\n",
              "      <td>Abbotsford</td>\n",
              "      <td>98 Charles St</td>\n",
              "      <td>2</td>\n",
              "      <td>h</td>\n",
              "      <td>1636000.0</td>\n",
              "      <td>S</td>\n",
              "      <td>Nelson</td>\n",
              "      <td>8/10/2016</td>\n",
              "      <td>2.5</td>\n",
              "      <td>3067.0</td>\n",
              "      <td>...</td>\n",
              "      <td>1.0</td>\n",
              "      <td>2.0</td>\n",
              "      <td>256.0</td>\n",
              "      <td>107.0</td>\n",
              "      <td>1890.0</td>\n",
              "      <td>Yarra</td>\n",
              "      <td>-37.8060</td>\n",
              "      <td>144.9954</td>\n",
              "      <td>Northern Metropolitan</td>\n",
              "      <td>4019.0</td>\n",
              "    </tr>\n",
              "  </tbody>\n",
              "</table>\n",
              "<p>5 rows × 21 columns</p>\n",
              "</div>\n",
              "      <button class=\"colab-df-convert\" onclick=\"convertToInteractive('df-d8e2132c-775f-4c84-98a7-7b028901e1a6')\"\n",
              "              title=\"Convert this dataframe to an interactive table.\"\n",
              "              style=\"display:none;\">\n",
              "        \n",
              "  <svg xmlns=\"http://www.w3.org/2000/svg\" height=\"24px\"viewBox=\"0 0 24 24\"\n",
              "       width=\"24px\">\n",
              "    <path d=\"M0 0h24v24H0V0z\" fill=\"none\"/>\n",
              "    <path d=\"M18.56 5.44l.94 2.06.94-2.06 2.06-.94-2.06-.94-.94-2.06-.94 2.06-2.06.94zm-11 1L8.5 8.5l.94-2.06 2.06-.94-2.06-.94L8.5 2.5l-.94 2.06-2.06.94zm10 10l.94 2.06.94-2.06 2.06-.94-2.06-.94-.94-2.06-.94 2.06-2.06.94z\"/><path d=\"M17.41 7.96l-1.37-1.37c-.4-.4-.92-.59-1.43-.59-.52 0-1.04.2-1.43.59L10.3 9.45l-7.72 7.72c-.78.78-.78 2.05 0 2.83L4 21.41c.39.39.9.59 1.41.59.51 0 1.02-.2 1.41-.59l7.78-7.78 2.81-2.81c.8-.78.8-2.07 0-2.86zM5.41 20L4 18.59l7.72-7.72 1.47 1.35L5.41 20z\"/>\n",
              "  </svg>\n",
              "      </button>\n",
              "      \n",
              "  <style>\n",
              "    .colab-df-container {\n",
              "      display:flex;\n",
              "      flex-wrap:wrap;\n",
              "      gap: 12px;\n",
              "    }\n",
              "\n",
              "    .colab-df-convert {\n",
              "      background-color: #E8F0FE;\n",
              "      border: none;\n",
              "      border-radius: 50%;\n",
              "      cursor: pointer;\n",
              "      display: none;\n",
              "      fill: #1967D2;\n",
              "      height: 32px;\n",
              "      padding: 0 0 0 0;\n",
              "      width: 32px;\n",
              "    }\n",
              "\n",
              "    .colab-df-convert:hover {\n",
              "      background-color: #E2EBFA;\n",
              "      box-shadow: 0px 1px 2px rgba(60, 64, 67, 0.3), 0px 1px 3px 1px rgba(60, 64, 67, 0.15);\n",
              "      fill: #174EA6;\n",
              "    }\n",
              "\n",
              "    [theme=dark] .colab-df-convert {\n",
              "      background-color: #3B4455;\n",
              "      fill: #D2E3FC;\n",
              "    }\n",
              "\n",
              "    [theme=dark] .colab-df-convert:hover {\n",
              "      background-color: #434B5C;\n",
              "      box-shadow: 0px 1px 3px 1px rgba(0, 0, 0, 0.15);\n",
              "      filter: drop-shadow(0px 1px 2px rgba(0, 0, 0, 0.3));\n",
              "      fill: #FFFFFF;\n",
              "    }\n",
              "  </style>\n",
              "\n",
              "      <script>\n",
              "        const buttonEl =\n",
              "          document.querySelector('#df-d8e2132c-775f-4c84-98a7-7b028901e1a6 button.colab-df-convert');\n",
              "        buttonEl.style.display =\n",
              "          google.colab.kernel.accessAllowed ? 'block' : 'none';\n",
              "\n",
              "        async function convertToInteractive(key) {\n",
              "          const element = document.querySelector('#df-d8e2132c-775f-4c84-98a7-7b028901e1a6');\n",
              "          const dataTable =\n",
              "            await google.colab.kernel.invokeFunction('convertToInteractive',\n",
              "                                                     [key], {});\n",
              "          if (!dataTable) return;\n",
              "\n",
              "          const docLinkHtml = 'Like what you see? Visit the ' +\n",
              "            '<a target=\"_blank\" href=https://colab.research.google.com/notebooks/data_table.ipynb>data table notebook</a>'\n",
              "            + ' to learn more about interactive tables.';\n",
              "          element.innerHTML = '';\n",
              "          dataTable['output_type'] = 'display_data';\n",
              "          await google.colab.output.renderOutput(dataTable, element);\n",
              "          const docLink = document.createElement('div');\n",
              "          docLink.innerHTML = docLinkHtml;\n",
              "          element.appendChild(docLink);\n",
              "        }\n",
              "      </script>\n",
              "    </div>\n",
              "  </div>\n",
              "  "
            ]
          },
          "metadata": {},
          "execution_count": 77
        }
      ],
      "source": [
        "# reconstructing a new data frame with valid Building Area rows\n",
        "df_valid_BuilArea = df[df['BuildingArea'].notna()]\n",
        "# reindexing\n",
        "df_valid_BuilArea = df_valid_BuilArea.reset_index(drop=True)\n",
        "df_valid_BuilArea.head()"
      ]
    },
    {
      "cell_type": "code",
      "source": [
        "len(df_valid_BuilArea)"
      ],
      "metadata": {
        "colab": {
          "base_uri": "https://localhost:8080/"
        },
        "id": "PVNQvMrrhaYj",
        "outputId": "cc9b196a-1efe-45eb-d152-70ec80f8e8e5"
      },
      "execution_count": null,
      "outputs": [
        {
          "output_type": "execute_result",
          "data": {
            "text/plain": [
              "7130"
            ]
          },
          "metadata": {},
          "execution_count": 78
        }
      ]
    },
    {
      "cell_type": "code",
      "source": [
        "# code goes here\n",
        "\n",
        "plt.scatter(df_valid_BuilArea['BuildingArea'],df_valid_BuilArea['Price'])"
      ],
      "metadata": {
        "colab": {
          "base_uri": "https://localhost:8080/",
          "height": 293
        },
        "id": "rj4eZsnYfMBf",
        "outputId": "7e41a823-8b61-4072-87bf-83f5d05e4145"
      },
      "execution_count": null,
      "outputs": [
        {
          "output_type": "execute_result",
          "data": {
            "text/plain": [
              "<matplotlib.collections.PathCollection at 0x7ff21942cb80>"
            ]
          },
          "metadata": {},
          "execution_count": 79
        },
        {
          "output_type": "display_data",
          "data": {
            "text/plain": [
              "<Figure size 432x288 with 1 Axes>"
            ],
            "image/png": "[encoded data removed]"
          },
          "metadata": {
            "needs_background": "light"
          }
        }
      ]
    },
    {
      "cell_type": "code",
      "source": [
        "plt.boxplot(df_valid_BuilArea['BuildingArea'],vert = 0)"
      ],
      "metadata": {
        "colab": {
          "base_uri": "https://localhost:8080/",
          "height": 404
        },
        "id": "8oClpZfGgl3H",
        "outputId": "8e9ba0a7-1cfe-4915-ad36-6f57be59eeb4"
      },
      "execution_count": null,
      "outputs": [
        {
          "output_type": "execute_result",
          "data": {
            "text/plain": [
              "{'whiskers': [<matplotlib.lines.Line2D at 0x7ff219390340>,\n",
              "  <matplotlib.lines.Line2D at 0x7ff2193906a0>],\n",
              " 'caps': [<matplotlib.lines.Line2D at 0x7ff219390a00>,\n",
              "  <matplotlib.lines.Line2D at 0x7ff219390d60>],\n",
              " 'boxes': [<matplotlib.lines.Line2D at 0x7ff219402fa0>],\n",
              " 'medians': [<matplotlib.lines.Line2D at 0x7ff21939c100>],\n",
              " 'fliers': [<matplotlib.lines.Line2D at 0x7ff21939c400>],\n",
              " 'means': []}"
            ]
          },
          "metadata": {},
          "execution_count": 80
        },
        {
          "output_type": "display_data",
          "data": {
            "text/plain": [
              "<Figure size 432x288 with 1 Axes>"
            ],
            "image/png": "[encoded data removed]"
          },
          "metadata": {
            "needs_background": "light"
          }
        }
      ]
    },
    {
      "cell_type": "code",
      "source": [
        "df_valid_BuilArea = df_valid_BuilArea[df_valid_BuilArea['BuildingArea'] < 400]\n",
        "# reindexing\n",
        "df_valid_BuilArea = df_valid_BuilArea.reset_index(drop=True)\n",
        "len(df_valid_BuilArea)"
      ],
      "metadata": {
        "colab": {
          "base_uri": "https://localhost:8080/"
        },
        "id": "S81gxFJ-ggq7",
        "outputId": "7f221ec5-c286-47f1-a05f-99d6f5fb48a9"
      },
      "execution_count": null,
      "outputs": [
        {
          "output_type": "execute_result",
          "data": {
            "text/plain": [
              "7018"
            ]
          },
          "metadata": {},
          "execution_count": 83
        }
      ]
    },
    {
      "cell_type": "code",
      "source": [
        "plt.scatter(df_valid_BuilArea['BuildingArea'],df_valid_BuilArea['Price'])"
      ],
      "metadata": {
        "colab": {
          "base_uri": "https://localhost:8080/",
          "height": 293
        },
        "id": "095swoh7hDHq",
        "outputId": "f09ea14d-85a1-412f-9032-7222e01dae6e"
      },
      "execution_count": null,
      "outputs": [
        {
          "output_type": "execute_result",
          "data": {
            "text/plain": [
              "<matplotlib.collections.PathCollection at 0x7ff219296430>"
            ]
          },
          "metadata": {},
          "execution_count": 85
        },
        {
          "output_type": "display_data",
          "data": {
            "text/plain": [
              "<Figure size 432x288 with 1 Axes>"
            ],
            "image/png": "[encoded data removed]"
          },
          "metadata": {
            "needs_background": "light"
          }
        }
      ]
    },
    {
      "cell_type": "code",
      "source": [
        "# We removed 112 data points to come up with this scsatter plot. "
      ],
      "metadata": {
        "id": "ZxlC0ndapCvY"
      },
      "execution_count": null,
      "outputs": []
    },
    {
      "cell_type": "markdown",
      "metadata": {
        "id": "JBJ-e7kXX1_6"
      },
      "source": [
        "## Q8 - List the top 10 SellerG, and what percentage of properties they have listed \n",
        "\n",
        "I'm going to assume that the SellerG column is the name of the seller group, so \"realtor\" in US parlance.  So, that column is interpreted as the seller that listed the property.\n",
        "\n",
        "Check out the function `value_counts` in pandas documentation. "
      ]
    },
    {
      "cell_type": "code",
      "execution_count": null,
      "metadata": {
        "id": "UgG7EEkMX1_6",
        "colab": {
          "base_uri": "https://localhost:8080/"
        },
        "outputId": "0848ab0e-1ae3-4dcd-90be-92e5e278ccd2"
      },
      "outputs": [
        {
          "output_type": "stream",
          "name": "stdout",
          "text": [
            "59.55\n"
          ]
        }
      ],
      "source": [
        "# code goes here\n",
        "per = (df['SellerG'].value_counts().head(10).sum() / df['SellerG'].value_counts().sum() ) * 100\n",
        "print(f'{per:.2f}')"
      ]
    },
    {
      "cell_type": "markdown",
      "metadata": {
        "id": "5MBx3GOSX1_6"
      },
      "source": [
        "## Q9 - Fix a problem\n",
        "Your boss has told you that the number of rooms was calculated incorrectly systematically across the entire data set.  Add one room to the Rooms column using two methods:\n",
        "\n",
        " - a for loop, and\n",
        " - using a single statement\n",
        " \n",
        "Save those DataFrames into the variables `df1` and `df2`.  (We don't use these again, for the next questions just continue using `df`)\n",
        "\n",
        "Watch out that you don't accidentally change the original DataFrame using a shallow copy."
      ]
    },
    {
      "cell_type": "code",
      "execution_count": null,
      "metadata": {
        "id": "r0ShZHNWX1_6",
        "colab": {
          "base_uri": "https://localhost:8080/"
        },
        "outputId": "60758685-84ae-4217-f8a6-ba25b0f37b21"
      },
      "outputs": [
        {
          "output_type": "execute_result",
          "data": {
            "text/plain": [
              "0        3\n",
              "1        3\n",
              "2        4\n",
              "3        4\n",
              "4        5\n",
              "        ..\n",
              "13575    5\n",
              "13576    4\n",
              "13577    4\n",
              "13578    5\n",
              "13579    5\n",
              "Name: Rooms, Length: 13580, dtype: int64"
            ]
          },
          "metadata": {},
          "execution_count": 108
        }
      ],
      "source": [
        "# code goes here\n",
        "# Using a single statement\n",
        "df1 = df.copy()\n",
        "df1['Rooms'] = df1['Rooms'] + 1\n",
        "df1['Rooms']"
      ]
    },
    {
      "cell_type": "code",
      "source": [
        "# Using for loop\n",
        "df2 = df.copy()\n",
        "for i in range(len(df)):\n",
        "  df2['Rooms'][i] += 1\n",
        "df2['Rooms']"
      ],
      "metadata": {
        "colab": {
          "base_uri": "https://localhost:8080/"
        },
        "id": "G1_GQ6NHvpZQ",
        "outputId": "58232e5a-4144-482c-bfcb-05b1b5bba679"
      },
      "execution_count": null,
      "outputs": [
        {
          "output_type": "stream",
          "name": "stderr",
          "text": [
            "<ipython-input-110-6404ed868236>:3: SettingWithCopyWarning: \n",
            "A value is trying to be set on a copy of a slice from a DataFrame\n",
            "\n",
            "See the caveats in the documentation: https://pandas.pydata.org/pandas-docs/stable/user_guide/indexing.html#returning-a-view-versus-a-copy\n",
            "  df2['Rooms'][i] += 1\n"
          ]
        },
        {
          "output_type": "execute_result",
          "data": {
            "text/plain": [
              "0        3\n",
              "1        3\n",
              "2        4\n",
              "3        4\n",
              "4        5\n",
              "        ..\n",
              "13575    5\n",
              "13576    4\n",
              "13577    4\n",
              "13578    5\n",
              "13579    5\n",
              "Name: Rooms, Length: 13580, dtype: int64"
            ]
          },
          "metadata": {},
          "execution_count": 110
        }
      ]
    },
    {
      "cell_type": "markdown",
      "metadata": {
        "id": "FygRoLlQX1_6"
      },
      "source": [
        "## Q10- What is the Address of the earliest built house in the data set?\n",
        "\n",
        "This will exercise your DataFrame slicing ability. "
      ]
    },
    {
      "cell_type": "code",
      "execution_count": null,
      "metadata": {
        "id": "82HQO9rUX1_7",
        "colab": {
          "base_uri": "https://localhost:8080/"
        },
        "outputId": "3e90cb7a-e50a-4db2-e2a4-fe303236c559"
      },
      "outputs": [
        {
          "output_type": "execute_result",
          "data": {
            "text/plain": [
              "1196.0"
            ]
          },
          "metadata": {},
          "execution_count": 120
        }
      ],
      "source": [
        "# code goes here\n",
        "df['YearBuilt'].min()"
      ]
    },
    {
      "cell_type": "markdown",
      "metadata": {
        "id": "4N996VLjX1_7"
      },
      "source": [
        "## Q11 - Save a file \n",
        "\n",
        "The council member for Melbourne has asked for the information for their district.  Assume that there are legal restrcitions and we can only provide the council member the Suburb, Price, and Date from the CouncilArea \"Melbourne\" to the council person.  Export the file with only the allowed columns, and do not write and index column.\n",
        "\n",
        "The other half of `read_csv`, is `to_csv`.  Make sure you follow the documentation and only include the columns asked for in the output."
      ]
    },
    {
      "cell_type": "code",
      "execution_count": null,
      "metadata": {
        "id": "MM_CwR9tX1_7",
        "colab": {
          "base_uri": "https://localhost:8080/",
          "height": 424
        },
        "outputId": "d9515d10-06eb-49d8-df42-eaae02d92859"
      },
      "outputs": [
        {
          "output_type": "execute_result",
          "data": {
            "text/plain": [
              "              Suburb      Price        Date\n",
              "0         Abbotsford  1480000.0   3/12/2016\n",
              "1         Abbotsford  1035000.0   4/02/2016\n",
              "2         Abbotsford  1465000.0   4/03/2017\n",
              "3         Abbotsford   850000.0   4/03/2017\n",
              "4         Abbotsford  1600000.0   4/06/2016\n",
              "...              ...        ...         ...\n",
              "13575  Wheelers Hill  1245000.0  26/08/2017\n",
              "13576   Williamstown  1031000.0  26/08/2017\n",
              "13577   Williamstown  1170000.0  26/08/2017\n",
              "13578   Williamstown  2500000.0  26/08/2017\n",
              "13579     Yarraville  1285000.0  26/08/2017\n",
              "\n",
              "[13580 rows x 3 columns]"
            ],
            "text/html": [
              "\n",
              "  <div id=\"df-08fa65ce-2032-4dcf-ac60-87c7876f2e82\">\n",
              "    <div class=\"colab-df-container\">\n",
              "      <div>\n",
              "<style scoped>\n",
              "    .dataframe tbody tr th:only-of-type {\n",
              "        vertical-align: middle;\n",
              "    }\n",
              "\n",
              "    .dataframe tbody tr th {\n",
              "        vertical-align: top;\n",
              "    }\n",
              "\n",
              "    .dataframe thead th {\n",
              "        text-align: right;\n",
              "    }\n",
              "</style>\n",
              "<table border=\"1\" class=\"dataframe\">\n",
              "  <thead>\n",
              "    <tr style=\"text-align: right;\">\n",
              "      <th></th>\n",
              "      <th>Suburb</th>\n",
              "      <th>Price</th>\n",
              "      <th>Date</th>\n",
              "    </tr>\n",
              "  </thead>\n",
              "  <tbody>\n",
              "    <tr>\n",
              "      <th>0</th>\n",
              "      <td>Abbotsford</td>\n",
              "      <td>1480000.0</td>\n",
              "      <td>3/12/2016</td>\n",
              "    </tr>\n",
              "    <tr>\n",
              "      <th>1</th>\n",
              "      <td>Abbotsford</td>\n",
              "      <td>1035000.0</td>\n",
              "      <td>4/02/2016</td>\n",
              "    </tr>\n",
              "    <tr>\n",
              "      <th>2</th>\n",
              "      <td>Abbotsford</td>\n",
              "      <td>1465000.0</td>\n",
              "      <td>4/03/2017</td>\n",
              "    </tr>\n",
              "    <tr>\n",
              "      <th>3</th>\n",
              "      <td>Abbotsford</td>\n",
              "      <td>850000.0</td>\n",
              "      <td>4/03/2017</td>\n",
              "    </tr>\n",
              "    <tr>\n",
              "      <th>4</th>\n",
              "      <td>Abbotsford</td>\n",
              "      <td>1600000.0</td>\n",
              "      <td>4/06/2016</td>\n",
              "    </tr>\n",
              "    <tr>\n",
              "      <th>...</th>\n",
              "      <td>...</td>\n",
              "      <td>...</td>\n",
              "      <td>...</td>\n",
              "    </tr>\n",
              "    <tr>\n",
              "      <th>13575</th>\n",
              "      <td>Wheelers Hill</td>\n",
              "      <td>1245000.0</td>\n",
              "      <td>26/08/2017</td>\n",
              "    </tr>\n",
              "    <tr>\n",
              "      <th>13576</th>\n",
              "      <td>Williamstown</td>\n",
              "      <td>1031000.0</td>\n",
              "      <td>26/08/2017</td>\n",
              "    </tr>\n",
              "    <tr>\n",
              "      <th>13577</th>\n",
              "      <td>Williamstown</td>\n",
              "      <td>1170000.0</td>\n",
              "      <td>26/08/2017</td>\n",
              "    </tr>\n",
              "    <tr>\n",
              "      <th>13578</th>\n",
              "      <td>Williamstown</td>\n",
              "      <td>2500000.0</td>\n",
              "      <td>26/08/2017</td>\n",
              "    </tr>\n",
              "    <tr>\n",
              "      <th>13579</th>\n",
              "      <td>Yarraville</td>\n",
              "      <td>1285000.0</td>\n",
              "      <td>26/08/2017</td>\n",
              "    </tr>\n",
              "  </tbody>\n",
              "</table>\n",
              "<p>13580 rows × 3 columns</p>\n",
              "</div>\n",
              "      <button class=\"colab-df-convert\" onclick=\"convertToInteractive('df-08fa65ce-2032-4dcf-ac60-87c7876f2e82')\"\n",
              "              title=\"Convert this dataframe to an interactive table.\"\n",
              "              style=\"display:none;\">\n",
              "        \n",
              "  <svg xmlns=\"http://www.w3.org/2000/svg\" height=\"24px\"viewBox=\"0 0 24 24\"\n",
              "       width=\"24px\">\n",
              "    <path d=\"M0 0h24v24H0V0z\" fill=\"none\"/>\n",
              "    <path d=\"M18.56 5.44l.94 2.06.94-2.06 2.06-.94-2.06-.94-.94-2.06-.94 2.06-2.06.94zm-11 1L8.5 8.5l.94-2.06 2.06-.94-2.06-.94L8.5 2.5l-.94 2.06-2.06.94zm10 10l.94 2.06.94-2.06 2.06-.94-2.06-.94-.94-2.06-.94 2.06-2.06.94z\"/><path d=\"M17.41 7.96l-1.37-1.37c-.4-.4-.92-.59-1.43-.59-.52 0-1.04.2-1.43.59L10.3 9.45l-7.72 7.72c-.78.78-.78 2.05 0 2.83L4 21.41c.39.39.9.59 1.41.59.51 0 1.02-.2 1.41-.59l7.78-7.78 2.81-2.81c.8-.78.8-2.07 0-2.86zM5.41 20L4 18.59l7.72-7.72 1.47 1.35L5.41 20z\"/>\n",
              "  </svg>\n",
              "      </button>\n",
              "      \n",
              "  <style>\n",
              "    .colab-df-container {\n",
              "      display:flex;\n",
              "      flex-wrap:wrap;\n",
              "      gap: 12px;\n",
              "    }\n",
              "\n",
              "    .colab-df-convert {\n",
              "      background-color: #E8F0FE;\n",
              "      border: none;\n",
              "      border-radius: 50%;\n",
              "      cursor: pointer;\n",
              "      display: none;\n",
              "      fill: #1967D2;\n",
              "      height: 32px;\n",
              "      padding: 0 0 0 0;\n",
              "      width: 32px;\n",
              "    }\n",
              "\n",
              "    .colab-df-convert:hover {\n",
              "      background-color: #E2EBFA;\n",
              "      box-shadow: 0px 1px 2px rgba(60, 64, 67, 0.3), 0px 1px 3px 1px rgba(60, 64, 67, 0.15);\n",
              "      fill: #174EA6;\n",
              "    }\n",
              "\n",
              "    [theme=dark] .colab-df-convert {\n",
              "      background-color: #3B4455;\n",
              "      fill: #D2E3FC;\n",
              "    }\n",
              "\n",
              "    [theme=dark] .colab-df-convert:hover {\n",
              "      background-color: #434B5C;\n",
              "      box-shadow: 0px 1px 3px 1px rgba(0, 0, 0, 0.15);\n",
              "      filter: drop-shadow(0px 1px 2px rgba(0, 0, 0, 0.3));\n",
              "      fill: #FFFFFF;\n",
              "    }\n",
              "  </style>\n",
              "\n",
              "      <script>\n",
              "        const buttonEl =\n",
              "          document.querySelector('#df-08fa65ce-2032-4dcf-ac60-87c7876f2e82 button.colab-df-convert');\n",
              "        buttonEl.style.display =\n",
              "          google.colab.kernel.accessAllowed ? 'block' : 'none';\n",
              "\n",
              "        async function convertToInteractive(key) {\n",
              "          const element = document.querySelector('#df-08fa65ce-2032-4dcf-ac60-87c7876f2e82');\n",
              "          const dataTable =\n",
              "            await google.colab.kernel.invokeFunction('convertToInteractive',\n",
              "                                                     [key], {});\n",
              "          if (!dataTable) return;\n",
              "\n",
              "          const docLinkHtml = 'Like what you see? Visit the ' +\n",
              "            '<a target=\"_blank\" href=https://colab.research.google.com/notebooks/data_table.ipynb>data table notebook</a>'\n",
              "            + ' to learn more about interactive tables.';\n",
              "          element.innerHTML = '';\n",
              "          dataTable['output_type'] = 'display_data';\n",
              "          await google.colab.output.renderOutput(dataTable, element);\n",
              "          const docLink = document.createElement('div');\n",
              "          docLink.innerHTML = docLinkHtml;\n",
              "          element.appendChild(docLink);\n",
              "        }\n",
              "      </script>\n",
              "    </div>\n",
              "  </div>\n",
              "  "
            ]
          },
          "metadata": {},
          "execution_count": 121
        }
      ],
      "source": [
        "# code goes here\n",
        "df3 = df[['Suburb','Price','Date']].copy()\n",
        "df3"
      ]
    },
    {
      "cell_type": "code",
      "source": [
        "# double_check\n",
        "df3.to_csv('Melbourne.csv', index = False)"
      ],
      "metadata": {
        "id": "Pis77_cTxfn6"
      },
      "execution_count": null,
      "outputs": []
    }
  ],
  "metadata": {
    "colab": {
      "provenance": []
    },
    "kernelspec": {
      "display_name": "Python 3",
      "language": "python",
      "name": "python3"
    },
    "language_info": {
      "codemirror_mode": {
        "name": "ipython",
        "version": 3
      },
      "file_extension": ".py",
      "mimetype": "text/x-python",
      "name": "python",
      "nbconvert_exporter": "python",
      "pygments_lexer": "ipython3",
      "version": "3.8.8"
    }
  },
  "nbformat": 4,
  "nbformat_minor": 0
}
