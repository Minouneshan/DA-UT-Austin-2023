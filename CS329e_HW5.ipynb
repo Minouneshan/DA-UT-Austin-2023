{
  "cells": [
    {
      "cell_type": "markdown",
      "metadata": {
        "id": "JfuIVwk6VQNg"
      },
      "source": [
        "## C S 329E HW 5\n",
        "\n",
        "# Crossvalidation and hyperparameter selection\n",
        "\n",
        "## Fayed Nassor and Mohamad Minoneshan\n",
        "\n",
        "For this week's homework we are going to explore the cross validation testing methodology and applying that to get error estimates on the two algorithms we've used so far:\n",
        "  - Linear Regression\n",
        "  - Decision Tree classification\n",
        "  "
      ]
    },
    {
      "cell_type": "code",
      "execution_count": null,
      "metadata": {
        "id": "PDHKJDFmVQNi"
      },
      "outputs": [],
      "source": [
        "# import the libraries! If you want to add things here for visualization, please do, \n",
        "# but only use sklearn when prompted\n",
        "import pandas as pd\n",
        "import numpy as np\n",
        "from sklearn import tree \n",
        "from sklearn.datasets import load_iris\n",
        "from sklearn.datasets import load_diabetes"
      ]
    },
    {
      "cell_type": "markdown",
      "metadata": {
        "id": "LZs2nuNbVQNj"
      },
      "source": [
        "# Part 1 - Calculate Generalized Error on Linear Regression with k-fold Cross Validation"
      ]
    },
    {
      "cell_type": "markdown",
      "metadata": {
        "id": "-JVk1iaWVQNk"
      },
      "source": [
        "## Q1.1 Load in the diabetes data set as a pandas dataframe and series.  \n",
        "Documentation on the data set is [here](https://scikit-learn.org/stable/modules/generated/sklearn.datasets.load_diabetes.html).  Name your features dataframe (the independent variables) `df_X` and your target value (the dependent variable) series `s_y`"
      ]
    },
    {
      "cell_type": "code",
      "execution_count": null,
      "metadata": {
        "id": "VQVbOpO9VQNk"
      },
      "outputs": [],
      "source": [
        "diabetes = load_diabetes()\n",
        "df_X = diabetes.data\n",
        "s_y = diabetes.target"
      ]
    },
    {
      "cell_type": "markdown",
      "metadata": {
        "id": "hzgW4G5SVQNk"
      },
      "source": [
        "## Q1.2 Define a function that creates a linear least squares regression model and a function to predict a continuous value given a linear regression model\n",
        "The first function should take in two parameters, `df_X`, and `s_y` and return the least squares regression model, $\\hat{\\beta}$ (using the notation from the ESLII book chapter 3 and HW3).  You can not use any libraries outside of pandas and numpy. Note that the length of beta_hat should be the number of columns in `df_X` + 1. \n",
        "\n",
        "The second function should take in two parameters, `beta_hat` - the model generated from the `get_linear_regression` function, and `df_X` - that has the attribute values at which we want to predict a continuous value.  We assume that the format and ordering of `df_X` used to create the model and `df_X` used to generate predictions are consistent. "
      ]
    },
    {
      "cell_type": "code",
      "execution_count": null,
      "metadata": {
        "id": "yf37fNLUVQNl"
      },
      "outputs": [],
      "source": [
        "def get_linear_regression_model( df_X, s_y ):\n",
        "    # Add column of 1s to X for intercept term\n",
        "    X = np.hstack([np.ones((len(df_X), 1)), df_X])\n",
        "    y = s_y\n",
        "    # Calculate beta_hat using least squares formula\n",
        "    beta_hat = np.linalg.lstsq(X, y, rcond=None)[0]\n",
        "    return beta_hat"
      ]
    },
    {
      "cell_type": "code",
      "execution_count": null,
      "metadata": {
        "id": "VaM8sfLCVQNm",
        "colab": {
          "base_uri": "https://localhost:8080/"
        },
        "outputId": "14dae4f0-d4b5-4f74-9318-1442f2aceb59"
      },
      "outputs": [
        {
          "output_type": "execute_result",
          "data": {
            "text/plain": [
              "array([ 4.18818425,  1.77890808,  0.74032569, -1.3506416 ,  0.14535984])"
            ]
          },
          "metadata": {},
          "execution_count": 4
        }
      ],
      "source": [
        "# code to check beta_hat\n",
        "np.random.seed(23)\n",
        "beta_hat = get_linear_regression_model( pd.DataFrame(np.random.random((34,4))), pd.Series(np.random.random(34)*10.0) )\n",
        "beta_hat"
      ]
    },
    {
      "cell_type": "code",
      "source": [
        "def predict_linear_regression_value(beta_hat, df_X):\n",
        "    # Add column of 1s to X for intercept term\n",
        "    df_X = np.hstack([np.ones((df_X.shape[0], 1)), df_X])\n",
        "    # Predict y using beta_hat and df_X\n",
        "    y_pred = np.matmul(df_X, beta_hat)\n",
        "    return y_pred\n"
      ],
      "metadata": {
        "id": "3QUBPALkeRlQ"
      },
      "execution_count": null,
      "outputs": []
    },
    {
      "cell_type": "code",
      "execution_count": null,
      "metadata": {
        "id": "OyMGfxtxXNCM",
        "colab": {
          "base_uri": "https://localhost:8080/"
        },
        "outputId": "ef750622-3bd9-4fc6-bfa1-84b54434ce8e"
      },
      "outputs": [
        {
          "output_type": "execute_result",
          "data": {
            "text/plain": [
              "array([4.03669521, 4.39502589, 3.90884703])"
            ]
          },
          "metadata": {},
          "execution_count": 6
        }
      ],
      "source": [
        "predicted_vals = predict_linear_regression_value( beta_hat, pd.DataFrame(np.random.random((3,4))))\n",
        "predicted_vals"
      ]
    },
    {
      "cell_type": "markdown",
      "metadata": {
        "id": "cRxs-OTiVQNn"
      },
      "source": [
        "## Q1.3 Define a function that partitions the dataframe and series data into dictionaries\n",
        "This function should take in three parameters, `df_X`, `s_y`, and `k`, and returns a tuple of two dictionaries.\n",
        "In both dictionaries the key is the `k` value (an integer from one to `k` inclusive).\n",
        "The first dictionary will have the dataframe of the training data that contains approximately $\\frac{1}{k}$ of the data (variation due to randomness is acceptable).\n",
        "The second dictionary will have the series of the target data that contains approximately $\\frac{1}{k}$ of the data (variation due to randomness is acceptable). Please note the targets _must match_ the same rows as the dataframe at this index, e.g, the length of the kth partition is the same for the dataframe and series.\n",
        "\n",
        "Call that function with $k=5$ and create the dictionaries `dict_k_df_X` and `dict_k_s_y`. Print out the number of rows in each fold.  Check that the number of data points in each partition totals the number of data points in the entire dataset. \n",
        "\n",
        "Here is some example output from checking the length of the folds:\n",
        "```\n",
        "Fold 1 length of dataframe is 88 and length of series is 88\n",
        "Fold 2 length of dataframe is 96 and length of series is 96\n",
        "Fold 3 length of dataframe is 88 and length of series is 88\n",
        "Fold 4 length of dataframe is 79 and length of series is 79\n",
        "Fold 5 length of dataframe is 91 and length of series is 91\n",
        "The sum of the number of elements in each fold is 442 and there are 442 rows in the original df\n",
        "```"
      ]
    },
    {
      "cell_type": "code",
      "execution_count": null,
      "metadata": {
        "id": "vKZFErNNVQNo"
      },
      "outputs": [],
      "source": [
        "def partition_data( df_X, s_y, k ):\n",
        "    n = len(df_X)\n",
        "    indices = np.arange(n)\n",
        "    np.random.shuffle(indices)\n",
        "    fold_size = n // k\n",
        "    dict_k_df_X = {}\n",
        "    dict_k_s_y = {}\n",
        "    for i in range(k):\n",
        "        start, end = i * fold_size, (i + 1) * fold_size\n",
        "        if i == k - 1: # last fold may have extra rows\n",
        "            end = n \n",
        "        fold_indices = indices[start:end]\n",
        "        dict_k_df_X[i+1] = df_X[fold_indices]\n",
        "        dict_k_s_y[i+1] = s_y[fold_indices]\n",
        "    return dict_k_df_X, dict_k_s_y"
      ]
    },
    {
      "cell_type": "code",
      "execution_count": null,
      "metadata": {
        "id": "pefH5wfJVQNo"
      },
      "outputs": [],
      "source": [
        "(dict_k_df_X, dict_k_s_y) = partition_data( df_X, s_y, 5 )"
      ]
    },
    {
      "cell_type": "code",
      "execution_count": null,
      "metadata": {
        "id": "TQ27tMRFVQNp",
        "colab": {
          "base_uri": "https://localhost:8080/"
        },
        "outputId": "00555772-7433-4403-cdaf-c360480e15f0"
      },
      "outputs": [
        {
          "output_type": "stream",
          "name": "stdout",
          "text": [
            "Fold 1 length of dataframe is 88 and length of series is 88\n",
            "Fold 2 length of dataframe is 88 and length of series is 88\n",
            "Fold 3 length of dataframe is 88 and length of series is 88\n",
            "Fold 4 length of dataframe is 88 and length of series is 88\n",
            "Fold 5 length of dataframe is 90 and length of series is 90\n",
            "The sum of the number of elements in each fold is 442 and there are 442 rows in the original df\n"
          ]
        }
      ],
      "source": [
        "# Check fold sizes\n",
        "k = 5\n",
        "dict_k_df_X, dict_k_s_y = partition_data(df_X, s_y, k)\n",
        "\n",
        "for i in range(1, k+1):\n",
        "    print(f\"Fold {i} length of dataframe is {len(dict_k_df_X[i])} and length of series is {len(dict_k_s_y[i])}\")\n",
        "\n",
        "total_rows = sum([len(dict_k_df_X[i]) for i in range(1, k+1)])\n",
        "print(f\"The sum of the number of elements in each fold is {total_rows} and there are {len(df_X)} rows in the original df\")"
      ]
    },
    {
      "cell_type": "markdown",
      "metadata": {
        "id": "DtdijUdNVQNp"
      },
      "source": [
        "## Q1.4 Define a function that calculates a regression metric\n",
        "This function should accept two series of equal length $n$ numpy arrays, `s_y`, and `s_y_hat`. The metric it should calculate is the mean absolute error, $MAE = \\sum\\limits_{i=1}^n\\frac{|{s\\_y_i - {s\\_y\\_hat}_i}|}{n}$ \n",
        "\n",
        "Test your function by using the vectors:\n",
        "```\n",
        "x = np.array([1,2,3])\n",
        "y = np.array([2,2,3])\n",
        "```\n"
      ]
    },
    {
      "cell_type": "code",
      "execution_count": null,
      "metadata": {
        "id": "v40R9HM_VQNq"
      },
      "outputs": [],
      "source": [
        "def get_mae( s_y, s_y_hat):\n",
        "    # your code here\n",
        "    n = len(s_y)\n",
        "    error = np.abs(s_y - s_y_hat)\n",
        "    mae = np.sum(error) / n\n",
        "    return mae"
      ]
    },
    {
      "cell_type": "code",
      "execution_count": null,
      "metadata": {
        "id": "jJB-KKKvVQNq",
        "colab": {
          "base_uri": "https://localhost:8080/"
        },
        "outputId": "e1fd2f45-d614-482a-a493-026056eaef55"
      },
      "outputs": [
        {
          "output_type": "execute_result",
          "data": {
            "text/plain": [
              "0.3333333333333333"
            ]
          },
          "metadata": {},
          "execution_count": 11
        }
      ],
      "source": [
        "# Test it \n",
        "x = np.array([1,2,3])\n",
        "y = np.array([2,2,3])\n",
        "get_mae(x,y)"
      ]
    },
    {
      "cell_type": "markdown",
      "metadata": {
        "id": "3pgVtzgWVQNq"
      },
      "source": [
        "## Q1.5 Calculate the $MAE$ for each fold\n",
        "For each fold in your dictionaries, calculate the $MAE$.  Use the partition number key as the test set, and all other partitions as the train set. \n",
        "\n",
        "Print the min, max, and mean $MAE$ of your 5 folds. \n",
        "\n",
        "You must use your helper functions that you wrote above, `get_linear_regression_model`, `predict_linear_regression_value` and `get_mae`. "
      ]
    },
    {
      "cell_type": "code",
      "execution_count": null,
      "metadata": {
        "id": "IuxFj8z5VQNr"
      },
      "outputs": [],
      "source": [
        "mae = np.array([])\n",
        "for k in dict_k_df_X.keys():\n",
        "    \n",
        "    # your code here\n",
        "    train_data = np.concatenate([v for i, v in dict_k_df_X.items() if i != k])\n",
        "    train_targets = np.concatenate([v for i, v in dict_k_s_y.items() if i != k])\n",
        "\n",
        "    # Fit a linear regression model to the training data\n",
        "    beta_hat = get_linear_regression_model(train_data, train_targets)\n",
        "\n",
        "    # Use the model to predict the target values for the test data\n",
        "    s_y_hat = predict_linear_regression_value(beta_hat, dict_k_df_X[k])\n",
        "\n",
        "    # Calculate the mean absolute error for the test set\n",
        "\n",
        "    mae = np.append( mae, get_mae(dict_k_s_y[k],s_y_hat) )  "
      ]
    },
    {
      "cell_type": "code",
      "execution_count": null,
      "metadata": {
        "id": "7OxejniBVQNr",
        "colab": {
          "base_uri": "https://localhost:8080/"
        },
        "outputId": "bfa631ae-03f8-4516-cc2e-4dbfb4719543"
      },
      "outputs": [
        {
          "output_type": "stream",
          "name": "stdout",
          "text": [
            "The min MAE is 41.96, the max MAE is 47.47, and the mean MAE is 44.39\n"
          ]
        }
      ],
      "source": [
        "print(\"The min MAE is {:.2f}, the max MAE is {:.2f}, and the mean MAE is {:.2f}\".format(mae.min(),mae.max(),mae.mean()))"
      ]
    },
    {
      "cell_type": "markdown",
      "metadata": {
        "id": "bqOqK30FVQNr"
      },
      "source": [
        "# Part 2 - Find the best hyperparameter to use in a Decision Tree "
      ]
    },
    {
      "cell_type": "markdown",
      "metadata": {
        "id": "3xVkJfkdVQNr"
      },
      "source": [
        "## Q2.1 Load the iris data in as a pandas dataframe and a series\n",
        "Documentation on the data set is [here](https://scikit-learn.org/stable/modules/generated/sklearn.datasets.load_iris.html). Name your features dataframe (the independent variables) `df_X` and your class label (the dependent variable) series `s_y`"
      ]
    },
    {
      "cell_type": "code",
      "execution_count": null,
      "metadata": {
        "id": "5oBRRztuVQNr"
      },
      "outputs": [],
      "source": [
        "iris = load_iris()\n",
        "df_X = iris.data\n",
        "s_y = iris.target"
      ]
    },
    {
      "cell_type": "markdown",
      "metadata": {
        "id": "O0OUEFGaVQNr"
      },
      "source": [
        "## Q2.2 Partition `df_X` and `s_y` into $5$ partitions of roughly equal size\n",
        "Make 2 dictionaries, with the key of each dictionary the fold number.  The value of the dictionary `dict_k_df_X` is the $k^{th}$ partition of the data, and the value of the dictionary `dict_k_s_y` is the corresponding $k^{th}$ target classification.  Print out the number of rows in each fold.  Check that the number of data points in each partition totals the number of data points in the entire dataset. \n",
        "\n",
        "Note, you can reuse the functions from Section 1. "
      ]
    },
    {
      "cell_type": "code",
      "source": [
        "(dict_k_df_X, dict_k_s_y) = partition_data( df_X, s_y, 5 )"
      ],
      "metadata": {
        "id": "wIf91p7bkoYB"
      },
      "execution_count": null,
      "outputs": []
    },
    {
      "cell_type": "code",
      "execution_count": null,
      "metadata": {
        "id": "4FDi6t03VQNs",
        "colab": {
          "base_uri": "https://localhost:8080/"
        },
        "outputId": "65eb77de-9a4c-4661-d426-d4488d9d8642"
      },
      "outputs": [
        {
          "output_type": "stream",
          "name": "stdout",
          "text": [
            "Fold 1 length of dataframe is 30 and length of series is 30\n",
            "Fold 2 length of dataframe is 30 and length of series is 30\n",
            "Fold 3 length of dataframe is 30 and length of series is 30\n",
            "Fold 4 length of dataframe is 30 and length of series is 30\n",
            "Fold 5 length of dataframe is 30 and length of series is 30\n",
            "The sum of the number of elements in each fold is 150 and there are 150 rows in the original df\n"
          ]
        }
      ],
      "source": [
        "for i in range(1, k+1):\n",
        "    print(f\"Fold {i} length of dataframe is {len(dict_k_df_X[i])} and length of series is {len(dict_k_s_y[i])}\")\n",
        "\n",
        "total_rows = sum([len(dict_k_df_X[i]) for i in range(1, k+1)])\n",
        "print(f\"The sum of the number of elements in each fold is {total_rows} and there are {len(df_X)} rows in the original df\")\n"
      ]
    },
    {
      "cell_type": "markdown",
      "metadata": {
        "id": "D3QvbgqsVQNs"
      },
      "source": [
        "## Q2.3 Define a function that calculates accuracy\n",
        "The function should accept two series and compare each element for equality.  The accuracy is the number of equal elements divided by the total number of elements.\n",
        "\n",
        "Test your accuracy function by calling it with the `s_y` loaded from the iris data set and an array of the same length containing all $1$ values. "
      ]
    },
    {
      "cell_type": "code",
      "execution_count": null,
      "metadata": {
        "id": "hGEZaKCRVQNs"
      },
      "outputs": [],
      "source": [
        "def get_acc( s_1, s_2 ):\n",
        "    # your code here\n",
        "    num_correct = (s_1 == s_2).sum()\n",
        "    num_total = len(s_1)\n",
        "    acc = num_correct / num_total\n",
        "    return acc"
      ]
    },
    {
      "cell_type": "code",
      "execution_count": null,
      "metadata": {
        "id": "K8WcPX7IVQNs",
        "colab": {
          "base_uri": "https://localhost:8080/"
        },
        "outputId": "8df37f3f-9a72-4822-8256-3d0648c86da8"
      },
      "outputs": [
        {
          "output_type": "execute_result",
          "data": {
            "text/plain": [
              "0.3333333333333333"
            ]
          },
          "metadata": {},
          "execution_count": 18
        }
      ],
      "source": [
        "get_acc(s_y,np.ones(len(s_y)))"
      ]
    },
    {
      "cell_type": "markdown",
      "metadata": {
        "id": "1szoVAVkVQNs"
      },
      "source": [
        "## Q2.4 Using Nested Cross validation, find the best hyperparameter\n",
        "Use the [Decision Tree Classifier](https://scikit-learn.org/stable/modules/tree.html#classification) class to build a decision tree inside of a 5-fold cross validation loop.  The partitions you already created in 2.2 will be the outer loop.  In the inside loop you should use 4-fold cross validation (so you don't have to partition _again_) to find the best value for `min_impurity_decrease`.  Use the Gini Index as your impurity measure. \n",
        "    Calculate the mean accuracy across the 4 folds of your inner loop for all the candidate `min_impurity_decrease` values, and print the value.  Use the array `np.array([0.1,0.25,0.3,0.4])` as the candidates for the best hyperparameter. If there is a tie (two `min_impurity_decrease` values give the same highest accuracy), choose the lowest `min_impurity_decrease` value. \n",
        "\n",
        "For each inner loop, select the best `min_impurity_decrease` and train the outer fold training data on using that value. \n",
        "\n",
        "For each of the 5 executions of the inner loop, your output should look something like this:\n",
        "```\n",
        "Testing 0.10 min impurity decrease\n",
        "\tAverage accuracy over 4 folds is 0.95\n",
        "Testing 0.25 min impurity decrease\n",
        "\tAverage accuracy over 4 folds is 0.86\n",
        "Testing 0.30 min impurity decrease\n",
        "\tAverage accuracy over 4 folds is 0.63\n",
        "Testing 0.40 min impurity decrease\n",
        "\tAverage accuracy over 4 folds is 0.27\n",
        "\n",
        "Best min impurity decrease is 0.1\n",
        "\n",
        "```"
      ]
    },
    {
      "cell_type": "code",
      "source": [
        "\n",
        "min_impurity_decreases = np.array([0.1,0.25,0.3,0.4])\n",
        "best_min_impurity = None\n",
        "best_accuracy = 0\n",
        "\n",
        "for k in dict_k_df_X.keys():\n",
        "    print(f\"Fold {k}\")\n",
        "    X_test = dict_k_df_X[k]\n",
        "    y_test = dict_k_s_y[k]\n",
        "    X_train = np.concatenate([v for i, v in dict_k_df_X.items() if i != k])\n",
        "    y_train = np.concatenate([v for i, v in dict_k_s_y.items() if i != k])\n",
        "    \n",
        "    best_min_impurity_fold = None\n",
        "    best_accuracy_fold = 0\n",
        "    \n",
        "    for min_impurity_decrease in min_impurity_decreases:\n",
        "        clf = tree.DecisionTreeClassifier(min_impurity_decrease=min_impurity_decrease, criterion=\"gini\")\n",
        "        accuracies = []\n",
        "        for j in range(4):\n",
        "            inner_fold_size = len(X_train) // 4\n",
        "            X_inner_test = X_train[j*inner_fold_size:(j+1)*inner_fold_size]\n",
        "            y_inner_test = y_train[j*inner_fold_size:(j+1)*inner_fold_size]\n",
        "            X_inner_train = np.concatenate([X_train[:j*inner_fold_size], X_train[(j+1)*inner_fold_size:]])\n",
        "            y_inner_train = np.concatenate([y_train[:j*inner_fold_size], y_train[(j+1)*inner_fold_size:]])\n",
        "            clf.fit(X_inner_train, y_inner_train)\n",
        "            y_pred = clf.predict(X_inner_test)\n",
        "            accuracy = get_acc(y_inner_test, y_pred)\n",
        "            accuracies.append(accuracy)\n",
        "        mean_accuracy = np.mean(accuracies)\n",
        "        print(f\"Testing {min_impurity_decrease:.2f} min impurity decrease\")\n",
        "        print(f\"    Average accuracy over 4 folds is {mean_accuracy:.2f}\")\n",
        "        if mean_accuracy > best_accuracy_fold:\n",
        "            best_accuracy_fold = mean_accuracy\n",
        "            best_min_impurity_fold = min_impurity_decrease\n",
        "    \n",
        "    print(f\"\\nBest min impurity decrease for fold {k} is {best_min_impurity_fold:.2f}\\n\")\n",
        "    \n",
        "    clf = tree.DecisionTreeClassifier(min_impurity_decrease=best_min_impurity_fold, criterion=\"gini\")\n",
        "    clf.fit(X_train, y_train)\n",
        "    y_pred = clf.predict(X_test)\n",
        "    accuracy = get_acc(y_test, y_pred)\n",
        "    print(f\"Accuracy for fold {k} is {accuracy:.2f}\\n\\n\")\n",
        "    \n",
        "    if best_accuracy_fold > best_accuracy:\n",
        "        best_accuracy = best_accuracy_fold\n",
        "        best_min_impurity = best_min_impurity_fold\n",
        "\n",
        "print(f\"\\nBest min impurity decrease is {best_min_impurity:.2f}\\n\")"
      ],
      "metadata": {
        "colab": {
          "base_uri": "https://localhost:8080/"
        },
        "id": "NZAgg1vrGWw-",
        "outputId": "98a8ee81-a41d-4248-c613-34fc92ef9dfe"
      },
      "execution_count": null,
      "outputs": [
        {
          "output_type": "stream",
          "name": "stdout",
          "text": [
            "Fold 1\n",
            "Testing 0.10 min impurity decrease\n",
            "    Average accuracy over 4 folds is 0.97\n",
            "Testing 0.25 min impurity decrease\n",
            "    Average accuracy over 4 folds is 0.88\n",
            "Testing 0.30 min impurity decrease\n",
            "    Average accuracy over 4 folds is 0.63\n",
            "Testing 0.40 min impurity decrease\n",
            "    Average accuracy over 4 folds is 0.27\n",
            "\n",
            "Best min impurity decrease for fold 1 is 0.10\n",
            "\n",
            "Accuracy for fold 1 is 0.90\n",
            "\n",
            "\n",
            "Fold 2\n",
            "Testing 0.10 min impurity decrease\n",
            "    Average accuracy over 4 folds is 0.93\n",
            "Testing 0.25 min impurity decrease\n",
            "    Average accuracy over 4 folds is 0.84\n",
            "Testing 0.30 min impurity decrease\n",
            "    Average accuracy over 4 folds is 0.58\n",
            "Testing 0.40 min impurity decrease\n",
            "    Average accuracy over 4 folds is 0.25\n",
            "\n",
            "Best min impurity decrease for fold 2 is 0.10\n",
            "\n",
            "Accuracy for fold 2 is 0.97\n",
            "\n",
            "\n",
            "Fold 3\n",
            "Testing 0.10 min impurity decrease\n",
            "    Average accuracy over 4 folds is 0.93\n",
            "Testing 0.25 min impurity decrease\n",
            "    Average accuracy over 4 folds is 0.69\n",
            "Testing 0.30 min impurity decrease\n",
            "    Average accuracy over 4 folds is 0.60\n",
            "Testing 0.40 min impurity decrease\n",
            "    Average accuracy over 4 folds is 0.27\n",
            "\n",
            "Best min impurity decrease for fold 3 is 0.10\n",
            "\n",
            "Accuracy for fold 3 is 1.00\n",
            "\n",
            "\n",
            "Fold 4\n",
            "Testing 0.10 min impurity decrease\n",
            "    Average accuracy over 4 folds is 0.95\n",
            "Testing 0.25 min impurity decrease\n",
            "    Average accuracy over 4 folds is 0.85\n",
            "Testing 0.30 min impurity decrease\n",
            "    Average accuracy over 4 folds is 0.62\n",
            "Testing 0.40 min impurity decrease\n",
            "    Average accuracy over 4 folds is 0.30\n",
            "\n",
            "Best min impurity decrease for fold 4 is 0.10\n",
            "\n",
            "Accuracy for fold 4 is 0.97\n",
            "\n",
            "\n",
            "Fold 5\n",
            "Testing 0.10 min impurity decrease\n",
            "    Average accuracy over 4 folds is 0.95\n",
            "Testing 0.25 min impurity decrease\n",
            "    Average accuracy over 4 folds is 0.95\n",
            "Testing 0.30 min impurity decrease\n",
            "    Average accuracy over 4 folds is 0.70\n",
            "Testing 0.40 min impurity decrease\n",
            "    Average accuracy over 4 folds is 0.33\n",
            "\n",
            "Best min impurity decrease for fold 5 is 0.10\n",
            "\n",
            "Accuracy for fold 5 is 0.93\n",
            "\n",
            "\n",
            "\n",
            "Best min impurity decrease is 0.10\n",
            "\n"
          ]
        }
      ]
    },
    {
      "cell_type": "markdown",
      "metadata": {
        "id": "L6-dgURkVQNt"
      },
      "source": [
        "## Q2.5 Show the generalized performance of the classifier \n",
        "Show the generalized performance of the classifier by printing the min, max, and mean accuracy of the outer fold test sets."
      ]
    },
    {
      "cell_type": "code",
      "execution_count": null,
      "metadata": {
        "id": "3wed-YLSVQNt",
        "colab": {
          "base_uri": "https://localhost:8080/"
        },
        "outputId": "4754721a-da6e-4f4c-8e33-9cee8912528a"
      },
      "outputs": [
        {
          "output_type": "stream",
          "name": "stdout",
          "text": [
            "Min outer fold accuracy: 0.9\n",
            "Max outer fold accuracy: 1.0\n",
            "Mean outer fold accuracy: 0.9533333333333334\n"
          ]
        }
      ],
      "source": [
        "# initialize an empty list to store accuracies\n",
        "outer_fold_accuracies = []\n",
        "\n",
        "# loop over the folds\n",
        "for k in dict_k_df_X.keys():\n",
        "    \n",
        "    # initialize an empty list to store fold accuracies\n",
        "    fold_accuracies = []\n",
        "    \n",
        "    # loop over candidate min_impurity_decrease values\n",
        "    for min_impurity_decrease in [0.1, 0.25, 0.3, 0.4]:\n",
        "        \n",
        "        # initialize an empty list to store inner fold accuracies\n",
        "        inner_fold_accuracies = []\n",
        "        \n",
        "        # loop over the inner folds\n",
        "        for j in range(1, 5):\n",
        "            \n",
        "            # concatenate the training data and targets from the other inner folds\n",
        "            train_data = np.concatenate([v for i, v in dict_k_df_X.items() if i != k or i == j])\n",
        "            train_targets = np.concatenate([v for i, v in dict_k_s_y.items() if i != k or i == j])\n",
        "\n",
        "            # fit a decision tree classifier to the training data using the candidate hyperparameter\n",
        "            dtc = tree.DecisionTreeClassifier(criterion='gini', min_impurity_decrease=min_impurity_decrease)\n",
        "            dtc.fit(train_data, train_targets)\n",
        "            \n",
        "            # evaluate the model on the left-out inner fold test set\n",
        "            inner_fold_accuracy = get_acc(dict_k_s_y[j], dtc.predict(dict_k_df_X[j]))\n",
        "            inner_fold_accuracies.append(inner_fold_accuracy)\n",
        "        \n",
        "        # calculate the mean inner fold accuracy for this candidate hyperparameter\n",
        "        mean_inner_fold_accuracy = np.mean(inner_fold_accuracies)\n",
        "        \n",
        "        # store the mean inner fold accuracy for this candidate hyperparameter\n",
        "        fold_accuracies.append(mean_inner_fold_accuracy)\n",
        "    \n",
        "    # choose the best hyperparameter based on mean inner fold accuracy\n",
        "    best_min_impurity_decrease = [0.1, 0.25, 0.3, 0.4][np.argmax(fold_accuracies)]\n",
        "    \n",
        "    # fit a decision tree classifier to the outer fold training data using the best hyperparameter\n",
        "    dtc = tree.DecisionTreeClassifier(criterion='gini', min_impurity_decrease=best_min_impurity_decrease)\n",
        "    dtc.fit(np.concatenate([v for i, v in dict_k_df_X.items() if i != k]), np.concatenate([v for i, v in dict_k_s_y.items() if i != k]))\n",
        "    \n",
        "    # evaluate the model on the outer fold test set and store the accuracy\n",
        "    outer_fold_accuracy = get_acc(dict_k_s_y[k], dtc.predict(dict_k_df_X[k]))\n",
        "    outer_fold_accuracies.append(outer_fold_accuracy)\n",
        "\n",
        "# print the min, max, and mean accuracy of the outer fold test sets\n",
        "print('Min outer fold accuracy:', np.min(outer_fold_accuracies))\n",
        "print('Max outer fold accuracy:', np.max(outer_fold_accuracies))\n",
        "print('Mean outer fold accuracy:', np.mean(outer_fold_accuracies))\n"
      ]
    },
    {
      "cell_type": "code",
      "source": [],
      "metadata": {
        "id": "knnbPC63hOE8"
      },
      "execution_count": null,
      "outputs": []
    }
  ],
  "metadata": {
    "colab": {
      "provenance": []
    },
    "kernelspec": {
      "display_name": "Python 3 (ipykernel)",
      "language": "python",
      "name": "python3"
    },
    "language_info": {
      "codemirror_mode": {
        "name": "ipython",
        "version": 3
      },
      "file_extension": ".py",
      "mimetype": "text/x-python",
      "name": "python",
      "nbconvert_exporter": "python",
      "pygments_lexer": "ipython3",
      "version": "3.10.8"
    }
  },
  "nbformat": 4,
  "nbformat_minor": 0
}