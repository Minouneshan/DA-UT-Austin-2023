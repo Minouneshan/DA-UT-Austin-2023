{
  "cells": [
    {
      "cell_type": "markdown",
      "metadata": {
        "id": "Pc0-tdC10va6"
      },
      "source": [
        "## C S 329E HW8\n",
        "\n",
        "# Ensemble Methods and Skewed Data\n",
        "\n",
        "## Mohamad Minoneshan,  Fayed Nassor\n",
        "\n",
        "For this week's homework we are going explore two ensemble methods:\n",
        "\n",
        "  - AdaBoost, and\n",
        "  - Random Forests\n",
        "  \n",
        "Along with applying different KPIs (key performance indicators) that are more appropriate to highly skewed data sets. \n",
        "\n",
        "The dataset contains transactions made by credit cards in September 2013 by european cardholders.\n",
        "This dataset presents transactions that occurred in two days, where we have 237 frauds out of 142,167 transactions. The dataset is highly unbalanced, the positive class (frauds) account for 0.17% of all transactions.\n",
        "\n",
        "It contains only numerical input variables which are the result of a [PCA transformation](https://en.wikipedia.org/wiki/Principal_component_analysis). Unfortunately, due to confidentiality issues, they cannot provide the original features and more background information about the data. Features V1, V2, … V28 are the principal components obtained with PCA, the only features which have not been transformed with PCA are 'Time' and 'Amount'. Feature 'Time' contains the seconds elapsed between each transaction and the first transaction in the dataset. The feature 'Amount' is the transaction Amount in Euros. Feature 'Class' is the response variable and it takes value 1 in case of fraud and 0 otherwise.\n",
        "\n",
        "At the end of this homework, I expect you to understand how to train and use ensemble classifiers, how to characterize model performance with ROC curves, and be familiar with the difference between accuracy, true positive rate, and positive predictive value. "
      ]
    },
    {
      "cell_type": "code",
      "execution_count": 1,
      "metadata": {
        "id": "AIIG_Qv30va_"
      },
      "outputs": [],
      "source": [
        "# These are the libraries you will use for this assignment, you may not import anything else\n",
        "import pandas as pd\n",
        "import numpy as np\n",
        "import matplotlib.pyplot as plt\n",
        "from sklearn.ensemble import AdaBoostClassifier\n",
        "from sklearn.ensemble import RandomForestClassifier\n",
        "from sklearn.model_selection import StratifiedKFold\n",
        "from sklearn.metrics import roc_curve\n",
        "\n",
        "# This is the credit card data provided, we'll use sklearn methods to do cross validation\n",
        "# to estimate error\n",
        "df_cc = pd.read_csv('https://www.cs.utexas.edu/~chaney/cc.csv')"
      ]
    },
    {
      "cell_type": "markdown",
      "metadata": {
        "id": "sV8Lw-Xc0vbA"
      },
      "source": [
        "## Q1 Parition the data for cross validation\n",
        "\n",
        "Load the data, and split the data set into $X$ (the feature dataframe, `df_X`) and $y$ (the target series `s_y`). Define our partitions.  \n",
        "\n",
        "We know this is a _super_ skewed data set, so we worry about our target class being underrepresented in a random k-fold selection. With this in mind, we use a [stratifed k-fold](https://scikit-learn.org/stable/modules/generated/sklearn.model_selection.StratifiedKFold.html), since it will preserve our class balance in our experiements. Use $k=3$, . Instantiate an instance of the `StratifiedKFold` class, and use the generator `split` to populate the following dictonaries:\n",
        "   - `d_train_df_X` : where the key is the fold number, and the value is the attribute training dataframe at that fold\n",
        "   - `d_test_df_X`  : where the key is the fold number, and the value is the attribute test dataframe at that fold\n",
        "   - `d_train_s_y`  : where the key is the fold number, and the value is the target training series at that fold\n",
        "   - `d_train_s_y`  : where the key is the fold number, and the value is the target test series at that fold"
      ]
    },
    {
      "cell_type": "code",
      "execution_count": 2,
      "metadata": {
        "id": "3sHfNAci0vbA"
      },
      "outputs": [],
      "source": [
        "df_X = df_cc.drop(columns=['Class']).copy()\n",
        "s_y = df_cc['Class']"
      ]
    },
    {
      "cell_type": "code",
      "execution_count": 3,
      "metadata": {
        "id": "p8K4LLES0vbB"
      },
      "outputs": [],
      "source": [
        "skf = StratifiedKFold(n_splits=3,shuffle=True,random_state=23)"
      ]
    },
    {
      "cell_type": "code",
      "execution_count": 4,
      "metadata": {
        "id": "xQYF1qLc0vbB"
      },
      "outputs": [],
      "source": [
        "d_train_df_X = dict()\n",
        "d_test_df_X = dict()\n",
        "d_train_s_y = dict()\n",
        "d_test_s_y = dict()\n",
        "\n",
        "#your code here\n",
        "for i, (train_index, test_index) in enumerate(skf.split(df_X, s_y)):\n",
        "    d_train_df_X[i] = df_X.loc[train_index]\n",
        "    d_test_df_X[i] = df_X.loc[test_index]\n",
        "    d_train_s_y[i] = s_y.loc[train_index]\n",
        "    d_test_s_y[i] = s_y.loc[test_index]"
      ]
    },
    {
      "cell_type": "code",
      "source": [
        "# Look at the test data and verify that the target training is equally distributed as possible\n",
        "for key in d_test_s_y.keys():\n",
        "    fold_distribution = d_test_s_y[key].value_counts(normalize=True) * 100\n",
        "    print(f\"Fold {key+1} target distribution:\\n{fold_distribution}\\n\")"
      ],
      "metadata": {
        "colab": {
          "base_uri": "https://localhost:8080/"
        },
        "id": "QOkarGzcnRLi",
        "outputId": "47169cd5-be59-4cf7-97e6-63203c8f289d"
      },
      "execution_count": 13,
      "outputs": [
        {
          "output_type": "stream",
          "name": "stdout",
          "text": [
            "Fold 1 target distribution:\n",
            "0    99.833572\n",
            "1     0.166428\n",
            "Name: Class, dtype: float64\n",
            "\n",
            "Fold 2 target distribution:\n",
            "0    99.833572\n",
            "1     0.166428\n",
            "Name: Class, dtype: float64\n",
            "\n",
            "Fold 3 target distribution:\n",
            "0    99.833572\n",
            "1     0.166428\n",
            "Name: Class, dtype: float64\n",
            "\n"
          ]
        }
      ]
    },
    {
      "cell_type": "markdown",
      "metadata": {
        "id": "RgKTCPZn0vbC"
      },
      "source": [
        "## Section 1 - AdaBoost"
      ]
    },
    {
      "cell_type": "markdown",
      "metadata": {
        "id": "aBiszvo40vbD"
      },
      "source": [
        "# Q2 Test the Performance of AdaBoost\n",
        "\n",
        "When we talked about AdaBoost in class, we used a collection of \"Decision Stumps\". In this assignment, we will use the implementation of [AdaBoost in Scikit-learn](https://scikit-learn.org/stable/modules/generated/sklearn.ensemble.AdaBoostClassifier.html).  As you browse the documentation, you will notice that the default base esimator in this implentation is a `DecisionTreeClassifier(max_depth=1)` (our friend the decision stump). \n",
        "\n",
        "After you fit an AdaBoost model, you can call the method `predict` to get a class prediction, or you can call `predict_proba` to get the probability of being in the class `0` or the class `1`. These probabilities are used when creating ROC curves. \n",
        "\n",
        "Loop over the $k$ folds using the dictionaries from the first problem, and for each fold calculate the accuracy, TPR, the PPV, and the FPR (feel free to create helper functions to calcuate these metrics - do not use a library function to compute these metrics).  Plot the ROC curve for each fold. You may use the [plot roc curve](https://scikit-learn.org/stable/modules/generated/sklearn.metrics.plot_roc_curve.html) from Scikit-learn.  There is a great example in the documentation [on plotting ROC curves in cross validation](https://scikit-learn.org/stable/auto_examples/model_selection/plot_roc_crossval.html) that is helpful.  \n",
        "\n",
        "When creating your AdaBoost classifier, please use the following parameters: \n",
        "`AdaBoostClassifier(n_estimators=25, random_state=23)`\n",
        "\n",
        "Save the predictions from the 3rd fold into a variable called `y_hat_ab` for use in a future problem.\n"
      ]
    },
    {
      "cell_type": "code",
      "execution_count": 6,
      "metadata": {
        "id": "1CH_Ec9G0vbD"
      },
      "outputs": [],
      "source": [
        "k = 3\n",
        "acc_ab = np.zeros(k)\n",
        "tpr_ab = np.zeros(k)\n",
        "ppv_ab = np.zeros(k)\n",
        "fpr_ab = np.zeros(k)"
      ]
    },
    {
      "cell_type": "code",
      "execution_count": 11,
      "metadata": {
        "id": "3pE-HrIv0vbE",
        "colab": {
          "base_uri": "https://localhost:8080/",
          "height": 75
        },
        "outputId": "113770e5-42d5-4c99-edd3-f1d09894a9d5"
      },
      "outputs": [
        {
          "output_type": "execute_result",
          "data": {
            "text/plain": [
              "AdaBoostClassifier(n_estimators=25, random_state=23)"
            ],
            "text/html": [
              "<style>#sk-container-id-2 {color: black;background-color: white;}#sk-container-id-2 pre{padding: 0;}#sk-container-id-2 div.sk-toggleable {background-color: white;}#sk-container-id-2 label.sk-toggleable__label {cursor: pointer;display: block;width: 100%;margin-bottom: 0;padding: 0.3em;box-sizing: border-box;text-align: center;}#sk-container-id-2 label.sk-toggleable__label-arrow:before {content: \"▸\";float: left;margin-right: 0.25em;color: #696969;}#sk-container-id-2 label.sk-toggleable__label-arrow:hover:before {color: black;}#sk-container-id-2 div.sk-estimator:hover label.sk-toggleable__label-arrow:before {color: black;}#sk-container-id-2 div.sk-toggleable__content {max-height: 0;max-width: 0;overflow: hidden;text-align: left;background-color: #f0f8ff;}#sk-container-id-2 div.sk-toggleable__content pre {margin: 0.2em;color: black;border-radius: 0.25em;background-color: #f0f8ff;}#sk-container-id-2 input.sk-toggleable__control:checked~div.sk-toggleable__content {max-height: 200px;max-width: 100%;overflow: auto;}#sk-container-id-2 input.sk-toggleable__control:checked~label.sk-toggleable__label-arrow:before {content: \"▾\";}#sk-container-id-2 div.sk-estimator input.sk-toggleable__control:checked~label.sk-toggleable__label {background-color: #d4ebff;}#sk-container-id-2 div.sk-label input.sk-toggleable__control:checked~label.sk-toggleable__label {background-color: #d4ebff;}#sk-container-id-2 input.sk-hidden--visually {border: 0;clip: rect(1px 1px 1px 1px);clip: rect(1px, 1px, 1px, 1px);height: 1px;margin: -1px;overflow: hidden;padding: 0;position: absolute;width: 1px;}#sk-container-id-2 div.sk-estimator {font-family: monospace;background-color: #f0f8ff;border: 1px dotted black;border-radius: 0.25em;box-sizing: border-box;margin-bottom: 0.5em;}#sk-container-id-2 div.sk-estimator:hover {background-color: #d4ebff;}#sk-container-id-2 div.sk-parallel-item::after {content: \"\";width: 100%;border-bottom: 1px solid gray;flex-grow: 1;}#sk-container-id-2 div.sk-label:hover label.sk-toggleable__label {background-color: #d4ebff;}#sk-container-id-2 div.sk-serial::before {content: \"\";position: absolute;border-left: 1px solid gray;box-sizing: border-box;top: 0;bottom: 0;left: 50%;z-index: 0;}#sk-container-id-2 div.sk-serial {display: flex;flex-direction: column;align-items: center;background-color: white;padding-right: 0.2em;padding-left: 0.2em;position: relative;}#sk-container-id-2 div.sk-item {position: relative;z-index: 1;}#sk-container-id-2 div.sk-parallel {display: flex;align-items: stretch;justify-content: center;background-color: white;position: relative;}#sk-container-id-2 div.sk-item::before, #sk-container-id-2 div.sk-parallel-item::before {content: \"\";position: absolute;border-left: 1px solid gray;box-sizing: border-box;top: 0;bottom: 0;left: 50%;z-index: -1;}#sk-container-id-2 div.sk-parallel-item {display: flex;flex-direction: column;z-index: 1;position: relative;background-color: white;}#sk-container-id-2 div.sk-parallel-item:first-child::after {align-self: flex-end;width: 50%;}#sk-container-id-2 div.sk-parallel-item:last-child::after {align-self: flex-start;width: 50%;}#sk-container-id-2 div.sk-parallel-item:only-child::after {width: 0;}#sk-container-id-2 div.sk-dashed-wrapped {border: 1px dashed gray;margin: 0 0.4em 0.5em 0.4em;box-sizing: border-box;padding-bottom: 0.4em;background-color: white;}#sk-container-id-2 div.sk-label label {font-family: monospace;font-weight: bold;display: inline-block;line-height: 1.2em;}#sk-container-id-2 div.sk-label-container {text-align: center;}#sk-container-id-2 div.sk-container {/* jupyter's `normalize.less` sets `[hidden] { display: none; }` but bootstrap.min.css set `[hidden] { display: none !important; }` so we also need the `!important` here to be able to override the default hidden behavior on the sphinx rendered scikit-learn.org. See: https://github.com/scikit-learn/scikit-learn/issues/21755 */display: inline-block !important;position: relative;}#sk-container-id-2 div.sk-text-repr-fallback {display: none;}</style><div id=\"sk-container-id-2\" class=\"sk-top-container\"><div class=\"sk-text-repr-fallback\"><pre>AdaBoostClassifier(n_estimators=25, random_state=23)</pre><b>In a Jupyter environment, please rerun this cell to show the HTML representation or trust the notebook. <br />On GitHub, the HTML representation is unable to render, please try loading this page with nbviewer.org.</b></div><div class=\"sk-container\" hidden><div class=\"sk-item\"><div class=\"sk-estimator sk-toggleable\"><input class=\"sk-toggleable__control sk-hidden--visually\" id=\"sk-estimator-id-2\" type=\"checkbox\" checked><label for=\"sk-estimator-id-2\" class=\"sk-toggleable__label sk-toggleable__label-arrow\">AdaBoostClassifier</label><div class=\"sk-toggleable__content\"><pre>AdaBoostClassifier(n_estimators=25, random_state=23)</pre></div></div></div></div></div>"
            ]
          },
          "metadata": {},
          "execution_count": 11
        }
      ],
      "source": [
        "# your code here\n",
        "clf = AdaBoostClassifier(n_estimators=25, random_state=23)\n",
        "#clf.fit(df_X, s_y)"
      ]
    },
    {
      "cell_type": "code",
      "source": [
        "def compute_metrics(y_true, y_pred):\n",
        "    tp, tn, fp, fn = 0, 0, 0, 0\n",
        "    for y_t, y_p in zip(y_true, y_pred):\n",
        "        if y_t == 1 and y_p == 1:\n",
        "            tp += 1\n",
        "        elif y_t == 0 and y_p == 0:\n",
        "            tn += 1\n",
        "        elif y_t == 0 and y_p == 1:\n",
        "            fp += 1\n",
        "        elif y_t == 1 and y_p == 0:\n",
        "            fn += 1\n",
        "\n",
        "    accuracy = (tp + tn) / (tp + tn + fp + fn)\n",
        "    tpr = tp / (tp + fn) # True Positive Rate (Sensitivity)\n",
        "    ppv = tp / (tp + fp) # Positive Predictive Value (Precision)\n",
        "    fpr = fp / (fp + tn) # False Positive Rate\n",
        "\n",
        "    return accuracy, tpr, ppv, fpr\n",
        "\n",
        "for i in range(k):\n",
        "    clf.fit(d_train_df_X[i], d_train_s_y[i])\n",
        "    y_pred = clf.predict(d_test_df_X[i])\n",
        "\n",
        "    if i == 2:\n",
        "        y_hat_ab = y_pred\n",
        "\n",
        "    acc_ab[i], tpr_ab[i], ppv_ab[i], fpr_ab[i] = compute_metrics(d_test_s_y[i], y_pred)\n",
        "    y_score = clf.predict_proba(d_test_df_X[i])[:, 1]\n",
        "    fpr, tpr, _ = roc_curve(d_test_s_y[i], y_score)\n",
        "    plt.plot(fpr, tpr, label=f\"ROC Curve for Fold {i+1}\")\n",
        "\n",
        "plt.xlabel(\"False Positive Rate\")\n",
        "plt.ylabel(\"True Positive Rate\")\n",
        "plt.title(\"ROC Curves for AdaBoost Classifier\")\n",
        "plt.legend()\n",
        "plt.show()"
      ],
      "metadata": {
        "colab": {
          "base_uri": "https://localhost:8080/",
          "height": 295
        },
        "id": "WU5gKYljkTxL",
        "outputId": "a843714d-e883-4e6f-d94d-79ff87252ae7"
      },
      "execution_count": 14,
      "outputs": [
        {
          "output_type": "display_data",
          "data": {
            "text/plain": [
              "<Figure size 432x288 with 1 Axes>"
            ],
            "image/png": "[encoded data removed]"
          },
          "metadata": {
            "needs_background": "light"
          }
        }
      ]
    },
    {
      "cell_type": "code",
      "execution_count": 15,
      "metadata": {
        "id": "TbQKtc_K0vbE",
        "colab": {
          "base_uri": "https://localhost:8080/"
        },
        "outputId": "7df577e6-8359-40c4-d1ef-14f3cb8b5925"
      },
      "outputs": [
        {
          "output_type": "stream",
          "name": "stdout",
          "text": [
            "The min, mean, and max TPR are: 0.62, 0.65, and 0.71\n",
            "The min, mean, and max PPV are: 0.75, 0.79, and 0.82\n",
            "The min, mean, and max ACC are: 1.00, 1.00, and 1.00\n"
          ]
        }
      ],
      "source": [
        "print('The min, mean, and max TPR are: {:.2f}, {:.2f}, and {:.2f}'.format(tpr_ab.min(), tpr_ab.mean(), tpr_ab.max()))\n",
        "print('The min, mean, and max PPV are: {:.2f}, {:.2f}, and {:.2f}'.format(ppv_ab.min(), ppv_ab.mean(), ppv_ab.max()))\n",
        "print('The min, mean, and max ACC are: {:.2f}, {:.2f}, and {:.2f}'.format(acc_ab.min(), acc_ab.mean(), acc_ab.max()))"
      ]
    },
    {
      "cell_type": "markdown",
      "metadata": {
        "id": "6B3UIBCC0vbE"
      },
      "source": [
        "## Q3 Test the Performance of Random Forests\n",
        "\n",
        "Now, let's try another ensemble method: Random Forests, again using the [Scikit-learn implementation](https://scikit-learn.org/stable/modules/generated/sklearn.ensemble.RandomForestClassifier.html). \n",
        "\n",
        "Following our book, we will build complete trees, with no pruning.  That means every leaf in the tree will be completelely pure, and if you exam an individual Decision Tree it would be overtrained to our training set.  While building the decision trees, at every internal node, we select $p$ attributes at random, and then find the best split that minimizes impurtity.  The value, $p$, is a hyperparamter of the Random Forest and corresponds to the `max_features` parameter in the Random Forest Class. \n",
        "\n",
        "After you fit an RandomForest model, you can call the method `predict` to get a class prediction, or you can call `predict_proba` to get the probability of being in the class `0` or the class `1`. These probabilities are used when creating ROC curves. \n",
        "\n",
        "Loop over the $k$ folds using the dictionaries from the first problem, and for each fold calculate the accuracy, TPR, the PPV, and the FPR (feel free to reuse the functions that you already wrote to calculate these values - do not use a library function to compute these metrics).  Plot the ROC curve for each fold. You may use the [roc curve](https://scikit-learn.org/stable/modules/generated/sklearn.metrics.roc_curve.html) from Scikit-learn. There is a great example in the documentation [on plotting ROC curves in cross validation](https://scikit-learn.org/stable/auto_examples/model_selection/plot_roc_crossval.html) that is helpful.  \n",
        "\n",
        "When creating your Random Forest classifier, please use the following parameters: \n",
        "`RandomForestClassifier(criterion=\"entropy\", max_features=\"sqrt\", random_state=23)`\n",
        "\n",
        "Save the predictions from the 3rd fold into a variable called `y_hat_rf` for use in a future problem."
      ]
    },
    {
      "cell_type": "code",
      "execution_count": 17,
      "metadata": {
        "id": "knZax5_10vbE"
      },
      "outputs": [],
      "source": [
        "k = 3\n",
        "acc_rf = np.zeros(k)\n",
        "tpr_rf = np.zeros(k)\n",
        "ppv_rf = np.zeros(k)\n",
        "fpr_rf = np.zeros(k)"
      ]
    },
    {
      "cell_type": "code",
      "execution_count": 18,
      "metadata": {
        "id": "SL-uXnC10vbF",
        "colab": {
          "base_uri": "https://localhost:8080/",
          "height": 295
        },
        "outputId": "17ecf98f-7d76-4d3c-e8a3-1a9324a710c3"
      },
      "outputs": [
        {
          "output_type": "display_data",
          "data": {
            "text/plain": [
              "<Figure size 432x288 with 1 Axes>"
            ],
            "image/png": "[encoded data removed]"
          },
          "metadata": {
            "needs_background": "light"
          }
        }
      ],
      "source": [
        "# your code here\n",
        "clf_rf = RandomForestClassifier(criterion=\"entropy\", max_features=\"sqrt\", random_state=23)\n",
        "\n",
        "for i in range(k):\n",
        "    clf_rf.fit(d_train_df_X[i], d_train_s_y[i])\n",
        "    y_pred = clf_rf.predict(d_test_df_X[i])\n",
        "\n",
        "    if i == 2:\n",
        "        y_hat_rf = y_pred\n",
        "\n",
        "    acc_rf[i], tpr_rf[i], ppv_rf[i], fpr_rf[i] = compute_metrics(d_test_s_y[i], y_pred)\n",
        "    y_score = clf_rf.predict_proba(d_test_df_X[i])[:, 1]\n",
        "    fpr, tpr, _ = roc_curve(d_test_s_y[i], y_score)\n",
        "    plt.plot(fpr, tpr, label=f\"ROC Curve for Fold {i+1}\")\n",
        "\n",
        "plt.xlabel(\"False Positive Rate\")\n",
        "plt.ylabel(\"True Positive Rate\")\n",
        "plt.title(\"ROC Curves for Random Forest Classifier\")\n",
        "plt.legend()\n",
        "plt.show()\n",
        "\n",
        "\n"
      ]
    },
    {
      "cell_type": "code",
      "execution_count": 20,
      "metadata": {
        "id": "d5Drp2A20vbF",
        "colab": {
          "base_uri": "https://localhost:8080/"
        },
        "outputId": "a050a0fe-bcf5-45ee-ecd3-acf0be84f70f"
      },
      "outputs": [
        {
          "output_type": "stream",
          "name": "stdout",
          "text": [
            "The min, mean, and max TPR are: 0.75, 0.78, and 0.80\n",
            "The min, mean, and max PPV are: 0.92, 0.93, and 0.95\n",
            "The min, mean, and max ACC are: 1.00, 1.00, and 1.00\n"
          ]
        }
      ],
      "source": [
        "print('The min, mean, and max TPR are: {:.2f}, {:.2f}, and {:.2f}'.format(tpr_rf.min(), tpr_rf.mean(), tpr_rf.max()))\n",
        "print('The min, mean, and max PPV are: {:.2f}, {:.2f}, and {:.2f}'.format(ppv_rf.min(), ppv_rf.mean(), ppv_rf.max()))\n",
        "print('The min, mean, and max ACC are: {:.2f}, {:.2f}, and {:.2f}'.format(acc_rf.min(), acc_rf.mean(), acc_rf.max()))"
      ]
    },
    {
      "cell_type": "markdown",
      "metadata": {
        "id": "1XU70_Mf0vbF"
      },
      "source": [
        "# Q4 Calculate the Cost of Fraud \n",
        "\n",
        "In the above problems, we saved the predictions of the 3rd fold into the variables `y_hat_ab` and `y_hat_rf` for the AdaBoost and RandomForest models respectively. \n",
        "\n",
        "Now, Mr. Bank Man wants you to tell him how much money he is going to save if he deploys either of these fraud algorithms to the real-time payment processing system.  Assume that there is not a currently deployed fraud detection algorithm.  \n",
        "\n",
        "For every fraudulent transaction that is not predicted as fraudulent the bank looses twice the value of the transaction.  So, if a fradulent charge for €10 is undectected, it costs the bank €20.  Also, if a charge is predicted as fradulent, but wasn't, it costs the bank a flat fee of €3 in customer service support to communicate with the customer, and mark the possible fraud as a normal transaction. \n",
        "\n",
        "Using the 3rd fold test sample, calculate how much money Mr Bank Man will save by deploying each algorithm, and make a recommendation of which algorithm to deploy to production.  To calculate savings to the bank, you must first calculate the cost of the status quo, which is having no algorithm deployed. "
      ]
    },
    {
      "cell_type": "code",
      "execution_count": 19,
      "metadata": {
        "id": "i5hYCvdK0vbF",
        "colab": {
          "base_uri": "https://localhost:8080/"
        },
        "outputId": "aac3f6ea-f495-4bec-f375-fe558c646719"
      },
      "outputs": [
        {
          "output_type": "stream",
          "name": "stdout",
          "text": [
            "Status quo cost (no algorithm): €22484.739999999994\n",
            "AdaBoost cost: €8538.32, Savings: €13946.419999999995\n",
            "Random Forest cost: €4363.38, Savings: €18121.359999999993\n",
            "Recommendation: Deploy RandomForest to production.\n"
          ]
        }
      ],
      "source": [
        "def calculate_cost(y_true, y_pred, transaction_amounts):\n",
        "    false_positive_cost = 3\n",
        "    cost = 0\n",
        "    for y_t, y_p, amount in zip(y_true, y_pred, transaction_amounts):\n",
        "        if y_t == 1 and y_p == 0:  # False negative (fraudulent transaction not detected)\n",
        "            cost += 2 * amount\n",
        "        elif y_t == 0 and y_p == 1:  # False positive (non-fraudulent transaction marked as fraudulent)\n",
        "            cost += false_positive_cost\n",
        "    return cost\n",
        "\n",
        "# No algorithm\n",
        "cost_no_algo = calculate_cost(d_test_s_y[2], np.zeros(len(d_test_s_y[2])), d_test_df_X[2]['Amount'])\n",
        "cost_ab = calculate_cost(d_test_s_y[2], y_hat_ab, d_test_df_X[2]['Amount'])\n",
        "cost_rf = calculate_cost(d_test_s_y[2], y_hat_rf, d_test_df_X[2]['Amount'])\n",
        "\n",
        "savings_ab = cost_no_algo - cost_ab\n",
        "savings_rf = cost_no_algo - cost_rf\n",
        "\n",
        "print(f\"Status quo cost (no algorithm): €{cost_no_algo}\")\n",
        "print(f\"AdaBoost cost: €{cost_ab}, Savings: €{savings_ab}\")\n",
        "print(f\"Random Forest cost: €{cost_rf}, Savings: €{savings_rf}\")\n",
        "\n",
        "if savings_ab > savings_rf:\n",
        "    print(\"Recommendation: Deploy AdaBoost to production.\")\n",
        "else:\n",
        "    print(\"Recommendation: Deploy RandomForest to production.\")\n"
      ]
    },
    {
      "cell_type": "markdown",
      "metadata": {
        "id": "6x_Zz5Hs0vbF"
      },
      "source": [
        "➡️ YOUR ANSWER HERE Mr Bank man will \\[save|lose\\] money, if we deploy the RandomForest algorithm! YOUR ANSWER HERE ⬅️"
      ]
    }
  ],
  "metadata": {
    "colab": {
      "provenance": []
    },
    "kernelspec": {
      "display_name": "Python 3 (ipykernel)",
      "language": "python",
      "name": "python3"
    },
    "language_info": {
      "codemirror_mode": {
        "name": "ipython",
        "version": 3
      },
      "file_extension": ".py",
      "mimetype": "text/x-python",
      "name": "python",
      "nbconvert_exporter": "python",
      "pygments_lexer": "ipython3",
      "version": "3.11.1"
    }
  },
  "nbformat": 4,
  "nbformat_minor": 0
}