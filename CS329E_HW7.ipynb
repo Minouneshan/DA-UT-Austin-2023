{
  "cells": [
    {
      "cell_type": "markdown",
      "metadata": {
        "id": "TH05jLZnAdwO"
      },
      "source": [
        "## C S 329E HW 7\n",
        "\n",
        "# Naive Bayes \n",
        "\n",
        "## Group 26: Fayed Nassor and Mohamad Minoneshan\n",
        "\n",
        "For this week's homework we are going explore one new classification technique:\n",
        "\n",
        "  - Naive Bayes\n",
        "\n",
        "We are reusing the version of the Melbourne housing data set from HW6, to predict the housing type as one of three possible categories:\n",
        "\n",
        "  - 'h' house\n",
        "  - 'u' duplex\n",
        "  - 't' townhouse\n",
        "\n",
        "In addition to building our own Naive Bayes classifier, we are going to compare the performace of our classifier to the [Gaussian Naive Bayes Classifier](https://scikit-learn.org/stable/modules/naive_bayes.html#gaussian-naive-bayes) available in the scikit-learn library. "
      ]
    },
    {
      "cell_type": "code",
      "execution_count": null,
      "metadata": {
        "id": "mxOEaALXAdwP"
      },
      "outputs": [],
      "source": [
        "# These are the libraries you will use for this assignment\n",
        "import pandas as pd\n",
        "import numpy as np\n",
        "import matplotlib.pyplot as plt\n",
        "import time\n",
        "import calendar\n",
        "from sklearn.naive_bayes import GaussianNB # The only thing in scikit-learn you can use this assignment\n",
        "\n",
        "# Starting off loading a training set and setting a variable for the target column, \"Type\"\n",
        "df_melb = pd.read_csv('https://gist.githubusercontent.com/yanyanzheng96/81b236aecee57f6cf65e60afd865d2bb/raw/56ddb53aa90c26ab1bdbfd0b8d8229c8d08ce45a/melb_data_train.csv')\n",
        "target_col = 'Type'"
      ]
    },
    {
      "cell_type": "markdown",
      "metadata": {
        "id": "AIqe7xguAdwQ"
      },
      "source": [
        "## Q1 - Fix a column of data to be numeric\n",
        "If we inspect our dataframe, `df_melb` using the `dtypes` method, we see that the column \"Date\" is an object.  However, we think this column might contain useful information so we want to convert it to [seconds since epoch](https://en.wikipedia.org/wiki/Unix_time). Use only the exiting imported libraries to create a new column \"unixtime\". Be careful, the date strings in the file might have some non-uniform formating that you have to fix first.  Print out the min and max epoch time to check your work.  Drop the original \"Date\" column. \n",
        "\n",
        "THESE ARE THE EXACT SAME INSTRUCTIONS FROM HW6! Please take this opportunity to reuse your code (if you got it right last time). "
      ]
    },
    {
      "cell_type": "code",
      "execution_count": null,
      "metadata": {
        "id": "GsZh4vnUAdwQ"
      },
      "outputs": [],
      "source": [
        "# normalize date accepts the date string as shown in the df_melb 'Date' column,\n",
        "# and returns a data in a standarized format\n",
        "def standardize_date(d):\n",
        "    day, month, year = map(int, d.split('/'))\n",
        "    if len(str(year)) == 2:\n",
        "        if year > 68:\n",
        "            year = int('19' + str(year))\n",
        "        else:\n",
        "            year = int('20' + str(year))\n",
        "    time_struct = time.struct_time((year, month, day, 0, 0, 0, -1, -1, -1))\n",
        "    epoch_time = int(time.mktime(time_struct))\n",
        "    return epoch_time"
      ]
    },
    {
      "cell_type": "code",
      "execution_count": null,
      "metadata": {
        "id": "V3H7O7YKAdwQ",
        "colab": {
          "base_uri": "https://localhost:8080/"
        },
        "outputId": "ce4abcbb-59ab-4940-86aa-f075968f0573"
      },
      "outputs": [
        {
          "output_type": "stream",
          "name": "stdout",
          "text": [
            "The min unixtime is 1454544000 and the max unixtime is 1506124800\n"
          ]
        }
      ],
      "source": [
        "df_melb['Date'] = df_melb['Date'].apply( standardize_date )\n",
        "df_melb['unixtime'] = df_melb['Date']\n",
        "df_melb = df_melb.drop(columns=\"Date\")\n",
        "\n",
        "print(\"The min unixtime is {:d} and the max unixtime is {:d}\".format(df_melb['unixtime'].min(),df_melb['unixtime'].max()))"
      ]
    },
    {
      "cell_type": "code",
      "source": [
        "df_melb"
      ],
      "metadata": {
        "colab": {
          "base_uri": "https://localhost:8080/",
          "height": 424
        },
        "id": "4_FRSB_qycjh",
        "outputId": "385748d5-8f35-4573-b128-b6b176843d06"
      },
      "execution_count": null,
      "outputs": [
        {
          "output_type": "execute_result",
          "data": {
            "text/plain": [
              "     Rooms Type    Price  Distance  Postcode  Bathroom  Car  Landsize  \\\n",
              "0        2    h   399000       8.7      3032         1  1.0       904   \n",
              "1        3    h  1241000      13.9      3165         1  1.0       643   \n",
              "2        2    u   550000       3.0      3067         1  1.0      1521   \n",
              "3        3    u   691000       8.4      3072         1  1.0       170   \n",
              "4        2    u   657500       4.6      3122         1  1.0       728   \n",
              "..     ...  ...      ...       ...       ...       ...  ...       ...   \n",
              "495      2    t   710000       7.2      3184         1  1.0         0   \n",
              "496      2    u   446000       8.0      3040         1  1.0         0   \n",
              "497      3    h   887000       9.2      3058         1  2.0       560   \n",
              "498      3    h  1365000       8.0      3040         1  1.0       754   \n",
              "499      2    u   442000       4.2      3031         2  1.0      3448   \n",
              "\n",
              "     BuildingArea  YearBuilt    unixtime  \n",
              "0            53.0     1985.0  1462579200  \n",
              "1             NaN        NaN  1472342400  \n",
              "2             NaN        NaN  1499472000  \n",
              "3             NaN        NaN  1498262400  \n",
              "4            73.0     1965.0  1479513600  \n",
              "..            ...        ...         ...  \n",
              "495           NaN     1980.0  1501286400  \n",
              "496           NaN        NaN  1460764800  \n",
              "497           NaN        NaN  1491609600  \n",
              "498           NaN        NaN  1462579200  \n",
              "499          71.0     2010.0  1481328000  \n",
              "\n",
              "[500 rows x 11 columns]"
            ],
            "text/html": [
              "\n",
              "  <div id=\"df-6ebff8b0-10c0-422c-b5bf-2a81cd2e01d9\">\n",
              "    <div class=\"colab-df-container\">\n",
              "      <div>\n",
              "<style scoped>\n",
              "    .dataframe tbody tr th:only-of-type {\n",
              "        vertical-align: middle;\n",
              "    }\n",
              "\n",
              "    .dataframe tbody tr th {\n",
              "        vertical-align: top;\n",
              "    }\n",
              "\n",
              "    .dataframe thead th {\n",
              "        text-align: right;\n",
              "    }\n",
              "</style>\n",
              "<table border=\"1\" class=\"dataframe\">\n",
              "  <thead>\n",
              "    <tr style=\"text-align: right;\">\n",
              "      <th></th>\n",
              "      <th>Rooms</th>\n",
              "      <th>Type</th>\n",
              "      <th>Price</th>\n",
              "      <th>Distance</th>\n",
              "      <th>Postcode</th>\n",
              "      <th>Bathroom</th>\n",
              "      <th>Car</th>\n",
              "      <th>Landsize</th>\n",
              "      <th>BuildingArea</th>\n",
              "      <th>YearBuilt</th>\n",
              "      <th>unixtime</th>\n",
              "    </tr>\n",
              "  </thead>\n",
              "  <tbody>\n",
              "    <tr>\n",
              "      <th>0</th>\n",
              "      <td>2</td>\n",
              "      <td>h</td>\n",
              "      <td>399000</td>\n",
              "      <td>8.7</td>\n",
              "      <td>3032</td>\n",
              "      <td>1</td>\n",
              "      <td>1.0</td>\n",
              "      <td>904</td>\n",
              "      <td>53.0</td>\n",
              "      <td>1985.0</td>\n",
              "      <td>1462579200</td>\n",
              "    </tr>\n",
              "    <tr>\n",
              "      <th>1</th>\n",
              "      <td>3</td>\n",
              "      <td>h</td>\n",
              "      <td>1241000</td>\n",
              "      <td>13.9</td>\n",
              "      <td>3165</td>\n",
              "      <td>1</td>\n",
              "      <td>1.0</td>\n",
              "      <td>643</td>\n",
              "      <td>NaN</td>\n",
              "      <td>NaN</td>\n",
              "      <td>1472342400</td>\n",
              "    </tr>\n",
              "    <tr>\n",
              "      <th>2</th>\n",
              "      <td>2</td>\n",
              "      <td>u</td>\n",
              "      <td>550000</td>\n",
              "      <td>3.0</td>\n",
              "      <td>3067</td>\n",
              "      <td>1</td>\n",
              "      <td>1.0</td>\n",
              "      <td>1521</td>\n",
              "      <td>NaN</td>\n",
              "      <td>NaN</td>\n",
              "      <td>1499472000</td>\n",
              "    </tr>\n",
              "    <tr>\n",
              "      <th>3</th>\n",
              "      <td>3</td>\n",
              "      <td>u</td>\n",
              "      <td>691000</td>\n",
              "      <td>8.4</td>\n",
              "      <td>3072</td>\n",
              "      <td>1</td>\n",
              "      <td>1.0</td>\n",
              "      <td>170</td>\n",
              "      <td>NaN</td>\n",
              "      <td>NaN</td>\n",
              "      <td>1498262400</td>\n",
              "    </tr>\n",
              "    <tr>\n",
              "      <th>4</th>\n",
              "      <td>2</td>\n",
              "      <td>u</td>\n",
              "      <td>657500</td>\n",
              "      <td>4.6</td>\n",
              "      <td>3122</td>\n",
              "      <td>1</td>\n",
              "      <td>1.0</td>\n",
              "      <td>728</td>\n",
              "      <td>73.0</td>\n",
              "      <td>1965.0</td>\n",
              "      <td>1479513600</td>\n",
              "    </tr>\n",
              "    <tr>\n",
              "      <th>...</th>\n",
              "      <td>...</td>\n",
              "      <td>...</td>\n",
              "      <td>...</td>\n",
              "      <td>...</td>\n",
              "      <td>...</td>\n",
              "      <td>...</td>\n",
              "      <td>...</td>\n",
              "      <td>...</td>\n",
              "      <td>...</td>\n",
              "      <td>...</td>\n",
              "      <td>...</td>\n",
              "    </tr>\n",
              "    <tr>\n",
              "      <th>495</th>\n",
              "      <td>2</td>\n",
              "      <td>t</td>\n",
              "      <td>710000</td>\n",
              "      <td>7.2</td>\n",
              "      <td>3184</td>\n",
              "      <td>1</td>\n",
              "      <td>1.0</td>\n",
              "      <td>0</td>\n",
              "      <td>NaN</td>\n",
              "      <td>1980.0</td>\n",
              "      <td>1501286400</td>\n",
              "    </tr>\n",
              "    <tr>\n",
              "      <th>496</th>\n",
              "      <td>2</td>\n",
              "      <td>u</td>\n",
              "      <td>446000</td>\n",
              "      <td>8.0</td>\n",
              "      <td>3040</td>\n",
              "      <td>1</td>\n",
              "      <td>1.0</td>\n",
              "      <td>0</td>\n",
              "      <td>NaN</td>\n",
              "      <td>NaN</td>\n",
              "      <td>1460764800</td>\n",
              "    </tr>\n",
              "    <tr>\n",
              "      <th>497</th>\n",
              "      <td>3</td>\n",
              "      <td>h</td>\n",
              "      <td>887000</td>\n",
              "      <td>9.2</td>\n",
              "      <td>3058</td>\n",
              "      <td>1</td>\n",
              "      <td>2.0</td>\n",
              "      <td>560</td>\n",
              "      <td>NaN</td>\n",
              "      <td>NaN</td>\n",
              "      <td>1491609600</td>\n",
              "    </tr>\n",
              "    <tr>\n",
              "      <th>498</th>\n",
              "      <td>3</td>\n",
              "      <td>h</td>\n",
              "      <td>1365000</td>\n",
              "      <td>8.0</td>\n",
              "      <td>3040</td>\n",
              "      <td>1</td>\n",
              "      <td>1.0</td>\n",
              "      <td>754</td>\n",
              "      <td>NaN</td>\n",
              "      <td>NaN</td>\n",
              "      <td>1462579200</td>\n",
              "    </tr>\n",
              "    <tr>\n",
              "      <th>499</th>\n",
              "      <td>2</td>\n",
              "      <td>u</td>\n",
              "      <td>442000</td>\n",
              "      <td>4.2</td>\n",
              "      <td>3031</td>\n",
              "      <td>2</td>\n",
              "      <td>1.0</td>\n",
              "      <td>3448</td>\n",
              "      <td>71.0</td>\n",
              "      <td>2010.0</td>\n",
              "      <td>1481328000</td>\n",
              "    </tr>\n",
              "  </tbody>\n",
              "</table>\n",
              "<p>500 rows × 11 columns</p>\n",
              "</div>\n",
              "      <button class=\"colab-df-convert\" onclick=\"convertToInteractive('df-6ebff8b0-10c0-422c-b5bf-2a81cd2e01d9')\"\n",
              "              title=\"Convert this dataframe to an interactive table.\"\n",
              "              style=\"display:none;\">\n",
              "        \n",
              "  <svg xmlns=\"http://www.w3.org/2000/svg\" height=\"24px\"viewBox=\"0 0 24 24\"\n",
              "       width=\"24px\">\n",
              "    <path d=\"M0 0h24v24H0V0z\" fill=\"none\"/>\n",
              "    <path d=\"M18.56 5.44l.94 2.06.94-2.06 2.06-.94-2.06-.94-.94-2.06-.94 2.06-2.06.94zm-11 1L8.5 8.5l.94-2.06 2.06-.94-2.06-.94L8.5 2.5l-.94 2.06-2.06.94zm10 10l.94 2.06.94-2.06 2.06-.94-2.06-.94-.94-2.06-.94 2.06-2.06.94z\"/><path d=\"M17.41 7.96l-1.37-1.37c-.4-.4-.92-.59-1.43-.59-.52 0-1.04.2-1.43.59L10.3 9.45l-7.72 7.72c-.78.78-.78 2.05 0 2.83L4 21.41c.39.39.9.59 1.41.59.51 0 1.02-.2 1.41-.59l7.78-7.78 2.81-2.81c.8-.78.8-2.07 0-2.86zM5.41 20L4 18.59l7.72-7.72 1.47 1.35L5.41 20z\"/>\n",
              "  </svg>\n",
              "      </button>\n",
              "      \n",
              "  <style>\n",
              "    .colab-df-container {\n",
              "      display:flex;\n",
              "      flex-wrap:wrap;\n",
              "      gap: 12px;\n",
              "    }\n",
              "\n",
              "    .colab-df-convert {\n",
              "      background-color: #E8F0FE;\n",
              "      border: none;\n",
              "      border-radius: 50%;\n",
              "      cursor: pointer;\n",
              "      display: none;\n",
              "      fill: #1967D2;\n",
              "      height: 32px;\n",
              "      padding: 0 0 0 0;\n",
              "      width: 32px;\n",
              "    }\n",
              "\n",
              "    .colab-df-convert:hover {\n",
              "      background-color: #E2EBFA;\n",
              "      box-shadow: 0px 1px 2px rgba(60, 64, 67, 0.3), 0px 1px 3px 1px rgba(60, 64, 67, 0.15);\n",
              "      fill: #174EA6;\n",
              "    }\n",
              "\n",
              "    [theme=dark] .colab-df-convert {\n",
              "      background-color: #3B4455;\n",
              "      fill: #D2E3FC;\n",
              "    }\n",
              "\n",
              "    [theme=dark] .colab-df-convert:hover {\n",
              "      background-color: #434B5C;\n",
              "      box-shadow: 0px 1px 3px 1px rgba(0, 0, 0, 0.15);\n",
              "      filter: drop-shadow(0px 1px 2px rgba(0, 0, 0, 0.3));\n",
              "      fill: #FFFFFF;\n",
              "    }\n",
              "  </style>\n",
              "\n",
              "      <script>\n",
              "        const buttonEl =\n",
              "          document.querySelector('#df-6ebff8b0-10c0-422c-b5bf-2a81cd2e01d9 button.colab-df-convert');\n",
              "        buttonEl.style.display =\n",
              "          google.colab.kernel.accessAllowed ? 'block' : 'none';\n",
              "\n",
              "        async function convertToInteractive(key) {\n",
              "          const element = document.querySelector('#df-6ebff8b0-10c0-422c-b5bf-2a81cd2e01d9');\n",
              "          const dataTable =\n",
              "            await google.colab.kernel.invokeFunction('convertToInteractive',\n",
              "                                                     [key], {});\n",
              "          if (!dataTable) return;\n",
              "\n",
              "          const docLinkHtml = 'Like what you see? Visit the ' +\n",
              "            '<a target=\"_blank\" href=https://colab.research.google.com/notebooks/data_table.ipynb>data table notebook</a>'\n",
              "            + ' to learn more about interactive tables.';\n",
              "          element.innerHTML = '';\n",
              "          dataTable['output_type'] = 'display_data';\n",
              "          await google.colab.output.renderOutput(dataTable, element);\n",
              "          const docLink = document.createElement('div');\n",
              "          docLink.innerHTML = docLinkHtml;\n",
              "          element.appendChild(docLink);\n",
              "        }\n",
              "      </script>\n",
              "    </div>\n",
              "  </div>\n",
              "  "
            ]
          },
          "metadata": {},
          "execution_count": 4
        }
      ]
    },
    {
      "cell_type": "markdown",
      "metadata": {
        "id": "L-BBrV7IAdwQ"
      },
      "source": [
        "## Q2 Calculating the prior probabilities\n",
        "Calculate the prior probabilities for each possible \"Type\" in `df_melb` and populate a dictionary, `dict_priors`, where the key is the possible \"Type\" values and the value is the prior probabilities. Show the dictionary. Do not hardcode the possible values of \"Type\".  Don't forget about [value counts](https://pandas.pydata.org/docs/reference/api/pandas.Series.value_counts.html). "
      ]
    },
    {
      "cell_type": "code",
      "execution_count": null,
      "metadata": {
        "id": "9r90GrFUAdwR",
        "colab": {
          "base_uri": "https://localhost:8080/"
        },
        "outputId": "cf6a9178-4fb5-489e-b3ba-18145c15997c"
      },
      "outputs": [
        {
          "output_type": "execute_result",
          "data": {
            "text/plain": [
              "{'h': 0.452, 'u': 0.418, 't': 0.13}"
            ]
          },
          "metadata": {},
          "execution_count": 5
        }
      ],
      "source": [
        "counts = df_melb['Type'].value_counts() / len(df_melb)\n",
        "dict_priors = counts.to_dict()\n",
        "\n",
        "# show the priors\n",
        "dict_priors"
      ]
    },
    {
      "cell_type": "markdown",
      "metadata": {
        "id": "crVNhuozAdwR"
      },
      "source": [
        "## Q3 Create a model for the distribution of all of the numeric attributes\n",
        "For each class, and for each attribute calculate the sample mean and sample standard deviation.  You should store the model in a nested dictionary, `dict_nb_model`, such that `dict_nb_model['h']['Rooms']` is a tuple containing the mean and standard deviation for the target Type 'h' and the attribute 'Rooms'.  Show the model using the `display` function. You should ignore entries that are `NaN` in the mean and [standard deviation](https://pandas.pydata.org/docs/reference/api/pandas.Series.std.html) calculation. "
      ]
    },
    {
      "cell_type": "code",
      "execution_count": null,
      "metadata": {
        "id": "U7Dknwd8AdwR"
      },
      "outputs": [],
      "source": [
        "dict_nb_model = dict()\n",
        "for target in dict_priors.keys():\n",
        "    # your code here\n",
        "    dict_nb_model[target] = dict()\n",
        "    for att in df_melb.columns.drop('Type'):\n",
        "      dict_nb_model[target][att] = (df_melb[df_melb['Type'] == target][att].mean(),df_melb[df_melb['Type'] == target][att].std())"
      ]
    },
    {
      "cell_type": "code",
      "execution_count": null,
      "metadata": {
        "id": "fXuXDVcuAdwR",
        "colab": {
          "base_uri": "https://localhost:8080/",
          "height": 553
        },
        "outputId": "3a0c00ad-c6cc-4039-ebfe-5e3b07e5972e"
      },
      "outputs": [
        {
          "output_type": "display_data",
          "data": {
            "text/plain": [
              "{'h': {'Rooms': (3.269911504424779, 0.725826420112775),\n",
              "  'Price': (1189022.3451327435, 586296.5794417894),\n",
              "  'Distance': (12.086725663716816, 7.397501132737295),\n",
              "  'Postcode': (3103.8982300884954, 98.35750345419703),\n",
              "  'Bathroom': (1.5619469026548674, 0.6720871086493074),\n",
              "  'Car': (1.7777777777777777, 0.932759177140425),\n",
              "  'Landsize': (932.9646017699115, 3830.7934157687173),\n",
              "  'BuildingArea': (156.2433962264151, 54.62662837301433),\n",
              "  'YearBuilt': (1954.900826446281, 32.4618763471547),\n",
              "  'unixtime': (1485717578.761062, 13838562.05060146)},\n",
              " 'u': {'Rooms': (2.0430622009569377, 0.5908453859944255),\n",
              "  'Price': (634207.1770334928, 217947.32866736987),\n",
              "  'Distance': (8.760287081339714, 5.609778714430756),\n",
              "  'Postcode': (3120.4545454545455, 87.18475679946476),\n",
              "  'Bathroom': (1.1818181818181819, 0.4222815154866222),\n",
              "  'Car': (1.1483253588516746, 0.47231993860297056),\n",
              "  'Landsize': (436.23444976076553, 1394.3403794653257),\n",
              "  'BuildingArea': (83.85585585585585, 45.95943801516662),\n",
              "  'YearBuilt': (1976.451388888889, 24.557291330642666),\n",
              "  'unixtime': (1484176719.617225, 13494566.111289725)},\n",
              " 't': {'Rooms': (2.9076923076923076, 0.6052653582075831),\n",
              "  'Price': (1000169.2307692308, 421822.5363389936),\n",
              "  'Distance': (10.766153846153848, 4.8704554754623866),\n",
              "  'Postcode': (3121.6153846153848, 100.01588816090864),\n",
              "  'Bathroom': (1.8461538461538463, 0.565430401076506),\n",
              "  'Car': (1.6923076923076923, 0.5280588545286916),\n",
              "  'Landsize': (268.18461538461537, 276.57700624711265),\n",
              "  'BuildingArea': (138.66666666666666, 53.49863705429014),\n",
              "  'YearBuilt': (1997.0227272727273, 16.991774530381807),\n",
              "  'unixtime': (1486525292.3076923, 12640127.609871909)}}"
            ]
          },
          "metadata": {}
        }
      ],
      "source": [
        "display(dict_nb_model)"
      ]
    },
    {
      "cell_type": "markdown",
      "metadata": {
        "id": "Xj1x2hdgAdwR"
      },
      "source": [
        "## Q4 Write a function that calculates the probability of a Gaussian\n",
        "Given the mean ($\\mu$), standard deviation ($\\sigma$), and a observed point, `x`, return the probability.  \n",
        "Use the formula $p(x) = \\frac{1}{\\sigma \\sqrt{2 \\pi}} e^{-\\frac{1}{2}(\\frac{x-\\mu}{\\sigma})^2}$ ([wiki](https://en.wikipedia.org/wiki/Normal_distribution)).  You should use [numpy's exp](https://numpy.org/doc/stable/reference/generated/numpy.exp.html) function in your solution. "
      ]
    },
    {
      "cell_type": "code",
      "execution_count": null,
      "metadata": {
        "id": "bifiUelqAdwS"
      },
      "outputs": [],
      "source": [
        "def get_p( mu, sigma, x):\n",
        "    # your code here\n",
        "    p = np.exp(-0.5*((x-mu)/sigma)**2) / (sigma * np.sqrt(2*np.pi))\n",
        "    return p"
      ]
    },
    {
      "cell_type": "code",
      "execution_count": null,
      "metadata": {
        "id": "1Fd_sb8gAdwS",
        "colab": {
          "base_uri": "https://localhost:8080/"
        },
        "outputId": "efa59687-8176-4dbb-fccb-be14e0894607"
      },
      "outputs": [
        {
          "output_type": "execute_result",
          "data": {
            "text/plain": [
              "0.19333405840142465"
            ]
          },
          "metadata": {},
          "execution_count": 9
        }
      ],
      "source": [
        "# Test it. You should get a value of 0.19333405840142462\n",
        "p = get_p( 0, 2, 0.5)\n",
        "p"
      ]
    },
    {
      "cell_type": "markdown",
      "metadata": {
        "id": "4aiRCv8AAdwS"
      },
      "source": [
        "## Q5 Write the Naive Bayes classifier function\n",
        "The Naive Bayes classifier function, `nb_class`, should take as a parameter the prior probability dictionary, `dict_priors`, the dictionary containing all of the gaussian distribution information for each attribue, `dict_nb_model`, and a single observation row (a series generated from iterrows) of the test dataframe. It should return a single target classification. For this problem, all of our attributes are numeric and modeled as Gaussians, so we don't worry about categorical data. Make sure to skip attributes that do not have a value in the observation.  Do not hardcode the possible classification types. "
      ]
    },
    {
      "cell_type": "code",
      "execution_count": null,
      "metadata": {
        "id": "6CdwWnrlAdwS"
      },
      "outputs": [],
      "source": [
        "def nb_class( dict_priors, dict_nb_model, observation):\n",
        "    # your code here  \n",
        "    max_posterior_prob = -1\n",
        "    max_posterior_class = None\n",
        "    \n",
        "    for target in dict_priors.keys():\n",
        "        prior_prob = dict_priors[target]\n",
        "        posterior_prob = prior_prob\n",
        "        \n",
        "        for att in dict_nb_model[target].keys():\n",
        "            if pd.isna(observation[att]):\n",
        "                continue\n",
        "            \n",
        "            mu, sigma = dict_nb_model[target][att]\n",
        "            x = observation[att]\n",
        "            p = get_p(mu, sigma, x)\n",
        "            posterior_prob *= p\n",
        "        \n",
        "        if posterior_prob > max_posterior_prob:\n",
        "            max_posterior_prob = posterior_prob\n",
        "            max_posterior_class = target\n",
        "    \n",
        "    return max_posterior_class"
      ]
    },
    {
      "cell_type": "markdown",
      "metadata": {
        "id": "ROqn-ohCAdwS"
      },
      "source": [
        "## Q6 Calculate the accuracy using Naive Bayes classifier function on the test set\n",
        "Load the test set from file, convert date to unix time and drop the date column, classify each row using your `nb_class`, and then show the accuracy on the test set. "
      ]
    },
    {
      "cell_type": "code",
      "execution_count": null,
      "metadata": {
        "id": "BrSuXPDEAdwS"
      },
      "outputs": [],
      "source": [
        "df_test = pd.read_csv('https://gist.githubusercontent.com/yanyanzheng96/c3d53303cebbd986b166591d19254bac/raw/94eb3b2d500d5f7bbc0441a8419cd855349d5d8e/melb_data_test.csv')\n",
        "df_test['Date'] = df_test['Date'].apply( standardize_date )\n",
        "df_test['unixtime'] = df_test['Date']\n",
        "df_test = df_test.drop(columns=\"Date\")"
      ]
    },
    {
      "cell_type": "code",
      "execution_count": null,
      "metadata": {
        "id": "AQ0Vcnv0AdwT"
      },
      "outputs": [],
      "source": [
        "predictions = []\n",
        "\n",
        "for (indx,row) in df_test.iterrows():\n",
        "    # your code here\n",
        "    predictions.append(nb_class(dict_priors, dict_nb_model, row))\n"
      ]
    },
    {
      "cell_type": "code",
      "execution_count": null,
      "metadata": {
        "id": "4z9wnII5AdwT"
      },
      "outputs": [],
      "source": [
        "acc = (predictions == df_test['Type']).mean()"
      ]
    },
    {
      "cell_type": "code",
      "execution_count": null,
      "metadata": {
        "id": "Eq68OQktAdwT",
        "colab": {
          "base_uri": "https://localhost:8080/"
        },
        "outputId": "6aceee4c-7e0c-4146-c137-a9fb059c59b7"
      },
      "outputs": [
        {
          "output_type": "stream",
          "name": "stdout",
          "text": [
            "Accuracy is 57.00%\n"
          ]
        }
      ],
      "source": [
        "# You should get and accuracy of 57.00%\n",
        "print('Accuracy is {:.2f}%'.format(acc*100))"
      ]
    },
    {
      "cell_type": "markdown",
      "metadata": {
        "id": "8TPqSt1aAdwT"
      },
      "source": [
        "## Use scikit-learn to do the same thing!\n",
        "\n",
        "Now we understand the inner workings of the Naive Bayes algorithm, let's compare our results to [scikit-learn's Naive Bayes](https://scikit-learn.org/stable/modules/naive_bayes.html) implementation. Use the [GaussianNB](https://scikit-learn.org/stable/modules/naive_bayes.html#gaussian-naive-bayes) to train using the `df_melb`dataframe and test using the `df_test` dataframe. Remember to split `df_melb` into a `df_X` with the numerical attributes, and a `s_y` with the target column. On the `df_melb` frame you will have to fill the empty attributes via imputation since the scikit-learn library can not handle missing values.  Use the same method you used in the last homework (filling the training data with the mean of the non-nan values). \n",
        "\n",
        "Answer the following in a markdown cell: do you think imputation hurt or helped the classifier?"
      ]
    },
    {
      "cell_type": "code",
      "execution_count": null,
      "metadata": {
        "id": "K7PpdscpAdwT"
      },
      "outputs": [],
      "source": [
        "# Imputation training\n",
        "dict_imputation = dict()\n",
        "# your code here\n",
        "df_X = df_melb.drop(\"Type\", axis=1)\n",
        "s_y = df_melb[\"Type\"]\n",
        "for col in df_X.columns:\n",
        "    if col == 'Type':\n",
        "        continue\n",
        "    else:\n",
        "        dict_imputation[col] = df_X[col].mean()\n",
        "        df_X[col].fillna(dict_imputation[col], inplace=True)\n",
        "# Imputation - apply on the test data\n",
        "# your code here\n",
        "for col in df_test.columns:\n",
        "    if col == 'Type':\n",
        "        continue\n",
        "    else:\n",
        "        df_test[col].fillna(dict_imputation[col],inplace=True)\n",
        "\n",
        "# Seperate the attributes from the target_col\n",
        "# your code here\n",
        "X_train = df_X.values\n",
        "y_train = s_y.values\n",
        "X_test = df_test.drop(\"Type\", axis=1).values\n"
      ]
    },
    {
      "cell_type": "code",
      "execution_count": null,
      "metadata": {
        "id": "VLGjkyi1AdwU"
      },
      "outputs": [],
      "source": [
        "gnb = GaussianNB()\n",
        "# your code here\n",
        "gnb.fit(X_train, y_train)\n",
        "y_pred = gnb.predict(X_test)"
      ]
    },
    {
      "cell_type": "code",
      "execution_count": null,
      "metadata": {
        "id": "tG7nw1QeAdwU",
        "colab": {
          "base_uri": "https://localhost:8080/"
        },
        "outputId": "4af27d80-e84c-4f67-9867-9c63d15b7b0f"
      },
      "outputs": [
        {
          "output_type": "stream",
          "name": "stdout",
          "text": [
            "Accuracy is 37.00%\n"
          ]
        }
      ],
      "source": [
        "acc = (y_pred == df_test['Type']).mean()\n",
        "print('Accuracy is {:.2f}%'.format(acc*100))"
      ]
    },
    {
      "cell_type": "markdown",
      "metadata": {
        "id": "_zcYJca0AdwU"
      },
      "source": [
        "## ANSWER TO \"do you think imputation hurt or helped the classifier?\" \n",
        "\n",
        "#### Answer:\n",
        "We think it hurt it as apparently our accuracy decreased from 57% to 37%!"
      ]
    },
    {
      "cell_type": "code",
      "source": [],
      "metadata": {
        "id": "WHheg2HTENu5"
      },
      "execution_count": null,
      "outputs": []
    }
  ],
  "metadata": {
    "kernelspec": {
      "display_name": "Python 3 (ipykernel)",
      "language": "python",
      "name": "python3"
    },
    "language_info": {
      "codemirror_mode": {
        "name": "ipython",
        "version": 3
      },
      "file_extension": ".py",
      "mimetype": "text/x-python",
      "name": "python",
      "nbconvert_exporter": "python",
      "pygments_lexer": "ipython3",
      "version": "3.10.8"
    },
    "colab": {
      "provenance": []
    }
  },
  "nbformat": 4,
  "nbformat_minor": 0
}