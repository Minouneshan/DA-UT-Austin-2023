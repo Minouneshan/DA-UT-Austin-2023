{
 "cells": [
  {
   "cell_type": "markdown",
   "metadata": {
    "id": "CsII0Mcormyn"
   },
   "source": [
    "### C S 329E HW 4\n",
    "\n",
    "## Pair Programming Group Number: FILL IN HERE\n",
    "## Members of Team: FILL IN HERE\n",
    "\n",
    "## Decision Tree Classifier\n",
    "\n",
    "\n",
    "For this weeks homework we are going to explore ideas around decision tree implementation!  \n",
    "\n",
    "We will implement some helper functions that would be necessary for a home-grown tree:\n",
    "  - calc_entropy\n",
    "  - calc_gini\n",
    "  \n",
    "and them test them out at given data splits. \n",
    "  \n",
    "And finally, to perform predictive and descriptive analytics we use the [Decision Tree Classifier](https://scikit-learn.org/stable/modules/tree.html#classification) class in the scikit-learn package.\n",
    "\n",
    "  \n",
    "For this assignment, the stopping condition will be the depth of the tree. The impurity measure can be either `Entropy` or `Gini`.\n",
    "\n",
    "To test our tree built from the Decision Tree Classifier class, we will revisit our Melbourne housing data (that has been cleaned and pruned) and use the files:\n",
    "\n",
    "   - `melb_tree_train.csv` for training the decision tree (we'll also see what happens if we use the same data to test as we used to train the data in the last problem)\n",
    "   - `melb_tree_test.csv` for testing the decision tree\n",
    "\n",
    "There are 10 features in these dataframes that we can use to describe and predict the class label housing \"Type\", which is 'h' house, 'u' duplex, or 't' townhome. "
   ]
  },
  {
   "cell_type": "code",
   "execution_count": 38,
   "metadata": {
    "id": "XW5qmE_qrmyp"
   },
   "outputs": [],
   "source": [
    "# import the libraries\n",
    "import pandas as pd\n",
    "import numpy as np\n",
    "import matplotlib.pyplot as plt\n",
    "from math import log2\n",
    "from sklearn import tree # you'll probably need to install this - look at Q6 for a link \n",
    "import graphviz # you'll probably need to install this - look at Q6 for a link "
   ]
  },
  {
   "cell_type": "code",
   "execution_count": 39,
   "metadata": {
    "colab": {
     "base_uri": "https://localhost:8080/",
     "height": 204
    },
    "id": "oHRp2EZkr9S2",
    "outputId": "7cc66d22-ae39-42b1-f08a-5f568fd4f87c"
   },
   "outputs": [
    {
     "data": {
      "text/html": [
       "<div>\n",
       "<style scoped>\n",
       "    .dataframe tbody tr th:only-of-type {\n",
       "        vertical-align: middle;\n",
       "    }\n",
       "\n",
       "    .dataframe tbody tr th {\n",
       "        vertical-align: top;\n",
       "    }\n",
       "\n",
       "    .dataframe thead th {\n",
       "        text-align: right;\n",
       "    }\n",
       "</style>\n",
       "<table border=\"1\" class=\"dataframe\">\n",
       "  <thead>\n",
       "    <tr style=\"text-align: right;\">\n",
       "      <th></th>\n",
       "      <th>Rooms</th>\n",
       "      <th>Type</th>\n",
       "      <th>Price</th>\n",
       "      <th>Distance</th>\n",
       "      <th>Bedroom2</th>\n",
       "      <th>Bathroom</th>\n",
       "      <th>Car</th>\n",
       "      <th>Landsize</th>\n",
       "      <th>BuildingArea</th>\n",
       "      <th>YearBuilt</th>\n",
       "      <th>CouncilArea</th>\n",
       "    </tr>\n",
       "  </thead>\n",
       "  <tbody>\n",
       "    <tr>\n",
       "      <th>0</th>\n",
       "      <td>2</td>\n",
       "      <td>t</td>\n",
       "      <td>771000.0</td>\n",
       "      <td>13.8</td>\n",
       "      <td>2.0</td>\n",
       "      <td>1.0</td>\n",
       "      <td>1.0</td>\n",
       "      <td>0.0</td>\n",
       "      <td>99.0</td>\n",
       "      <td>1992.0</td>\n",
       "      <td>Bayside</td>\n",
       "    </tr>\n",
       "    <tr>\n",
       "      <th>1</th>\n",
       "      <td>3</td>\n",
       "      <td>t</td>\n",
       "      <td>700000.0</td>\n",
       "      <td>7.9</td>\n",
       "      <td>3.0</td>\n",
       "      <td>2.0</td>\n",
       "      <td>1.0</td>\n",
       "      <td>189.0</td>\n",
       "      <td>110.0</td>\n",
       "      <td>1990.0</td>\n",
       "      <td>Banyule</td>\n",
       "    </tr>\n",
       "    <tr>\n",
       "      <th>2</th>\n",
       "      <td>3</td>\n",
       "      <td>u</td>\n",
       "      <td>975000.0</td>\n",
       "      <td>12.1</td>\n",
       "      <td>3.0</td>\n",
       "      <td>2.0</td>\n",
       "      <td>1.0</td>\n",
       "      <td>277.0</td>\n",
       "      <td>109.0</td>\n",
       "      <td>1975.0</td>\n",
       "      <td>Glen Eira</td>\n",
       "    </tr>\n",
       "    <tr>\n",
       "      <th>3</th>\n",
       "      <td>3</td>\n",
       "      <td>h</td>\n",
       "      <td>1290000.0</td>\n",
       "      <td>8.0</td>\n",
       "      <td>3.0</td>\n",
       "      <td>1.0</td>\n",
       "      <td>1.0</td>\n",
       "      <td>618.0</td>\n",
       "      <td>132.0</td>\n",
       "      <td>1960.0</td>\n",
       "      <td>Moonee Valley</td>\n",
       "    </tr>\n",
       "    <tr>\n",
       "      <th>4</th>\n",
       "      <td>2</td>\n",
       "      <td>u</td>\n",
       "      <td>500000.0</td>\n",
       "      <td>4.2</td>\n",
       "      <td>2.0</td>\n",
       "      <td>1.0</td>\n",
       "      <td>1.0</td>\n",
       "      <td>0.0</td>\n",
       "      <td>86.0</td>\n",
       "      <td>2000.0</td>\n",
       "      <td>Melbourne</td>\n",
       "    </tr>\n",
       "  </tbody>\n",
       "</table>\n",
       "</div>"
      ],
      "text/plain": [
       "   Rooms Type      Price  Distance  Bedroom2  Bathroom  Car  Landsize  \\\n",
       "0      2    t   771000.0      13.8       2.0       1.0  1.0       0.0   \n",
       "1      3    t   700000.0       7.9       3.0       2.0  1.0     189.0   \n",
       "2      3    u   975000.0      12.1       3.0       2.0  1.0     277.0   \n",
       "3      3    h  1290000.0       8.0       3.0       1.0  1.0     618.0   \n",
       "4      2    u   500000.0       4.2       2.0       1.0  1.0       0.0   \n",
       "\n",
       "   BuildingArea  YearBuilt    CouncilArea  \n",
       "0          99.0     1992.0        Bayside  \n",
       "1         110.0     1990.0        Banyule  \n",
       "2         109.0     1975.0      Glen Eira  \n",
       "3         132.0     1960.0  Moonee Valley  \n",
       "4          86.0     2000.0      Melbourne  "
      ]
     },
     "execution_count": 39,
     "metadata": {},
     "output_type": "execute_result"
    }
   ],
   "source": [
    "df_train = pd.read_csv('https://gist.githubusercontent.com/yanyanzheng96/f8ba57f8377dee0810271475c728fca8/raw/afa3fa4305b55e31135980835d40b27af31f288c/melb_tree_train.csv')\n",
    "df_train.head()"
   ]
  },
  {
   "cell_type": "code",
   "execution_count": 40,
   "metadata": {
    "colab": {
     "base_uri": "https://localhost:8080/",
     "height": 204
    },
    "id": "YPFbglKfsFOv",
    "outputId": "bdbf47a1-a8b7-47b8-f5cb-315cd0015a72"
   },
   "outputs": [
    {
     "data": {
      "text/html": [
       "<div>\n",
       "<style scoped>\n",
       "    .dataframe tbody tr th:only-of-type {\n",
       "        vertical-align: middle;\n",
       "    }\n",
       "\n",
       "    .dataframe tbody tr th {\n",
       "        vertical-align: top;\n",
       "    }\n",
       "\n",
       "    .dataframe thead th {\n",
       "        text-align: right;\n",
       "    }\n",
       "</style>\n",
       "<table border=\"1\" class=\"dataframe\">\n",
       "  <thead>\n",
       "    <tr style=\"text-align: right;\">\n",
       "      <th></th>\n",
       "      <th>Rooms</th>\n",
       "      <th>Type</th>\n",
       "      <th>Price</th>\n",
       "      <th>Distance</th>\n",
       "      <th>Bedroom2</th>\n",
       "      <th>Bathroom</th>\n",
       "      <th>Car</th>\n",
       "      <th>Landsize</th>\n",
       "      <th>BuildingArea</th>\n",
       "      <th>YearBuilt</th>\n",
       "      <th>CouncilArea</th>\n",
       "    </tr>\n",
       "  </thead>\n",
       "  <tbody>\n",
       "    <tr>\n",
       "      <th>0</th>\n",
       "      <td>2</td>\n",
       "      <td>t</td>\n",
       "      <td>930000.0</td>\n",
       "      <td>2.6</td>\n",
       "      <td>2.0</td>\n",
       "      <td>1.0</td>\n",
       "      <td>1.0</td>\n",
       "      <td>97.0</td>\n",
       "      <td>85.0</td>\n",
       "      <td>2004.0</td>\n",
       "      <td>Yarra</td>\n",
       "    </tr>\n",
       "    <tr>\n",
       "      <th>1</th>\n",
       "      <td>3</td>\n",
       "      <td>t</td>\n",
       "      <td>815000.0</td>\n",
       "      <td>11.0</td>\n",
       "      <td>3.0</td>\n",
       "      <td>2.0</td>\n",
       "      <td>2.0</td>\n",
       "      <td>159.0</td>\n",
       "      <td>130.0</td>\n",
       "      <td>2014.0</td>\n",
       "      <td>Hobsons Bay</td>\n",
       "    </tr>\n",
       "    <tr>\n",
       "      <th>2</th>\n",
       "      <td>4</td>\n",
       "      <td>h</td>\n",
       "      <td>638000.0</td>\n",
       "      <td>13.0</td>\n",
       "      <td>4.0</td>\n",
       "      <td>2.0</td>\n",
       "      <td>1.0</td>\n",
       "      <td>624.0</td>\n",
       "      <td>258.0</td>\n",
       "      <td>2005.0</td>\n",
       "      <td>Moreland</td>\n",
       "    </tr>\n",
       "    <tr>\n",
       "      <th>3</th>\n",
       "      <td>2</td>\n",
       "      <td>t</td>\n",
       "      <td>595000.0</td>\n",
       "      <td>11.2</td>\n",
       "      <td>2.0</td>\n",
       "      <td>2.0</td>\n",
       "      <td>1.0</td>\n",
       "      <td>201.0</td>\n",
       "      <td>111.0</td>\n",
       "      <td>2005.0</td>\n",
       "      <td>Moreland</td>\n",
       "    </tr>\n",
       "    <tr>\n",
       "      <th>4</th>\n",
       "      <td>3</td>\n",
       "      <td>t</td>\n",
       "      <td>620500.0</td>\n",
       "      <td>11.2</td>\n",
       "      <td>3.0</td>\n",
       "      <td>2.0</td>\n",
       "      <td>1.0</td>\n",
       "      <td>158.0</td>\n",
       "      <td>117.0</td>\n",
       "      <td>2011.0</td>\n",
       "      <td>Darebin</td>\n",
       "    </tr>\n",
       "  </tbody>\n",
       "</table>\n",
       "</div>"
      ],
      "text/plain": [
       "   Rooms Type     Price  Distance  Bedroom2  Bathroom  Car  Landsize  \\\n",
       "0      2    t  930000.0       2.6       2.0       1.0  1.0      97.0   \n",
       "1      3    t  815000.0      11.0       3.0       2.0  2.0     159.0   \n",
       "2      4    h  638000.0      13.0       4.0       2.0  1.0     624.0   \n",
       "3      2    t  595000.0      11.2       2.0       2.0  1.0     201.0   \n",
       "4      3    t  620500.0      11.2       3.0       2.0  1.0     158.0   \n",
       "\n",
       "   BuildingArea  YearBuilt  CouncilArea  \n",
       "0          85.0     2004.0        Yarra  \n",
       "1         130.0     2014.0  Hobsons Bay  \n",
       "2         258.0     2005.0     Moreland  \n",
       "3         111.0     2005.0     Moreland  \n",
       "4         117.0     2011.0      Darebin  "
      ]
     },
     "execution_count": 40,
     "metadata": {},
     "output_type": "execute_result"
    }
   ],
   "source": [
    "df_test = pd.read_csv('https://gist.githubusercontent.com/yanyanzheng96/ec66da011b165f0e282c0c1f8447010e/raw/d02c3829a7e9db2d156ba1ab9d5bb4d18ae57be8/melb_tree_test.csv')\n",
    "df_test.head()"
   ]
  },
  {
   "cell_type": "markdown",
   "metadata": {
    "id": "tSpic2Eurmyq"
   },
   "source": [
    "## Q1 Load the Data\n",
    "Load in the melb_tree_train.csv into a dataframe, and split that dataframe into `df_X`, which contains the features of the data set (everything but `Type`), and `s_y`, the series containing just the class label (just `Type`). The lengths of `df_X` and `s_y` should match."
   ]
  },
  {
   "cell_type": "code",
   "execution_count": 13,
   "metadata": {
    "id": "FnNRRkhWrmyq"
   },
   "outputs": [],
   "source": [
    "# Split the data into features and class label\n",
    "df_X = df_train.drop(\"Type\", axis=1)\n",
    "s_y = df_train[\"Type\"]"
   ]
  },
  {
   "cell_type": "markdown",
   "metadata": {
    "id": "OBhSoBUYrmyq"
   },
   "source": [
    "## Q2 Implement a function to calculate entropy \n",
    "Implement a function `calc_entropy` that takes the the class label series, `s_y`, as a parameter. Implement using the definition on p128 in the DM book and only use pandas and log2 libraries"
   ]
  },
  {
   "cell_type": "code",
   "execution_count": 14,
   "metadata": {
    "id": "Yv5e5k0Lrmyr"
   },
   "outputs": [],
   "source": [
    "# calc_entropy(s_y) definition\n",
    "def calc_entropy(s_y):\n",
    "    # Count the number of occurrences of each class label\n",
    "    counts = s_y.value_counts()\n",
    "    total = len(s_y)\n",
    "    entropy = 0\n",
    "    \n",
    "    # Calculate the entropy for each class label\n",
    "    for count in counts:\n",
    "        p = count / total\n",
    "        entropy -= p * np.log2(p)\n",
    "        \n",
    "    return entropy"
   ]
  },
  {
   "cell_type": "markdown",
   "metadata": {
    "id": "MLp2bn0Xrmyr"
   },
   "source": [
    "## Q3 Use the entropy function to\n",
    "  - (a) Calculate the entropy of the entire training set\n",
    "  - (b) Calculate the entropy of the three partitions formed from the following three intervals:\n",
    "\n",
    "(i) Landsize $\\in [0,200]$\n",
    "\n",
    "(ii) Landsize $\\in (200,450]$\n",
    "\n",
    "(iii) Landsize $\\in (450, \\infty)$"
   ]
  },
  {
   "cell_type": "code",
   "execution_count": 15,
   "metadata": {
    "id": "VXttKnTirmyr"
   },
   "outputs": [
    {
     "data": {
      "text/plain": [
       "1.582533311426178"
      ]
     },
     "execution_count": 15,
     "metadata": {},
     "output_type": "execute_result"
    }
   ],
   "source": [
    "# The entire data set\n",
    "entropy_total = calc_entropy(s_y)\n",
    "entropy_total"
   ]
  },
  {
   "cell_type": "code",
   "execution_count": 16,
   "metadata": {
    "id": "qEm2Nbuxrmys"
   },
   "outputs": [
    {
     "data": {
      "text/plain": [
       "1.3456432116206725"
      ]
     },
     "execution_count": 16,
     "metadata": {},
     "output_type": "execute_result"
    }
   ],
   "source": [
    "# Less than or equal to 200\n",
    "mask1 = (df_X[\"Landsize\"] <= 200)\n",
    "entropy1 = calc_entropy(s_y[mask1])\n",
    "entropy1"
   ]
  },
  {
   "cell_type": "code",
   "execution_count": 17,
   "metadata": {
    "id": "grNiOkRgrmys"
   },
   "outputs": [
    {
     "data": {
      "text/plain": [
       "1.4660501816027975"
      ]
     },
     "execution_count": 17,
     "metadata": {},
     "output_type": "execute_result"
    }
   ],
   "source": [
    "# Between 200 and 450\n",
    "mask2 = ((df_X[\"Landsize\"] > 200) & (df_X[\"Landsize\"] <= 450))\n",
    "entropy2 = calc_entropy(s_y[mask2])\n",
    "entropy2"
   ]
  },
  {
   "cell_type": "code",
   "execution_count": 18,
   "metadata": {
    "id": "hRHOSY7Brmys"
   },
   "outputs": [
    {
     "data": {
      "text/plain": [
       "1.09954792005911"
      ]
     },
     "execution_count": 18,
     "metadata": {},
     "output_type": "execute_result"
    }
   ],
   "source": [
    "# greater than 450\n",
    "mask3 = (df_X[\"Landsize\"] > 450)\n",
    "entropy3 = calc_entropy(s_y[mask3])\n",
    "entropy3"
   ]
  },
  {
   "cell_type": "markdown",
   "metadata": {
    "id": "3STCrFxqrmys"
   },
   "source": [
    "## Q4 Implement a function to calculate the Gini Index\n",
    "Implement the function `calc_gini` that takes the class label series, `s_y`, as a parameter. Implement using the definition on p128 in the DM book and only use the pandas library."
   ]
  },
  {
   "cell_type": "code",
   "execution_count": 28,
   "metadata": {
    "id": "9HWZHo9_rmyt"
   },
   "outputs": [],
   "source": [
    "def calc_gini( s_y ):\n",
    "      # Count the number of occurrences of each class label\n",
    "    counts = s_y.value_counts()\n",
    "    total = len(s_y)\n",
    "    gini = 1\n",
    "    \n",
    "    # Calculate the Gini index for each class label\n",
    "    for count in counts:\n",
    "        p = count / total\n",
    "        gini -= p**2\n",
    "        \n",
    "    return gini"
   ]
  },
  {
   "cell_type": "markdown",
   "metadata": {
    "id": "4oxrseZZrmyt"
   },
   "source": [
    "## Q5 Use the Gini Index function to\n",
    "  - (a) Calculate the Gini index of the entire training set\n",
    "  - (b) Calculate the Gini index of the three partitions formed from the following three intervals:\n",
    "\n",
    "(i) Landsize $\\in [0,200]$\n",
    "\n",
    "(ii) Landsize $\\in (200,450]$\n",
    "\n",
    "(iii) Landsize $\\in (450, \\infty)$"
   ]
  },
  {
   "cell_type": "code",
   "execution_count": 29,
   "metadata": {
    "id": "hSc2RRtHrmyt"
   },
   "outputs": [
    {
     "data": {
      "text/plain": [
       "0.6655601280292637"
      ]
     },
     "execution_count": 29,
     "metadata": {},
     "output_type": "execute_result"
    }
   ],
   "source": [
    "# The entire data set\n",
    "gini_total = calc_gini(s_y)\n",
    "gini_total"
   ]
  },
  {
   "cell_type": "code",
   "execution_count": 30,
   "metadata": {
    "id": "M0fGwiMurmyt"
   },
   "outputs": [
    {
     "data": {
      "text/plain": [
       "0.5741211482422965"
      ]
     },
     "execution_count": 30,
     "metadata": {},
     "output_type": "execute_result"
    }
   ],
   "source": [
    "# Less than or equal to 200\n",
    "# mask1 = (df_X[\"Landsize\"] <= 200) : already made\n",
    "gini1 = calc_gini(s_y[mask1])\n",
    "gini1"
   ]
  },
  {
   "cell_type": "code",
   "execution_count": 31,
   "metadata": {
    "id": "Fik-UAdErmyu"
   },
   "outputs": [
    {
     "data": {
      "text/plain": [
       "0.6101021682602731"
      ]
     },
     "execution_count": 31,
     "metadata": {},
     "output_type": "execute_result"
    }
   ],
   "source": [
    "# Between 200 and 450\n",
    "# mask2 = ((df_X[\"Landsize\"] > 200) & (df_X[\"Landsize\"] <= 450)) : already made\n",
    "gini2 = calc_gini(s_y[mask2])\n",
    "gini2"
   ]
  },
  {
   "cell_type": "code",
   "execution_count": 32,
   "metadata": {
    "id": "wFRETURErmyu"
   },
   "outputs": [
    {
     "data": {
      "text/plain": [
       "0.4381934171597633"
      ]
     },
     "execution_count": 32,
     "metadata": {},
     "output_type": "execute_result"
    }
   ],
   "source": [
    "# greater than 450\n",
    "# mask3 = (df_X[\"Landsize\"] > 450) : already made\n",
    "gini3 = calc_gini(s_y[mask3])\n",
    "gini3"
   ]
  },
  {
   "cell_type": "markdown",
   "metadata": {
    "id": "-nM6TlZvrmyu"
   },
   "source": [
    "## Q6 Create a decision tree \n",
    "Using [scikit-learn](https://scikit-learn.org/stable/modules/tree.html#tree) create a multi class classifer for the data set using the Entropy impurity measure and a max depth of 3.\n",
    "\n",
    "Note that scikit-learn's algorithm doesn't handle categorical data, so that needs to be preprocessed using an one hot encoding.\n",
    "\n",
    "Display the tree using `export_text` from sklearn.tree, and use that information to write some descriptive analytics on the classification of houses.  For extra fun, use the export_graphviz to draw the graph (see documentation on the [scikit-learn webpage](https://scikit-learn.org/stable/modules/tree.html#classification)). "
   ]
  },
  {
   "cell_type": "code",
   "execution_count": 52,
   "metadata": {
    "id": "IT9oxFhUrmyu"
   },
   "outputs": [],
   "source": [
    "# Create Tree\n",
    "oneHot = pd.get_dummies(df_X['CouncilArea'])\n",
    "temp = df_X.drop('CouncilArea',axis = 1)\n",
    "df_Xf = temp.join(oneHot)\n",
    "clf = tree.DecisionTreeClassifier()\n",
    "clf = clf.fit(df_Xf, s_y)"
   ]
  },
  {
   "cell_type": "code",
   "execution_count": 55,
   "metadata": {
    "id": "ZeXj95cSrmyv"
   },
   "outputs": [
    {
     "data": {
      "text/plain": [
       "[Text(0.4604450792480649, 0.9705882352941176, 'x[7] <= 99.5\\ngini = 0.666\\nsamples = 810\\nvalue = [248, 281, 281]'),\n",
       " Text(0.23249170659786214, 0.9117647058823529, 'x[1] <= 840500.0\\ngini = 0.436\\nsamples = 291\\nvalue = [34, 46, 211]'),\n",
       " Text(0.13914485809067453, 0.8529411764705882, 'x[7] <= 83.5\\ngini = 0.33\\nsamples = 249\\nvalue = [11, 38, 200]'),\n",
       " Text(0.05160339107998525, 0.7941176470588235, 'x[7] <= 17.5\\ngini = 0.162\\nsamples = 160\\nvalue = [3, 11, 146]'),\n",
       " Text(0.04570586067084408, 0.7352941176470589, 'gini = 0.0\\nsamples = 3\\nvalue = [0, 3, 0]'),\n",
       " Text(0.05750092148912643, 0.7352941176470589, 'x[2] <= 9.8\\ngini = 0.132\\nsamples = 157\\nvalue = [3, 8, 146]'),\n",
       " Text(0.02359012163656469, 0.6764705882352942, 'x[8] <= 1915.0\\ngini = 0.034\\nsamples = 115\\nvalue = [1, 1, 113]'),\n",
       " Text(0.011795060818282344, 0.6176470588235294, 'x[8] <= 1905.0\\ngini = 0.375\\nsamples = 4\\nvalue = [1, 0, 3]'),\n",
       " Text(0.005897530409141172, 0.5588235294117647, 'gini = 0.0\\nsamples = 3\\nvalue = [0, 0, 3]'),\n",
       " Text(0.017692591227423518, 0.5588235294117647, 'gini = 0.0\\nsamples = 1\\nvalue = [1, 0, 0]'),\n",
       " Text(0.035385182454847036, 0.6176470588235294, 'x[26] <= 0.5\\ngini = 0.018\\nsamples = 111\\nvalue = [0, 1, 110]'),\n",
       " Text(0.029487652045705862, 0.5588235294117647, 'gini = 0.0\\nsamples = 99\\nvalue = [0, 0, 99]'),\n",
       " Text(0.04128271286398821, 0.5588235294117647, 'x[2] <= 7.35\\ngini = 0.153\\nsamples = 12\\nvalue = [0, 1, 11]'),\n",
       " Text(0.035385182454847036, 0.5, 'gini = 0.0\\nsamples = 9\\nvalue = [0, 0, 9]'),\n",
       " Text(0.04718024327312938, 0.5, 'x[2] <= 8.3\\ngini = 0.444\\nsamples = 3\\nvalue = [0, 1, 2]'),\n",
       " Text(0.04128271286398821, 0.4411764705882353, 'gini = 0.0\\nsamples = 1\\nvalue = [0, 1, 0]'),\n",
       " Text(0.05307777368227055, 0.4411764705882353, 'gini = 0.0\\nsamples = 2\\nvalue = [0, 0, 2]'),\n",
       " Text(0.09141172134168817, 0.6764705882352942, 'x[8] <= 2008.5\\ngini = 0.353\\nsamples = 42\\nvalue = [2, 7, 33]'),\n",
       " Text(0.07961666052340582, 0.6176470588235294, 'x[0] <= 2.5\\ngini = 0.248\\nsamples = 36\\nvalue = [2, 3, 31]'),\n",
       " Text(0.07371913011426465, 0.5588235294117647, 'x[8] <= 1957.5\\ngini = 0.207\\nsamples = 35\\nvalue = [1, 3, 31]'),\n",
       " Text(0.06782159970512348, 0.5, 'gini = 0.0\\nsamples = 1\\nvalue = [1, 0, 0]'),\n",
       " Text(0.07961666052340582, 0.5, 'x[19] <= 0.5\\ngini = 0.161\\nsamples = 34\\nvalue = [0, 3, 31]'),\n",
       " Text(0.0648728345005529, 0.4411764705882353, 'x[2] <= 10.5\\ngini = 0.117\\nsamples = 32\\nvalue = [0, 2, 30]'),\n",
       " Text(0.05307777368227055, 0.38235294117647056, 'x[2] <= 10.35\\ngini = 0.5\\nsamples = 2\\nvalue = [0, 1, 1]'),\n",
       " Text(0.04718024327312938, 0.3235294117647059, 'gini = 0.0\\nsamples = 1\\nvalue = [0, 0, 1]'),\n",
       " Text(0.058975304091411725, 0.3235294117647059, 'gini = 0.0\\nsamples = 1\\nvalue = [0, 1, 0]'),\n",
       " Text(0.07666789531883524, 0.38235294117647056, 'x[8] <= 1995.0\\ngini = 0.064\\nsamples = 30\\nvalue = [0, 1, 29]'),\n",
       " Text(0.07077036490969407, 0.3235294117647059, 'gini = 0.0\\nsamples = 26\\nvalue = [0, 0, 26]'),\n",
       " Text(0.08256542572797641, 0.3235294117647059, 'x[8] <= 2002.0\\ngini = 0.375\\nsamples = 4\\nvalue = [0, 1, 3]'),\n",
       " Text(0.07666789531883524, 0.2647058823529412, 'gini = 0.0\\nsamples = 1\\nvalue = [0, 1, 0]'),\n",
       " Text(0.08846295613711758, 0.2647058823529412, 'gini = 0.0\\nsamples = 3\\nvalue = [0, 0, 3]'),\n",
       " Text(0.09436048654625875, 0.4411764705882353, 'x[5] <= 1.5\\ngini = 0.5\\nsamples = 2\\nvalue = [0, 1, 1]'),\n",
       " Text(0.08846295613711758, 0.38235294117647056, 'gini = 0.0\\nsamples = 1\\nvalue = [0, 0, 1]'),\n",
       " Text(0.10025801695539993, 0.38235294117647056, 'gini = 0.0\\nsamples = 1\\nvalue = [0, 1, 0]'),\n",
       " Text(0.085514190932547, 0.5588235294117647, 'gini = 0.0\\nsamples = 1\\nvalue = [1, 0, 0]'),\n",
       " Text(0.1032067821599705, 0.6176470588235294, 'x[7] <= 71.5\\ngini = 0.444\\nsamples = 6\\nvalue = [0, 4, 2]'),\n",
       " Text(0.09730925175082934, 0.5588235294117647, 'gini = 0.0\\nsamples = 2\\nvalue = [0, 0, 2]'),\n",
       " Text(0.10910431256911168, 0.5588235294117647, 'gini = 0.0\\nsamples = 4\\nvalue = [0, 4, 0]'),\n",
       " Text(0.2266863251013638, 0.7941176470588235, 'x[8] <= 2012.5\\ngini = 0.532\\nsamples = 89\\nvalue = [8, 27, 54]'),\n",
       " Text(0.19240692959823075, 0.7352941176470589, 'x[8] <= 1977.5\\ngini = 0.501\\nsamples = 81\\nvalue = [8, 20, 53]'),\n",
       " Text(0.14154072981938814, 0.6764705882352942, 'x[16] <= 0.5\\ngini = 0.394\\nsamples = 37\\nvalue = [6, 3, 28]'),\n",
       " Text(0.13564319941024697, 0.6176470588235294, 'x[2] <= 7.75\\ngini = 0.34\\nsamples = 35\\nvalue = [4, 3, 28]'),\n",
       " Text(0.12089937338739402, 0.5588235294117647, 'x[4] <= 1.5\\ngini = 0.111\\nsamples = 17\\nvalue = [0, 1, 16]'),\n",
       " Text(0.11500184297825286, 0.5, 'gini = 0.0\\nsamples = 16\\nvalue = [0, 0, 16]'),\n",
       " Text(0.1267969037965352, 0.5, 'gini = 0.0\\nsamples = 1\\nvalue = [0, 1, 0]'),\n",
       " Text(0.1503870254330999, 0.5588235294117647, 'x[8] <= 1955.0\\ngini = 0.494\\nsamples = 18\\nvalue = [4, 2, 12]'),\n",
       " Text(0.13859196461481754, 0.5, 'x[8] <= 1940.0\\ngini = 0.56\\nsamples = 5\\nvalue = [3, 1, 1]'),\n",
       " Text(0.13269443420567636, 0.4411764705882353, 'x[3] <= 2.5\\ngini = 0.5\\nsamples = 2\\nvalue = [0, 1, 1]'),\n",
       " Text(0.1267969037965352, 0.38235294117647056, 'gini = 0.0\\nsamples = 1\\nvalue = [0, 1, 0]'),\n",
       " Text(0.13859196461481754, 0.38235294117647056, 'gini = 0.0\\nsamples = 1\\nvalue = [0, 0, 1]'),\n",
       " Text(0.14448949502395872, 0.4411764705882353, 'gini = 0.0\\nsamples = 3\\nvalue = [3, 0, 0]'),\n",
       " Text(0.16218208625138222, 0.5, 'x[8] <= 1969.0\\ngini = 0.272\\nsamples = 13\\nvalue = [1, 1, 11]'),\n",
       " Text(0.15628455584224107, 0.4411764705882353, 'x[6] <= 91.5\\ngini = 0.56\\nsamples = 5\\nvalue = [1, 1, 3]'),\n",
       " Text(0.1503870254330999, 0.38235294117647056, 'x[11] <= 0.5\\ngini = 0.5\\nsamples = 2\\nvalue = [1, 1, 0]'),\n",
       " Text(0.14448949502395872, 0.3235294117647059, 'gini = 0.0\\nsamples = 1\\nvalue = [1, 0, 0]'),\n",
       " Text(0.15628455584224107, 0.3235294117647059, 'gini = 0.0\\nsamples = 1\\nvalue = [0, 1, 0]'),\n",
       " Text(0.16218208625138222, 0.38235294117647056, 'gini = 0.0\\nsamples = 3\\nvalue = [0, 0, 3]'),\n",
       " Text(0.1680796166605234, 0.4411764705882353, 'gini = 0.0\\nsamples = 8\\nvalue = [0, 0, 8]'),\n",
       " Text(0.1474382602285293, 0.6176470588235294, 'gini = 0.0\\nsamples = 2\\nvalue = [2, 0, 0]'),\n",
       " Text(0.24327312937707335, 0.6764705882352942, 'x[21] <= 0.5\\ngini = 0.526\\nsamples = 44\\nvalue = [2, 17, 25]'),\n",
       " Text(0.23737559896793217, 0.6176470588235294, 'x[7] <= 92.5\\ngini = 0.549\\nsamples = 37\\nvalue = [2, 17, 18]'),\n",
       " Text(0.2123110947290822, 0.5588235294117647, 'x[2] <= 12.15\\ngini = 0.532\\nsamples = 27\\nvalue = [2, 9, 16]'),\n",
       " Text(0.19166973829708808, 0.5, 'x[2] <= 7.6\\ngini = 0.554\\nsamples = 17\\nvalue = [1, 8, 8]'),\n",
       " Text(0.17987467747880576, 0.4411764705882353, 'x[1] <= 474000.0\\ngini = 0.512\\nsamples = 11\\nvalue = [1, 3, 7]'),\n",
       " Text(0.17397714706966458, 0.38235294117647056, 'gini = 0.0\\nsamples = 1\\nvalue = [1, 0, 0]'),\n",
       " Text(0.18577220788794693, 0.38235294117647056, 'x[1] <= 674250.0\\ngini = 0.42\\nsamples = 10\\nvalue = [0, 3, 7]'),\n",
       " Text(0.17987467747880576, 0.3235294117647059, 'gini = 0.0\\nsamples = 4\\nvalue = [0, 0, 4]'),\n",
       " Text(0.19166973829708808, 0.3235294117647059, 'x[1] <= 713000.0\\ngini = 0.5\\nsamples = 6\\nvalue = [0, 3, 3]'),\n",
       " Text(0.18577220788794693, 0.2647058823529412, 'gini = 0.0\\nsamples = 2\\nvalue = [0, 2, 0]'),\n",
       " Text(0.19756726870622926, 0.2647058823529412, 'x[8] <= 2006.0\\ngini = 0.375\\nsamples = 4\\nvalue = [0, 1, 3]'),\n",
       " Text(0.19166973829708808, 0.20588235294117646, 'gini = 0.0\\nsamples = 3\\nvalue = [0, 0, 3]'),\n",
       " Text(0.20346479911537044, 0.20588235294117646, 'gini = 0.0\\nsamples = 1\\nvalue = [0, 1, 0]'),\n",
       " Text(0.20346479911537044, 0.4411764705882353, 'x[27] <= 0.5\\ngini = 0.278\\nsamples = 6\\nvalue = [0, 5, 1]'),\n",
       " Text(0.19756726870622926, 0.38235294117647056, 'gini = 0.0\\nsamples = 5\\nvalue = [0, 5, 0]'),\n",
       " Text(0.20936232952451161, 0.38235294117647056, 'gini = 0.0\\nsamples = 1\\nvalue = [0, 0, 1]'),\n",
       " Text(0.2329524511610763, 0.5, 'x[19] <= 0.5\\ngini = 0.34\\nsamples = 10\\nvalue = [1, 1, 8]'),\n",
       " Text(0.22705492075193512, 0.4411764705882353, 'x[1] <= 745000.0\\ngini = 0.198\\nsamples = 9\\nvalue = [1, 0, 8]'),\n",
       " Text(0.22115739034279394, 0.38235294117647056, 'gini = 0.0\\nsamples = 8\\nvalue = [0, 0, 8]'),\n",
       " Text(0.2329524511610763, 0.38235294117647056, 'gini = 0.0\\nsamples = 1\\nvalue = [1, 0, 0]'),\n",
       " Text(0.23884998157021747, 0.4411764705882353, 'gini = 0.0\\nsamples = 1\\nvalue = [0, 1, 0]'),\n",
       " Text(0.2624401032067822, 0.5588235294117647, 'x[23] <= 0.5\\ngini = 0.32\\nsamples = 10\\nvalue = [0, 8, 2]'),\n",
       " Text(0.256542572797641, 0.5, 'x[8] <= 1990.5\\ngini = 0.198\\nsamples = 9\\nvalue = [0, 8, 1]'),\n",
       " Text(0.25064504238849983, 0.4411764705882353, 'x[8] <= 1985.0\\ngini = 0.5\\nsamples = 2\\nvalue = [0, 1, 1]'),\n",
       " Text(0.24474751197935865, 0.38235294117647056, 'gini = 0.0\\nsamples = 1\\nvalue = [0, 1, 0]'),\n",
       " Text(0.256542572797641, 0.38235294117647056, 'gini = 0.0\\nsamples = 1\\nvalue = [0, 0, 1]'),\n",
       " Text(0.2624401032067822, 0.4411764705882353, 'gini = 0.0\\nsamples = 7\\nvalue = [0, 7, 0]'),\n",
       " Text(0.26833763361592333, 0.5, 'gini = 0.0\\nsamples = 1\\nvalue = [0, 0, 1]'),\n",
       " Text(0.24917065978621453, 0.6176470588235294, 'gini = 0.0\\nsamples = 7\\nvalue = [0, 0, 7]'),\n",
       " Text(0.26096572060449685, 0.7352941176470589, 'x[1] <= 442500.0\\ngini = 0.219\\nsamples = 8\\nvalue = [0, 7, 1]'),\n",
       " Text(0.2550681901953557, 0.6764705882352942, 'gini = 0.0\\nsamples = 1\\nvalue = [0, 0, 1]'),\n",
       " Text(0.26686325101363806, 0.6764705882352942, 'gini = 0.0\\nsamples = 7\\nvalue = [0, 7, 0]'),\n",
       " Text(0.3258385551050498, 0.8529411764705882, 'x[8] <= 1965.0\\ngini = 0.595\\nsamples = 42\\nvalue = [23, 8, 11]'),\n",
       " Text(0.2963509030593439, 0.7941176470588235, 'x[2] <= 1.7\\ngini = 0.234\\nsamples = 23\\nvalue = [20, 1, 2]'),\n",
       " Text(0.28455584224106156, 0.7352941176470589, 'x[1] <= 1295000.0\\ngini = 0.5\\nsamples = 2\\nvalue = [0, 1, 1]'),\n",
       " Text(0.27865831183192036, 0.6764705882352942, 'gini = 0.0\\nsamples = 1\\nvalue = [0, 1, 0]'),\n",
       " Text(0.2904533726502027, 0.6764705882352942, 'gini = 0.0\\nsamples = 1\\nvalue = [0, 0, 1]'),\n",
       " Text(0.3081459638776262, 0.7352941176470589, 'x[25] <= 0.5\\ngini = 0.091\\nsamples = 21\\nvalue = [20, 0, 1]'),\n",
       " Text(0.30224843346848507, 0.6764705882352942, 'gini = 0.0\\nsamples = 18\\nvalue = [18, 0, 0]'),\n",
       " Text(0.3140434942867674, 0.6764705882352942, 'x[7] <= 79.5\\ngini = 0.444\\nsamples = 3\\nvalue = [2, 0, 1]'),\n",
       " Text(0.3081459638776262, 0.6176470588235294, 'gini = 0.0\\nsamples = 2\\nvalue = [2, 0, 0]'),\n",
       " Text(0.31994102469590857, 0.6176470588235294, 'gini = 0.0\\nsamples = 1\\nvalue = [0, 0, 1]'),\n",
       " Text(0.35532620715075564, 0.7941176470588235, 'x[7] <= 84.0\\ngini = 0.615\\nsamples = 19\\nvalue = [3, 7, 9]'),\n",
       " Text(0.34942867674161443, 0.7352941176470589, 'x[6] <= 384.0\\ngini = 0.569\\nsamples = 12\\nvalue = [3, 7, 2]'),\n",
       " Text(0.33763361592333213, 0.6764705882352942, 'x[15] <= 0.5\\ngini = 0.46\\nsamples = 10\\nvalue = [2, 7, 1]'),\n",
       " Text(0.3317360855141909, 0.6176470588235294, 'x[8] <= 1992.5\\ngini = 0.346\\nsamples = 9\\nvalue = [2, 7, 0]'),\n",
       " Text(0.3258385551050498, 0.5588235294117647, 'gini = 0.0\\nsamples = 1\\nvalue = [1, 0, 0]'),\n",
       " Text(0.33763361592333213, 0.5588235294117647, 'x[2] <= 15.0\\ngini = 0.219\\nsamples = 8\\nvalue = [1, 7, 0]'),\n",
       " Text(0.3317360855141909, 0.5, 'gini = 0.0\\nsamples = 7\\nvalue = [0, 7, 0]'),\n",
       " Text(0.3435311463324733, 0.5, 'gini = 0.0\\nsamples = 1\\nvalue = [1, 0, 0]'),\n",
       " Text(0.3435311463324733, 0.6176470588235294, 'gini = 0.0\\nsamples = 1\\nvalue = [0, 0, 1]'),\n",
       " Text(0.3612237375598968, 0.6764705882352942, 'x[4] <= 2.5\\ngini = 0.5\\nsamples = 2\\nvalue = [1, 0, 1]'),\n",
       " Text(0.35532620715075564, 0.6176470588235294, 'gini = 0.0\\nsamples = 1\\nvalue = [0, 0, 1]'),\n",
       " Text(0.367121267969038, 0.6176470588235294, 'gini = 0.0\\nsamples = 1\\nvalue = [1, 0, 0]'),\n",
       " Text(0.3612237375598968, 0.7352941176470589, 'gini = 0.0\\nsamples = 7\\nvalue = [0, 0, 7]'),\n",
       " Text(0.6883984518982676, 0.9117647058823529, 'x[8] <= 1976.5\\ngini = 0.607\\nsamples = 519\\nvalue = [214, 235, 70]'),\n",
       " Text(0.4909694065610026, 0.8529411764705882, 'x[0] <= 2.5\\ngini = 0.327\\nsamples = 204\\nvalue = [165, 15, 24]'),\n",
       " Text(0.4246221894581644, 0.7941176470588235, 'x[1] <= 915000.0\\ngini = 0.602\\nsamples = 32\\nvalue = [14, 4, 14]'),\n",
       " Text(0.39660892001474385, 0.7352941176470589, 'x[9] <= 0.5\\ngini = 0.427\\nsamples = 15\\nvalue = [2, 2, 11]'),\n",
       " Text(0.3848138591964615, 0.6764705882352942, 'x[23] <= 0.5\\ngini = 0.272\\nsamples = 13\\nvalue = [1, 1, 11]'),\n",
       " Text(0.3789163287873203, 0.6176470588235294, 'x[11] <= 0.5\\ngini = 0.153\\nsamples = 12\\nvalue = [0, 1, 11]'),\n",
       " Text(0.37301879837817914, 0.5588235294117647, 'gini = 0.0\\nsamples = 10\\nvalue = [0, 0, 10]'),\n",
       " Text(0.3848138591964615, 0.5588235294117647, 'x[1] <= 705000.0\\ngini = 0.5\\nsamples = 2\\nvalue = [0, 1, 1]'),\n",
       " Text(0.3789163287873203, 0.5, 'gini = 0.0\\nsamples = 1\\nvalue = [0, 0, 1]'),\n",
       " Text(0.39071138960560264, 0.5, 'gini = 0.0\\nsamples = 1\\nvalue = [0, 1, 0]'),\n",
       " Text(0.39071138960560264, 0.6176470588235294, 'gini = 0.0\\nsamples = 1\\nvalue = [1, 0, 0]'),\n",
       " Text(0.40840398083302615, 0.6764705882352942, 'x[8] <= 1966.5\\ngini = 0.5\\nsamples = 2\\nvalue = [1, 1, 0]'),\n",
       " Text(0.402506450423885, 0.6176470588235294, 'gini = 0.0\\nsamples = 1\\nvalue = [1, 0, 0]'),\n",
       " Text(0.41430151124216735, 0.6176470588235294, 'gini = 0.0\\nsamples = 1\\nvalue = [0, 1, 0]'),\n",
       " Text(0.45263545890158496, 0.7352941176470589, 'x[8] <= 1942.5\\ngini = 0.457\\nsamples = 17\\nvalue = [12, 2, 3]'),\n",
       " Text(0.437891632878732, 0.6764705882352942, 'x[7] <= 128.5\\ngini = 0.337\\nsamples = 14\\nvalue = [11, 0, 3]'),\n",
       " Text(0.4260965720604497, 0.6176470588235294, 'x[6] <= 1399.0\\ngini = 0.165\\nsamples = 11\\nvalue = [10, 0, 1]'),\n",
       " Text(0.4201990416513085, 0.5588235294117647, 'gini = 0.0\\nsamples = 10\\nvalue = [10, 0, 0]'),\n",
       " Text(0.43199410246959086, 0.5588235294117647, 'gini = 0.0\\nsamples = 1\\nvalue = [0, 0, 1]'),\n",
       " Text(0.44968669369701436, 0.6176470588235294, 'x[7] <= 152.0\\ngini = 0.444\\nsamples = 3\\nvalue = [1, 0, 2]'),\n",
       " Text(0.4437891632878732, 0.5588235294117647, 'gini = 0.0\\nsamples = 2\\nvalue = [0, 0, 2]'),\n",
       " Text(0.45558422410615557, 0.5588235294117647, 'gini = 0.0\\nsamples = 1\\nvalue = [1, 0, 0]'),\n",
       " Text(0.46737928492443787, 0.6764705882352942, 'x[2] <= 6.2\\ngini = 0.444\\nsamples = 3\\nvalue = [1, 2, 0]'),\n",
       " Text(0.4614817545152967, 0.6176470588235294, 'gini = 0.0\\nsamples = 2\\nvalue = [0, 2, 0]'),\n",
       " Text(0.47327681533357907, 0.6176470588235294, 'gini = 0.0\\nsamples = 1\\nvalue = [1, 0, 0]'),\n",
       " Text(0.5573166236638407, 0.7941176470588235, 'x[6] <= 429.0\\ngini = 0.222\\nsamples = 172\\nvalue = [151, 11, 10]'),\n",
       " Text(0.5204570586067084, 0.7352941176470589, 'x[8] <= 1964.5\\ngini = 0.471\\nsamples = 59\\nvalue = [41, 9, 9]'),\n",
       " Text(0.4968669369701438, 0.6764705882352942, 'x[1] <= 732500.0\\ngini = 0.269\\nsamples = 46\\nvalue = [39, 3, 4]'),\n",
       " Text(0.4850718761518614, 0.6176470588235294, 'x[7] <= 110.5\\ngini = 0.5\\nsamples = 6\\nvalue = [1, 1, 4]'),\n",
       " Text(0.4791743457427202, 0.5588235294117647, 'x[24] <= 0.5\\ngini = 0.5\\nsamples = 2\\nvalue = [1, 1, 0]'),\n",
       " Text(0.47327681533357907, 0.5, 'gini = 0.0\\nsamples = 1\\nvalue = [1, 0, 0]'),\n",
       " Text(0.4850718761518614, 0.5, 'gini = 0.0\\nsamples = 1\\nvalue = [0, 1, 0]'),\n",
       " Text(0.4909694065610026, 0.5588235294117647, 'gini = 0.0\\nsamples = 4\\nvalue = [0, 0, 4]'),\n",
       " Text(0.5086619977884261, 0.6176470588235294, 'x[22] <= 0.5\\ngini = 0.095\\nsamples = 40\\nvalue = [38, 2, 0]'),\n",
       " Text(0.5027644673792849, 0.5588235294117647, 'x[4] <= 2.5\\ngini = 0.05\\nsamples = 39\\nvalue = [38, 1, 0]'),\n",
       " Text(0.4968669369701438, 0.5, 'gini = 0.0\\nsamples = 37\\nvalue = [37, 0, 0]'),\n",
       " Text(0.5086619977884261, 0.5, 'x[0] <= 3.5\\ngini = 0.5\\nsamples = 2\\nvalue = [1, 1, 0]'),\n",
       " Text(0.5027644673792849, 0.4411764705882353, 'gini = 0.0\\nsamples = 1\\nvalue = [0, 1, 0]'),\n",
       " Text(0.5145595281975672, 0.4411764705882353, 'gini = 0.0\\nsamples = 1\\nvalue = [1, 0, 0]'),\n",
       " Text(0.5145595281975672, 0.5588235294117647, 'gini = 0.0\\nsamples = 1\\nvalue = [0, 1, 0]'),\n",
       " Text(0.5440471802432731, 0.6764705882352942, 'x[15] <= 0.5\\ngini = 0.615\\nsamples = 13\\nvalue = [2, 6, 5]'),\n",
       " Text(0.5381496498341319, 0.6176470588235294, 'x[2] <= 3.9\\ngini = 0.569\\nsamples = 12\\nvalue = [1, 6, 5]'),\n",
       " Text(0.5322521194249907, 0.5588235294117647, 'gini = 0.0\\nsamples = 1\\nvalue = [1, 0, 0]'),\n",
       " Text(0.5440471802432731, 0.5588235294117647, 'x[6] <= 290.5\\ngini = 0.496\\nsamples = 11\\nvalue = [0, 6, 5]'),\n",
       " Text(0.5322521194249907, 0.5, 'x[1] <= 1255000.0\\ngini = 0.444\\nsamples = 6\\nvalue = [0, 2, 4]'),\n",
       " Text(0.5263545890158496, 0.4411764705882353, 'gini = 0.0\\nsamples = 4\\nvalue = [0, 0, 4]'),\n",
       " Text(0.5381496498341319, 0.4411764705882353, 'gini = 0.0\\nsamples = 2\\nvalue = [0, 2, 0]'),\n",
       " Text(0.5558422410615554, 0.5, 'x[5] <= 4.5\\ngini = 0.32\\nsamples = 5\\nvalue = [0, 4, 1]'),\n",
       " Text(0.5499447106524143, 0.4411764705882353, 'gini = 0.0\\nsamples = 4\\nvalue = [0, 4, 0]'),\n",
       " Text(0.5617397714706966, 0.4411764705882353, 'gini = 0.0\\nsamples = 1\\nvalue = [0, 0, 1]'),\n",
       " Text(0.5499447106524143, 0.6176470588235294, 'gini = 0.0\\nsamples = 1\\nvalue = [1, 0, 0]'),\n",
       " Text(0.5941761887209731, 0.7352941176470589, 'x[6] <= 1372.0\\ngini = 0.052\\nsamples = 113\\nvalue = [110, 2, 1]'),\n",
       " Text(0.5794323626981202, 0.6764705882352942, 'x[6] <= 861.5\\ngini = 0.036\\nsamples = 111\\nvalue = [109, 1, 1]'),\n",
       " Text(0.5676373018798379, 0.6176470588235294, 'x[14] <= 0.5\\ngini = 0.019\\nsamples = 103\\nvalue = [102, 1, 0]'),\n",
       " Text(0.5617397714706966, 0.5588235294117647, 'gini = 0.0\\nsamples = 95\\nvalue = [95, 0, 0]'),\n",
       " Text(0.573534832288979, 0.5588235294117647, 'x[2] <= 13.4\\ngini = 0.219\\nsamples = 8\\nvalue = [7, 1, 0]'),\n",
       " Text(0.5676373018798379, 0.5, 'gini = 0.0\\nsamples = 6\\nvalue = [6, 0, 0]'),\n",
       " Text(0.5794323626981202, 0.5, 'x[8] <= 1955.0\\ngini = 0.5\\nsamples = 2\\nvalue = [1, 1, 0]'),\n",
       " Text(0.573534832288979, 0.4411764705882353, 'gini = 0.0\\nsamples = 1\\nvalue = [1, 0, 0]'),\n",
       " Text(0.5853298931072614, 0.4411764705882353, 'gini = 0.0\\nsamples = 1\\nvalue = [0, 1, 0]'),\n",
       " Text(0.5912274235164026, 0.6176470588235294, 'x[6] <= 868.5\\ngini = 0.219\\nsamples = 8\\nvalue = [7, 0, 1]'),\n",
       " Text(0.5853298931072614, 0.5588235294117647, 'gini = 0.0\\nsamples = 1\\nvalue = [0, 0, 1]'),\n",
       " Text(0.5971249539255437, 0.5588235294117647, 'gini = 0.0\\nsamples = 7\\nvalue = [7, 0, 0]'),\n",
       " Text(0.6089200147438261, 0.6764705882352942, 'x[7] <= 316.5\\ngini = 0.5\\nsamples = 2\\nvalue = [1, 1, 0]'),\n",
       " Text(0.6030224843346849, 0.6176470588235294, 'gini = 0.0\\nsamples = 1\\nvalue = [0, 1, 0]'),\n",
       " Text(0.6148175451529672, 0.6176470588235294, 'gini = 0.0\\nsamples = 1\\nvalue = [1, 0, 0]'),\n",
       " Text(0.8858274972355327, 0.8529411764705882, 'x[6] <= 443.5\\ngini = 0.467\\nsamples = 315\\nvalue = [49, 220, 46]'),\n",
       " Text(0.8011426465167711, 0.7941176470588235, 'x[8] <= 2006.5\\ngini = 0.372\\nsamples = 270\\nvalue = [20, 209, 41]'),\n",
       " Text(0.6848507187615186, 0.7352941176470589, 'x[1] <= 697000.0\\ngini = 0.477\\nsamples = 145\\nvalue = [15, 99, 31]'),\n",
       " Text(0.6384076667895319, 0.6764705882352942, 'x[7] <= 124.5\\ngini = 0.533\\nsamples = 22\\nvalue = [1, 9, 12]'),\n",
       " Text(0.6266126059712496, 0.6176470588235294, 'x[1] <= 485000.0\\ngini = 0.26\\nsamples = 13\\nvalue = [0, 2, 11]'),\n",
       " Text(0.6207150755621084, 0.5588235294117647, 'gini = 0.0\\nsamples = 1\\nvalue = [0, 1, 0]'),\n",
       " Text(0.6325101363803907, 0.5588235294117647, 'x[24] <= 0.5\\ngini = 0.153\\nsamples = 12\\nvalue = [0, 1, 11]'),\n",
       " Text(0.6266126059712496, 0.5, 'gini = 0.0\\nsamples = 11\\nvalue = [0, 0, 11]'),\n",
       " Text(0.6384076667895319, 0.5, 'gini = 0.0\\nsamples = 1\\nvalue = [0, 1, 0]'),\n",
       " Text(0.6502027276078143, 0.6176470588235294, 'x[7] <= 127.0\\ngini = 0.37\\nsamples = 9\\nvalue = [1, 7, 1]'),\n",
       " Text(0.6443051971986731, 0.5588235294117647, 'gini = 0.0\\nsamples = 1\\nvalue = [1, 0, 0]'),\n",
       " Text(0.6561002580169554, 0.5588235294117647, 'x[7] <= 174.5\\ngini = 0.219\\nsamples = 8\\nvalue = [0, 7, 1]'),\n",
       " Text(0.6502027276078143, 0.5, 'gini = 0.0\\nsamples = 7\\nvalue = [0, 7, 0]'),\n",
       " Text(0.6619977884260966, 0.5, 'gini = 0.0\\nsamples = 1\\nvalue = [0, 0, 1]'),\n",
       " Text(0.7312937707335053, 0.6764705882352942, 'x[2] <= 5.3\\ngini = 0.428\\nsamples = 123\\nvalue = [14, 90, 19]'),\n",
       " Text(0.6885366752672318, 0.6176470588235294, 'x[7] <= 104.5\\ngini = 0.589\\nsamples = 25\\nvalue = [6, 14, 5]'),\n",
       " Text(0.6826391448580906, 0.5588235294117647, 'gini = 0.0\\nsamples = 2\\nvalue = [0, 0, 2]'),\n",
       " Text(0.694434205676373, 0.5588235294117647, 'x[1] <= 1102500.0\\ngini = 0.544\\nsamples = 23\\nvalue = [6, 14, 3]'),\n",
       " Text(0.6737928492443789, 0.5, 'x[2] <= 4.8\\ngini = 0.406\\nsamples = 16\\nvalue = [2, 12, 2]'),\n",
       " Text(0.6619977884260966, 0.4411764705882353, 'x[2] <= 3.85\\ngini = 0.26\\nsamples = 13\\nvalue = [2, 11, 0]'),\n",
       " Text(0.6561002580169554, 0.38235294117647056, 'gini = 0.0\\nsamples = 7\\nvalue = [0, 7, 0]'),\n",
       " Text(0.6678953188352378, 0.38235294117647056, 'x[1] <= 833500.0\\ngini = 0.444\\nsamples = 6\\nvalue = [2, 4, 0]'),\n",
       " Text(0.6619977884260966, 0.3235294117647059, 'gini = 0.0\\nsamples = 3\\nvalue = [0, 3, 0]'),\n",
       " Text(0.6737928492443789, 0.3235294117647059, 'x[7] <= 117.0\\ngini = 0.444\\nsamples = 3\\nvalue = [2, 1, 0]'),\n",
       " Text(0.6678953188352378, 0.2647058823529412, 'gini = 0.0\\nsamples = 1\\nvalue = [0, 1, 0]'),\n",
       " Text(0.6796903796535201, 0.2647058823529412, 'gini = 0.0\\nsamples = 2\\nvalue = [2, 0, 0]'),\n",
       " Text(0.6855879100626613, 0.4411764705882353, 'x[0] <= 2.5\\ngini = 0.444\\nsamples = 3\\nvalue = [0, 1, 2]'),\n",
       " Text(0.6796903796535201, 0.38235294117647056, 'gini = 0.0\\nsamples = 1\\nvalue = [0, 1, 0]'),\n",
       " Text(0.6914854404718024, 0.38235294117647056, 'gini = 0.0\\nsamples = 2\\nvalue = [0, 0, 2]'),\n",
       " Text(0.7150755621083671, 0.5, 'x[8] <= 2001.5\\ngini = 0.571\\nsamples = 7\\nvalue = [4, 2, 1]'),\n",
       " Text(0.709178031699226, 0.4411764705882353, 'x[6] <= 64.5\\ngini = 0.32\\nsamples = 5\\nvalue = [4, 0, 1]'),\n",
       " Text(0.7032805012900848, 0.38235294117647056, 'x[7] <= 133.5\\ngini = 0.5\\nsamples = 2\\nvalue = [1, 0, 1]'),\n",
       " Text(0.6973829708809436, 0.3235294117647059, 'gini = 0.0\\nsamples = 1\\nvalue = [0, 0, 1]'),\n",
       " Text(0.709178031699226, 0.3235294117647059, 'gini = 0.0\\nsamples = 1\\nvalue = [1, 0, 0]'),\n",
       " Text(0.7150755621083671, 0.38235294117647056, 'gini = 0.0\\nsamples = 3\\nvalue = [3, 0, 0]'),\n",
       " Text(0.7209730925175083, 0.4411764705882353, 'gini = 0.0\\nsamples = 2\\nvalue = [0, 2, 0]'),\n",
       " Text(0.7740508661997788, 0.6176470588235294, 'x[6] <= 196.0\\ngini = 0.372\\nsamples = 98\\nvalue = [8, 76, 14]'),\n",
       " Text(0.744563214154073, 0.5588235294117647, 'x[10] <= 0.5\\ngini = 0.16\\nsamples = 35\\nvalue = [1, 32, 2]'),\n",
       " Text(0.7386656837449318, 0.5, 'x[2] <= 12.55\\ngini = 0.111\\nsamples = 34\\nvalue = [0, 32, 2]'),\n",
       " Text(0.7327681533357906, 0.4411764705882353, 'gini = 0.0\\nsamples = 29\\nvalue = [0, 29, 0]'),\n",
       " Text(0.744563214154073, 0.4411764705882353, 'x[7] <= 153.5\\ngini = 0.48\\nsamples = 5\\nvalue = [0, 3, 2]'),\n",
       " Text(0.7386656837449318, 0.38235294117647056, 'x[7] <= 108.0\\ngini = 0.444\\nsamples = 3\\nvalue = [0, 1, 2]'),\n",
       " Text(0.7327681533357906, 0.3235294117647059, 'gini = 0.0\\nsamples = 1\\nvalue = [0, 1, 0]'),\n",
       " Text(0.744563214154073, 0.3235294117647059, 'gini = 0.0\\nsamples = 2\\nvalue = [0, 0, 2]'),\n",
       " Text(0.7504607445632141, 0.38235294117647056, 'gini = 0.0\\nsamples = 2\\nvalue = [0, 2, 0]'),\n",
       " Text(0.7504607445632141, 0.5, 'gini = 0.0\\nsamples = 1\\nvalue = [1, 0, 0]'),\n",
       " Text(0.8035385182454847, 0.5588235294117647, 'x[6] <= 237.0\\ngini = 0.464\\nsamples = 63\\nvalue = [7, 44, 12]'),\n",
       " Text(0.77994839660892, 0.5, 'x[5] <= 1.5\\ngini = 0.658\\nsamples = 15\\nvalue = [5, 6, 4]'),\n",
       " Text(0.7681533357906377, 0.4411764705882353, 'x[6] <= 222.0\\ngini = 0.469\\nsamples = 8\\nvalue = [0, 5, 3]'),\n",
       " Text(0.7622558053814965, 0.38235294117647056, 'gini = 0.0\\nsamples = 5\\nvalue = [0, 5, 0]'),\n",
       " Text(0.7740508661997788, 0.38235294117647056, 'gini = 0.0\\nsamples = 3\\nvalue = [0, 0, 3]'),\n",
       " Text(0.7917434574272023, 0.4411764705882353, 'x[27] <= 0.5\\ngini = 0.449\\nsamples = 7\\nvalue = [5, 1, 1]'),\n",
       " Text(0.7858459270180612, 0.38235294117647056, 'x[6] <= 201.5\\ngini = 0.278\\nsamples = 6\\nvalue = [5, 0, 1]'),\n",
       " Text(0.77994839660892, 0.3235294117647059, 'gini = 0.0\\nsamples = 1\\nvalue = [0, 0, 1]'),\n",
       " Text(0.7917434574272023, 0.3235294117647059, 'gini = 0.0\\nsamples = 5\\nvalue = [5, 0, 0]'),\n",
       " Text(0.7976409878363435, 0.38235294117647056, 'gini = 0.0\\nsamples = 1\\nvalue = [0, 1, 0]'),\n",
       " Text(0.8271286398820494, 0.5, 'x[7] <= 152.5\\ngini = 0.344\\nsamples = 48\\nvalue = [2, 38, 8]'),\n",
       " Text(0.815333579063767, 0.4411764705882353, 'x[11] <= 0.5\\ngini = 0.476\\nsamples = 26\\nvalue = [1, 17, 8]'),\n",
       " Text(0.8094360486546259, 0.38235294117647056, 'x[2] <= 10.95\\ngini = 0.435\\nsamples = 25\\nvalue = [0, 17, 8]'),\n",
       " Text(0.8035385182454847, 0.3235294117647059, 'gini = 0.0\\nsamples = 6\\nvalue = [0, 6, 0]'),\n",
       " Text(0.815333579063767, 0.3235294117647059, 'x[2] <= 17.6\\ngini = 0.488\\nsamples = 19\\nvalue = [0, 11, 8]'),\n",
       " Text(0.8094360486546259, 0.2647058823529412, 'x[6] <= 260.0\\ngini = 0.5\\nsamples = 16\\nvalue = [0, 8, 8]'),\n",
       " Text(0.8035385182454847, 0.20588235294117646, 'gini = 0.0\\nsamples = 2\\nvalue = [0, 2, 0]'),\n",
       " Text(0.815333579063767, 0.20588235294117646, 'x[6] <= 329.0\\ngini = 0.49\\nsamples = 14\\nvalue = [0, 6, 8]'),\n",
       " Text(0.8035385182454847, 0.14705882352941177, 'x[6] <= 278.5\\ngini = 0.42\\nsamples = 10\\nvalue = [0, 3, 7]'),\n",
       " Text(0.7976409878363435, 0.08823529411764706, 'x[6] <= 267.0\\ngini = 0.48\\nsamples = 5\\nvalue = [0, 3, 2]'),\n",
       " Text(0.7917434574272023, 0.029411764705882353, 'gini = 0.0\\nsamples = 2\\nvalue = [0, 0, 2]'),\n",
       " Text(0.8035385182454847, 0.029411764705882353, 'gini = 0.0\\nsamples = 3\\nvalue = [0, 3, 0]'),\n",
       " Text(0.8094360486546259, 0.08823529411764706, 'gini = 0.0\\nsamples = 5\\nvalue = [0, 0, 5]'),\n",
       " Text(0.8271286398820494, 0.14705882352941177, 'x[6] <= 368.5\\ngini = 0.375\\nsamples = 4\\nvalue = [0, 3, 1]'),\n",
       " Text(0.8212311094729082, 0.08823529411764706, 'gini = 0.0\\nsamples = 3\\nvalue = [0, 3, 0]'),\n",
       " Text(0.8330261702911905, 0.08823529411764706, 'gini = 0.0\\nsamples = 1\\nvalue = [0, 0, 1]'),\n",
       " Text(0.8212311094729082, 0.2647058823529412, 'gini = 0.0\\nsamples = 3\\nvalue = [0, 3, 0]'),\n",
       " Text(0.8212311094729082, 0.38235294117647056, 'gini = 0.0\\nsamples = 1\\nvalue = [1, 0, 0]'),\n",
       " Text(0.8389237007003317, 0.4411764705882353, 'x[1] <= 1637500.0\\ngini = 0.087\\nsamples = 22\\nvalue = [1, 21, 0]'),\n",
       " Text(0.8330261702911905, 0.38235294117647056, 'gini = 0.0\\nsamples = 17\\nvalue = [0, 17, 0]'),\n",
       " Text(0.8448212311094729, 0.38235294117647056, 'x[1] <= 1665000.0\\ngini = 0.32\\nsamples = 5\\nvalue = [1, 4, 0]'),\n",
       " Text(0.8389237007003317, 0.3235294117647059, 'gini = 0.0\\nsamples = 1\\nvalue = [1, 0, 0]'),\n",
       " Text(0.850718761518614, 0.3235294117647059, 'gini = 0.0\\nsamples = 4\\nvalue = [0, 4, 0]'),\n",
       " Text(0.9174345742720236, 0.7352941176470589, 'x[6] <= 386.0\\ngini = 0.218\\nsamples = 125\\nvalue = [5, 110, 10]'),\n",
       " Text(0.9056395134537413, 0.6764705882352942, 'x[1] <= 2877500.0\\ngini = 0.194\\nsamples = 122\\nvalue = [3, 109, 10]'),\n",
       " Text(0.8997419830446001, 0.6176470588235294, 'x[1] <= 586000.0\\ngini = 0.181\\nsamples = 121\\nvalue = [2, 109, 10]'),\n",
       " Text(0.8743088831551787, 0.5588235294117647, 'x[1] <= 577500.0\\ngini = 0.36\\nsamples = 17\\nvalue = [0, 13, 4]'),\n",
       " Text(0.8684113527460376, 0.5, 'x[7] <= 130.5\\ngini = 0.231\\nsamples = 15\\nvalue = [0, 13, 2]'),\n",
       " Text(0.8625138223368964, 0.4411764705882353, 'gini = 0.0\\nsamples = 11\\nvalue = [0, 11, 0]'),\n",
       " Text(0.8743088831551787, 0.4411764705882353, 'x[24] <= 0.5\\ngini = 0.5\\nsamples = 4\\nvalue = [0, 2, 2]'),\n",
       " Text(0.8684113527460376, 0.38235294117647056, 'x[1] <= 450000.0\\ngini = 0.444\\nsamples = 3\\nvalue = [0, 1, 2]'),\n",
       " Text(0.8625138223368964, 0.3235294117647059, 'gini = 0.0\\nsamples = 1\\nvalue = [0, 1, 0]'),\n",
       " Text(0.8743088831551787, 0.3235294117647059, 'gini = 0.0\\nsamples = 2\\nvalue = [0, 0, 2]'),\n",
       " Text(0.88020641356432, 0.38235294117647056, 'gini = 0.0\\nsamples = 1\\nvalue = [0, 1, 0]'),\n",
       " Text(0.88020641356432, 0.5, 'gini = 0.0\\nsamples = 2\\nvalue = [0, 0, 2]'),\n",
       " Text(0.9251750829340214, 0.5588235294117647, 'x[7] <= 116.5\\ngini = 0.144\\nsamples = 104\\nvalue = [2, 96, 6]'),\n",
       " Text(0.9037965352008847, 0.5, 'x[7] <= 112.95\\ngini = 0.32\\nsamples = 20\\nvalue = [0, 16, 4]'),\n",
       " Text(0.8978990047917434, 0.4411764705882353, 'x[26] <= 0.5\\ngini = 0.198\\nsamples = 18\\nvalue = [0, 16, 2]'),\n",
       " Text(0.8920014743826022, 0.38235294117647056, 'x[1] <= 1331000.0\\ngini = 0.111\\nsamples = 17\\nvalue = [0, 16, 1]'),\n",
       " Text(0.8861039439734612, 0.3235294117647059, 'gini = 0.0\\nsamples = 16\\nvalue = [0, 16, 0]'),\n",
       " Text(0.8978990047917434, 0.3235294117647059, 'gini = 0.0\\nsamples = 1\\nvalue = [0, 0, 1]'),\n",
       " Text(0.9037965352008847, 0.38235294117647056, 'gini = 0.0\\nsamples = 1\\nvalue = [0, 0, 1]'),\n",
       " Text(0.9096940656100257, 0.4411764705882353, 'gini = 0.0\\nsamples = 2\\nvalue = [0, 0, 2]'),\n",
       " Text(0.9465536306671581, 0.5, 'x[6] <= 364.0\\ngini = 0.092\\nsamples = 84\\nvalue = [2, 80, 2]'),\n",
       " Text(0.9303354220420199, 0.4411764705882353, 'x[19] <= 0.5\\ngini = 0.071\\nsamples = 82\\nvalue = [2, 79, 1]'),\n",
       " Text(0.915591596019167, 0.38235294117647056, 'x[8] <= 2009.5\\ngini = 0.05\\nsamples = 78\\nvalue = [2, 76, 0]'),\n",
       " Text(0.9096940656100257, 0.3235294117647059, 'x[23] <= 0.5\\ngini = 0.208\\nsamples = 17\\nvalue = [2, 15, 0]'),\n",
       " Text(0.8978990047917434, 0.2647058823529412, 'x[7] <= 129.0\\ngini = 0.124\\nsamples = 15\\nvalue = [1, 14, 0]'),\n",
       " Text(0.8920014743826022, 0.20588235294117646, 'x[7] <= 124.0\\ngini = 0.444\\nsamples = 3\\nvalue = [1, 2, 0]'),\n",
       " Text(0.8861039439734612, 0.14705882352941177, 'gini = 0.0\\nsamples = 2\\nvalue = [0, 2, 0]'),\n",
       " Text(0.8978990047917434, 0.14705882352941177, 'gini = 0.0\\nsamples = 1\\nvalue = [1, 0, 0]'),\n",
       " Text(0.9037965352008847, 0.20588235294117646, 'gini = 0.0\\nsamples = 12\\nvalue = [0, 12, 0]'),\n",
       " Text(0.9214891264283082, 0.2647058823529412, 'x[2] <= 10.2\\ngini = 0.5\\nsamples = 2\\nvalue = [1, 1, 0]'),\n",
       " Text(0.915591596019167, 0.20588235294117646, 'gini = 0.0\\nsamples = 1\\nvalue = [1, 0, 0]'),\n",
       " Text(0.9273866568374494, 0.20588235294117646, 'gini = 0.0\\nsamples = 1\\nvalue = [0, 1, 0]'),\n",
       " Text(0.9214891264283082, 0.3235294117647059, 'gini = 0.0\\nsamples = 61\\nvalue = [0, 61, 0]'),\n",
       " Text(0.9450792480648729, 0.38235294117647056, 'x[1] <= 895500.0\\ngini = 0.375\\nsamples = 4\\nvalue = [0, 3, 1]'),\n",
       " Text(0.9391817176557317, 0.3235294117647059, 'x[6] <= 97.5\\ngini = 0.5\\nsamples = 2\\nvalue = [0, 1, 1]'),\n",
       " Text(0.9332841872465905, 0.2647058823529412, 'gini = 0.0\\nsamples = 1\\nvalue = [0, 1, 0]'),\n",
       " Text(0.9450792480648729, 0.2647058823529412, 'gini = 0.0\\nsamples = 1\\nvalue = [0, 0, 1]'),\n",
       " Text(0.950976778474014, 0.3235294117647059, 'gini = 0.0\\nsamples = 2\\nvalue = [0, 2, 0]'),\n",
       " Text(0.9627718392922964, 0.4411764705882353, 'x[6] <= 368.5\\ngini = 0.5\\nsamples = 2\\nvalue = [0, 1, 1]'),\n",
       " Text(0.9568743088831552, 0.38235294117647056, 'gini = 0.0\\nsamples = 1\\nvalue = [0, 0, 1]'),\n",
       " Text(0.9686693697014376, 0.38235294117647056, 'gini = 0.0\\nsamples = 1\\nvalue = [0, 1, 0]'),\n",
       " Text(0.9115370438628824, 0.6176470588235294, 'gini = 0.0\\nsamples = 1\\nvalue = [1, 0, 0]'),\n",
       " Text(0.929229635090306, 0.6764705882352942, 'x[6] <= 427.0\\ngini = 0.444\\nsamples = 3\\nvalue = [2, 1, 0]'),\n",
       " Text(0.9233321046811648, 0.6176470588235294, 'gini = 0.0\\nsamples = 2\\nvalue = [2, 0, 0]'),\n",
       " Text(0.9351271654994471, 0.6176470588235294, 'gini = 0.0\\nsamples = 1\\nvalue = [0, 1, 0]'),\n",
       " Text(0.9705123479542941, 0.7941176470588235, 'x[2] <= 8.7\\ngini = 0.513\\nsamples = 45\\nvalue = [29, 11, 5]'),\n",
       " Text(0.9587172871360118, 0.7352941176470589, 'x[7] <= 245.5\\ngini = 0.623\\nsamples = 18\\nvalue = [4, 9, 5]'),\n",
       " Text(0.9528197567268706, 0.6764705882352942, 'x[3] <= 2.5\\ngini = 0.459\\nsamples = 14\\nvalue = [0, 9, 5]'),\n",
       " Text(0.9469222263177295, 0.6176470588235294, 'gini = 0.0\\nsamples = 3\\nvalue = [0, 0, 3]'),\n",
       " Text(0.9587172871360118, 0.6176470588235294, 'x[6] <= 4394.5\\ngini = 0.298\\nsamples = 11\\nvalue = [0, 9, 2]'),\n",
       " Text(0.9528197567268706, 0.5588235294117647, 'gini = 0.0\\nsamples = 9\\nvalue = [0, 9, 0]'),\n",
       " Text(0.964614817545153, 0.5588235294117647, 'gini = 0.0\\nsamples = 2\\nvalue = [0, 0, 2]'),\n",
       " Text(0.964614817545153, 0.6764705882352942, 'gini = 0.0\\nsamples = 4\\nvalue = [4, 0, 0]'),\n",
       " Text(0.9823074087725765, 0.7352941176470589, 'x[8] <= 2009.5\\ngini = 0.137\\nsamples = 27\\nvalue = [25, 2, 0]'),\n",
       " Text(0.9764098783634353, 0.6764705882352942, 'gini = 0.0\\nsamples = 23\\nvalue = [23, 0, 0]'),\n",
       " Text(0.9882049391817177, 0.6764705882352942, 'x[2] <= 12.7\\ngini = 0.5\\nsamples = 4\\nvalue = [2, 2, 0]'),\n",
       " Text(0.9823074087725765, 0.6176470588235294, 'gini = 0.0\\nsamples = 2\\nvalue = [0, 2, 0]'),\n",
       " Text(0.9941024695908588, 0.6176470588235294, 'gini = 0.0\\nsamples = 2\\nvalue = [2, 0, 0]')]"
      ]
     },
     "execution_count": 55,
     "metadata": {},
     "output_type": "execute_result"
    },
    {
     "data": {
      "image/png": "[encoded data removed]",
      "text/plain": [
       "<Figure size 640x480 with 1 Axes>"
      ]
     },
     "metadata": {},
     "output_type": "display_data"
    }
   ],
   "source": [
    "# Display text version of the tree\n",
    "tree.plot_tree(clf)"
   ]
  },
  {
   "cell_type": "code",
   "execution_count": 59,
   "metadata": {
    "id": "XFaREA6Frmyv"
   },
   "outputs": [],
   "source": [
    "# Display graphviz version of the tree\n"
   ]
  },
  {
   "cell_type": "markdown",
   "metadata": {
    "id": "UtkL3I7Irmyv"
   },
   "source": [
    "➡️ Answer containing your descriptive analytics in markdown here ⬅️"
   ]
  },
  {
   "cell_type": "markdown",
   "metadata": {
    "id": "jw32op9grmyv"
   },
   "source": [
    "## Q7 Calculate the Accuracy and Display Learning Curve\n",
    "Load in the test data from melb_tree_test.csv.\n",
    "\n",
    "Use the scikit-learn library to create many decision trees, each one with a different configuration (aka Hyperparameters).  You will create 28 different trees by:\n",
    "\n",
    "    - Varying the max depth from 2 to 15 with the Gini Index as the impurity measure\n",
    "    - Varying the max depth from 2 to 15 with the Entropy as the impurity measure\n",
    "\n",
    "Implementation tip: you can create an array of numbers from 2 to 15 by using the numpy function [arange](https://numpy.org/doc/stable/reference/generated/numpy.arange.html).\n",
    "\n",
    "For each of the 28 decistion trees, calculate the error rate by using the data in the: \n",
    "  - Training set, and\n",
    "  - Test set.\n",
    "\n",
    "Display the results graphicaly, and offer an analysis of the trend (or if no trend present, offer a hypotheisis of why).  The max depth should be on the x-axis, and the error rate should be on the y-axis (see figure 3.23 in your DM textbook for a similar style of graph that uses leaf nodes instead of depth for the x-axis). Your plot will include 4 series of data\n",
    "   - Test error (entropy)\n",
    "   - Test error (gini index)\n",
    "   - Training error (entropy)\n",
    "   - Training error (gini index)"
   ]
  },
  {
   "cell_type": "code",
   "execution_count": null,
   "metadata": {
    "id": "6Y7YProxrmyw"
   },
   "outputs": [],
   "source": [
    "# Load in the test data"
   ]
  },
  {
   "cell_type": "code",
   "execution_count": null,
   "metadata": {
    "id": "Mn7Ocq2zrmyw"
   },
   "outputs": [],
   "source": [
    "# Build the trees using the training data"
   ]
  },
  {
   "cell_type": "code",
   "execution_count": null,
   "metadata": {
    "id": "E-z2Clf2rmyw"
   },
   "outputs": [],
   "source": [
    "# Plot the 4 learning curves"
   ]
  },
  {
   "cell_type": "markdown",
   "metadata": {
    "id": "sTT774qwrmyw"
   },
   "source": [
    "➡️ Answer containing your analysis of the trend (or if no trend present, offer a hypotheisis of why) here ⬅️"
   ]
  }
 ],
 "metadata": {
  "colab": {
   "collapsed_sections": [],
   "name": "CS329E_HW4.ipynb",
   "provenance": []
  },
  "kernelspec": {
   "display_name": "Python 3 (ipykernel)",
   "language": "python",
   "name": "python3"
  },
  "language_info": {
   "codemirror_mode": {
    "name": "ipython",
    "version": 3
   },
   "file_extension": ".py",
   "mimetype": "text/x-python",
   "name": "python",
   "nbconvert_exporter": "python",
   "pygments_lexer": "ipython3",
   "version": "3.11.1"
  }
 },
 "nbformat": 4,
 "nbformat_minor": 1
}
