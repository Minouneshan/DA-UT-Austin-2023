{
  "cells": [
    {
      "cell_type": "markdown",
      "metadata": {
        "id": "CsII0Mcormyn"
      },
      "source": [
        "### C S 329E HW 4\n",
        "\n",
        "## Pair Programming Group Number: 18\n",
        "## Members of Team: Fayed Nassor ; Mohamad Minoneshan\n",
        "\n",
        "## Decision Tree Classifier\n",
        "\n",
        "\n",
        "For this weeks homework we are going to explore ideas around decision tree implementation!  \n",
        "\n",
        "We will implement some helper functions that would be necessary for a home-grown tree:\n",
        "  - calc_entropy\n",
        "  - calc_gini\n",
        "  \n",
        "and them test them out at given data splits.\n",
        "  \n",
        "And finally, to perform predictive and descriptive analytics we use the [Decision Tree Classifier](https://scikit-learn.org/stable/modules/tree.html#classification) class in the scikit-learn package.\n",
        "\n",
        "  \n",
        "For this assignment, the stopping condition will be the depth of the tree. The impurity measure can be either `Entropy` or `Gini`.\n",
        "\n",
        "To test our tree built from the Decision Tree Classifier class, we will revisit our Melbourne housing data (that has been cleaned and pruned) and use the files:\n",
        "\n",
        "   - `melb_tree_train.csv` for training the decision tree (we'll also see what happens if we use the same data to test as we used to train the data in the last problem)\n",
        "   - `melb_tree_test.csv` for testing the decision tree\n",
        "\n",
        "There are 10 features in these dataframes that we can use to describe and predict the class label housing \"Type\", which is 'h' house, 'u' duplex, or 't' townhome."
      ]
    },
    {
      "cell_type": "code",
      "execution_count": null,
      "metadata": {
        "id": "XW5qmE_qrmyp"
      },
      "outputs": [],
      "source": [
        "# import the libraries\n",
        "import pandas as pd\n",
        "import numpy as np\n",
        "import matplotlib.pyplot as plt\n",
        "from math import log2\n",
        "from sklearn import tree # you'll probably need to install this - look at Q6 for a link\n",
        "import graphviz # you'll probably need to install this - look at Q6 for a link"
      ]
    },
    {
      "cell_type": "code",
      "execution_count": null,
      "metadata": {
        "colab": {
          "base_uri": "https://localhost:8080/",
          "height": 206
        },
        "id": "oHRp2EZkr9S2",
        "outputId": "8b6f905a-f325-4496-f3d8-483324b0dbe0"
      },
      "outputs": [
        {
          "data": {
            "text/html": [
              "<div>\n",
              "<style scoped>\n",
              "    .dataframe tbody tr th:only-of-type {\n",
              "        vertical-align: middle;\n",
              "    }\n",
              "\n",
              "    .dataframe tbody tr th {\n",
              "        vertical-align: top;\n",
              "    }\n",
              "\n",
              "    .dataframe thead th {\n",
              "        text-align: right;\n",
              "    }\n",
              "</style>\n",
              "<table border=\"1\" class=\"dataframe\">\n",
              "  <thead>\n",
              "    <tr style=\"text-align: right;\">\n",
              "      <th></th>\n",
              "      <th>Rooms</th>\n",
              "      <th>Type</th>\n",
              "      <th>Price</th>\n",
              "      <th>Distance</th>\n",
              "      <th>Bedroom2</th>\n",
              "      <th>Bathroom</th>\n",
              "      <th>Car</th>\n",
              "      <th>Landsize</th>\n",
              "      <th>BuildingArea</th>\n",
              "      <th>YearBuilt</th>\n",
              "      <th>CouncilArea</th>\n",
              "    </tr>\n",
              "  </thead>\n",
              "  <tbody>\n",
              "    <tr>\n",
              "      <th>0</th>\n",
              "      <td>2</td>\n",
              "      <td>t</td>\n",
              "      <td>771000.0</td>\n",
              "      <td>13.8</td>\n",
              "      <td>2.0</td>\n",
              "      <td>1.0</td>\n",
              "      <td>1.0</td>\n",
              "      <td>0.0</td>\n",
              "      <td>99.0</td>\n",
              "      <td>1992.0</td>\n",
              "      <td>Bayside</td>\n",
              "    </tr>\n",
              "    <tr>\n",
              "      <th>1</th>\n",
              "      <td>3</td>\n",
              "      <td>t</td>\n",
              "      <td>700000.0</td>\n",
              "      <td>7.9</td>\n",
              "      <td>3.0</td>\n",
              "      <td>2.0</td>\n",
              "      <td>1.0</td>\n",
              "      <td>189.0</td>\n",
              "      <td>110.0</td>\n",
              "      <td>1990.0</td>\n",
              "      <td>Banyule</td>\n",
              "    </tr>\n",
              "    <tr>\n",
              "      <th>2</th>\n",
              "      <td>3</td>\n",
              "      <td>u</td>\n",
              "      <td>975000.0</td>\n",
              "      <td>12.1</td>\n",
              "      <td>3.0</td>\n",
              "      <td>2.0</td>\n",
              "      <td>1.0</td>\n",
              "      <td>277.0</td>\n",
              "      <td>109.0</td>\n",
              "      <td>1975.0</td>\n",
              "      <td>Glen Eira</td>\n",
              "    </tr>\n",
              "    <tr>\n",
              "      <th>3</th>\n",
              "      <td>3</td>\n",
              "      <td>h</td>\n",
              "      <td>1290000.0</td>\n",
              "      <td>8.0</td>\n",
              "      <td>3.0</td>\n",
              "      <td>1.0</td>\n",
              "      <td>1.0</td>\n",
              "      <td>618.0</td>\n",
              "      <td>132.0</td>\n",
              "      <td>1960.0</td>\n",
              "      <td>Moonee Valley</td>\n",
              "    </tr>\n",
              "    <tr>\n",
              "      <th>4</th>\n",
              "      <td>2</td>\n",
              "      <td>u</td>\n",
              "      <td>500000.0</td>\n",
              "      <td>4.2</td>\n",
              "      <td>2.0</td>\n",
              "      <td>1.0</td>\n",
              "      <td>1.0</td>\n",
              "      <td>0.0</td>\n",
              "      <td>86.0</td>\n",
              "      <td>2000.0</td>\n",
              "      <td>Melbourne</td>\n",
              "    </tr>\n",
              "  </tbody>\n",
              "</table>\n",
              "</div>"
            ],
            "text/plain": [
              "   Rooms Type      Price  Distance  Bedroom2  Bathroom  Car  Landsize  \\\n",
              "0      2    t   771000.0      13.8       2.0       1.0  1.0       0.0   \n",
              "1      3    t   700000.0       7.9       3.0       2.0  1.0     189.0   \n",
              "2      3    u   975000.0      12.1       3.0       2.0  1.0     277.0   \n",
              "3      3    h  1290000.0       8.0       3.0       1.0  1.0     618.0   \n",
              "4      2    u   500000.0       4.2       2.0       1.0  1.0       0.0   \n",
              "\n",
              "   BuildingArea  YearBuilt    CouncilArea  \n",
              "0          99.0     1992.0        Bayside  \n",
              "1         110.0     1990.0        Banyule  \n",
              "2         109.0     1975.0      Glen Eira  \n",
              "3         132.0     1960.0  Moonee Valley  \n",
              "4          86.0     2000.0      Melbourne  "
            ]
          },
          "execution_count": 2,
          "metadata": {},
          "output_type": "execute_result"
        }
      ],
      "source": [
        "df_train = pd.read_csv('https://gist.githubusercontent.com/yanyanzheng96/f8ba57f8377dee0810271475c728fca8/raw/afa3fa4305b55e31135980835d40b27af31f288c/melb_tree_train.csv')\n",
        "df_train.head()"
      ]
    },
    {
      "cell_type": "code",
      "execution_count": null,
      "metadata": {
        "colab": {
          "base_uri": "https://localhost:8080/",
          "height": 206
        },
        "id": "YPFbglKfsFOv",
        "outputId": "d14a1f7f-7ef6-4bd9-f278-601499c9d46e"
      },
      "outputs": [
        {
          "data": {
            "text/html": [
              "<div>\n",
              "<style scoped>\n",
              "    .dataframe tbody tr th:only-of-type {\n",
              "        vertical-align: middle;\n",
              "    }\n",
              "\n",
              "    .dataframe tbody tr th {\n",
              "        vertical-align: top;\n",
              "    }\n",
              "\n",
              "    .dataframe thead th {\n",
              "        text-align: right;\n",
              "    }\n",
              "</style>\n",
              "<table border=\"1\" class=\"dataframe\">\n",
              "  <thead>\n",
              "    <tr style=\"text-align: right;\">\n",
              "      <th></th>\n",
              "      <th>Rooms</th>\n",
              "      <th>Type</th>\n",
              "      <th>Price</th>\n",
              "      <th>Distance</th>\n",
              "      <th>Bedroom2</th>\n",
              "      <th>Bathroom</th>\n",
              "      <th>Car</th>\n",
              "      <th>Landsize</th>\n",
              "      <th>BuildingArea</th>\n",
              "      <th>YearBuilt</th>\n",
              "      <th>CouncilArea</th>\n",
              "    </tr>\n",
              "  </thead>\n",
              "  <tbody>\n",
              "    <tr>\n",
              "      <th>0</th>\n",
              "      <td>2</td>\n",
              "      <td>t</td>\n",
              "      <td>930000.0</td>\n",
              "      <td>2.6</td>\n",
              "      <td>2.0</td>\n",
              "      <td>1.0</td>\n",
              "      <td>1.0</td>\n",
              "      <td>97.0</td>\n",
              "      <td>85.0</td>\n",
              "      <td>2004.0</td>\n",
              "      <td>Yarra</td>\n",
              "    </tr>\n",
              "    <tr>\n",
              "      <th>1</th>\n",
              "      <td>3</td>\n",
              "      <td>t</td>\n",
              "      <td>815000.0</td>\n",
              "      <td>11.0</td>\n",
              "      <td>3.0</td>\n",
              "      <td>2.0</td>\n",
              "      <td>2.0</td>\n",
              "      <td>159.0</td>\n",
              "      <td>130.0</td>\n",
              "      <td>2014.0</td>\n",
              "      <td>Hobsons Bay</td>\n",
              "    </tr>\n",
              "    <tr>\n",
              "      <th>2</th>\n",
              "      <td>4</td>\n",
              "      <td>h</td>\n",
              "      <td>638000.0</td>\n",
              "      <td>13.0</td>\n",
              "      <td>4.0</td>\n",
              "      <td>2.0</td>\n",
              "      <td>1.0</td>\n",
              "      <td>624.0</td>\n",
              "      <td>258.0</td>\n",
              "      <td>2005.0</td>\n",
              "      <td>Moreland</td>\n",
              "    </tr>\n",
              "    <tr>\n",
              "      <th>3</th>\n",
              "      <td>2</td>\n",
              "      <td>t</td>\n",
              "      <td>595000.0</td>\n",
              "      <td>11.2</td>\n",
              "      <td>2.0</td>\n",
              "      <td>2.0</td>\n",
              "      <td>1.0</td>\n",
              "      <td>201.0</td>\n",
              "      <td>111.0</td>\n",
              "      <td>2005.0</td>\n",
              "      <td>Moreland</td>\n",
              "    </tr>\n",
              "    <tr>\n",
              "      <th>4</th>\n",
              "      <td>3</td>\n",
              "      <td>t</td>\n",
              "      <td>620500.0</td>\n",
              "      <td>11.2</td>\n",
              "      <td>3.0</td>\n",
              "      <td>2.0</td>\n",
              "      <td>1.0</td>\n",
              "      <td>158.0</td>\n",
              "      <td>117.0</td>\n",
              "      <td>2011.0</td>\n",
              "      <td>Darebin</td>\n",
              "    </tr>\n",
              "  </tbody>\n",
              "</table>\n",
              "</div>"
            ],
            "text/plain": [
              "   Rooms Type     Price  Distance  Bedroom2  Bathroom  Car  Landsize  \\\n",
              "0      2    t  930000.0       2.6       2.0       1.0  1.0      97.0   \n",
              "1      3    t  815000.0      11.0       3.0       2.0  2.0     159.0   \n",
              "2      4    h  638000.0      13.0       4.0       2.0  1.0     624.0   \n",
              "3      2    t  595000.0      11.2       2.0       2.0  1.0     201.0   \n",
              "4      3    t  620500.0      11.2       3.0       2.0  1.0     158.0   \n",
              "\n",
              "   BuildingArea  YearBuilt  CouncilArea  \n",
              "0          85.0     2004.0        Yarra  \n",
              "1         130.0     2014.0  Hobsons Bay  \n",
              "2         258.0     2005.0     Moreland  \n",
              "3         111.0     2005.0     Moreland  \n",
              "4         117.0     2011.0      Darebin  "
            ]
          },
          "execution_count": 3,
          "metadata": {},
          "output_type": "execute_result"
        }
      ],
      "source": [
        "df_test = pd.read_csv('https://gist.githubusercontent.com/yanyanzheng96/ec66da011b165f0e282c0c1f8447010e/raw/d02c3829a7e9db2d156ba1ab9d5bb4d18ae57be8/melb_tree_test.csv')\n",
        "df_test.head()"
      ]
    },
    {
      "cell_type": "markdown",
      "metadata": {
        "id": "tSpic2Eurmyq"
      },
      "source": [
        "## Q1 Load the Data\n",
        "Load in the melb_tree_train.csv into a dataframe, and split that dataframe into `df_X`, which contains the features of the data set (everything but `Type`), and `s_y`, the series containing just the class label (just `Type`). The lengths of `df_X` and `s_y` should match."
      ]
    },
    {
      "cell_type": "code",
      "execution_count": null,
      "metadata": {
        "colab": {
          "base_uri": "https://localhost:8080/",
          "height": 206
        },
        "id": "FnNRRkhWrmyq",
        "outputId": "5c2c930c-67b0-41d9-f2aa-44b127fb40cc"
      },
      "outputs": [
        {
          "data": {
            "text/html": [
              "<div>\n",
              "<style scoped>\n",
              "    .dataframe tbody tr th:only-of-type {\n",
              "        vertical-align: middle;\n",
              "    }\n",
              "\n",
              "    .dataframe tbody tr th {\n",
              "        vertical-align: top;\n",
              "    }\n",
              "\n",
              "    .dataframe thead th {\n",
              "        text-align: right;\n",
              "    }\n",
              "</style>\n",
              "<table border=\"1\" class=\"dataframe\">\n",
              "  <thead>\n",
              "    <tr style=\"text-align: right;\">\n",
              "      <th></th>\n",
              "      <th>Rooms</th>\n",
              "      <th>Price</th>\n",
              "      <th>Distance</th>\n",
              "      <th>Bedroom2</th>\n",
              "      <th>Bathroom</th>\n",
              "      <th>Car</th>\n",
              "      <th>Landsize</th>\n",
              "      <th>BuildingArea</th>\n",
              "      <th>YearBuilt</th>\n",
              "      <th>CouncilArea</th>\n",
              "    </tr>\n",
              "  </thead>\n",
              "  <tbody>\n",
              "    <tr>\n",
              "      <th>0</th>\n",
              "      <td>2</td>\n",
              "      <td>771000.0</td>\n",
              "      <td>13.8</td>\n",
              "      <td>2.0</td>\n",
              "      <td>1.0</td>\n",
              "      <td>1.0</td>\n",
              "      <td>0.0</td>\n",
              "      <td>99.0</td>\n",
              "      <td>1992.0</td>\n",
              "      <td>Bayside</td>\n",
              "    </tr>\n",
              "    <tr>\n",
              "      <th>1</th>\n",
              "      <td>3</td>\n",
              "      <td>700000.0</td>\n",
              "      <td>7.9</td>\n",
              "      <td>3.0</td>\n",
              "      <td>2.0</td>\n",
              "      <td>1.0</td>\n",
              "      <td>189.0</td>\n",
              "      <td>110.0</td>\n",
              "      <td>1990.0</td>\n",
              "      <td>Banyule</td>\n",
              "    </tr>\n",
              "    <tr>\n",
              "      <th>2</th>\n",
              "      <td>3</td>\n",
              "      <td>975000.0</td>\n",
              "      <td>12.1</td>\n",
              "      <td>3.0</td>\n",
              "      <td>2.0</td>\n",
              "      <td>1.0</td>\n",
              "      <td>277.0</td>\n",
              "      <td>109.0</td>\n",
              "      <td>1975.0</td>\n",
              "      <td>Glen Eira</td>\n",
              "    </tr>\n",
              "    <tr>\n",
              "      <th>3</th>\n",
              "      <td>3</td>\n",
              "      <td>1290000.0</td>\n",
              "      <td>8.0</td>\n",
              "      <td>3.0</td>\n",
              "      <td>1.0</td>\n",
              "      <td>1.0</td>\n",
              "      <td>618.0</td>\n",
              "      <td>132.0</td>\n",
              "      <td>1960.0</td>\n",
              "      <td>Moonee Valley</td>\n",
              "    </tr>\n",
              "    <tr>\n",
              "      <th>4</th>\n",
              "      <td>2</td>\n",
              "      <td>500000.0</td>\n",
              "      <td>4.2</td>\n",
              "      <td>2.0</td>\n",
              "      <td>1.0</td>\n",
              "      <td>1.0</td>\n",
              "      <td>0.0</td>\n",
              "      <td>86.0</td>\n",
              "      <td>2000.0</td>\n",
              "      <td>Melbourne</td>\n",
              "    </tr>\n",
              "  </tbody>\n",
              "</table>\n",
              "</div>"
            ],
            "text/plain": [
              "   Rooms      Price  Distance  Bedroom2  Bathroom  Car  Landsize  \\\n",
              "0      2   771000.0      13.8       2.0       1.0  1.0       0.0   \n",
              "1      3   700000.0       7.9       3.0       2.0  1.0     189.0   \n",
              "2      3   975000.0      12.1       3.0       2.0  1.0     277.0   \n",
              "3      3  1290000.0       8.0       3.0       1.0  1.0     618.0   \n",
              "4      2   500000.0       4.2       2.0       1.0  1.0       0.0   \n",
              "\n",
              "   BuildingArea  YearBuilt    CouncilArea  \n",
              "0          99.0     1992.0        Bayside  \n",
              "1         110.0     1990.0        Banyule  \n",
              "2         109.0     1975.0      Glen Eira  \n",
              "3         132.0     1960.0  Moonee Valley  \n",
              "4          86.0     2000.0      Melbourne  "
            ]
          },
          "execution_count": 4,
          "metadata": {},
          "output_type": "execute_result"
        }
      ],
      "source": [
        "# Split the data into features and class label\n",
        "df_X = df_train.drop(\"Type\", axis=1)\n",
        "s_y = df_train[\"Type\"]\n",
        "df_X.head()"
      ]
    },
    {
      "cell_type": "code",
      "execution_count": null,
      "metadata": {
        "colab": {
          "base_uri": "https://localhost:8080/",
          "height": 505
        },
        "id": "IVCAragh3XV-",
        "outputId": "53e84ffc-6b35-4daf-9ed6-8bd465fb535e"
      },
      "outputs": [
        {
          "data": {
            "text/html": [
              "<div>\n",
              "<style scoped>\n",
              "    .dataframe tbody tr th:only-of-type {\n",
              "        vertical-align: middle;\n",
              "    }\n",
              "\n",
              "    .dataframe tbody tr th {\n",
              "        vertical-align: top;\n",
              "    }\n",
              "\n",
              "    .dataframe thead th {\n",
              "        text-align: right;\n",
              "    }\n",
              "</style>\n",
              "<table border=\"1\" class=\"dataframe\">\n",
              "  <thead>\n",
              "    <tr style=\"text-align: right;\">\n",
              "      <th></th>\n",
              "      <th>Rooms</th>\n",
              "      <th>Price</th>\n",
              "      <th>Distance</th>\n",
              "      <th>Bedroom2</th>\n",
              "      <th>Bathroom</th>\n",
              "      <th>Car</th>\n",
              "      <th>Landsize</th>\n",
              "      <th>BuildingArea</th>\n",
              "      <th>YearBuilt</th>\n",
              "      <th>CouncilArea_Banyule</th>\n",
              "      <th>...</th>\n",
              "      <th>CouncilArea_Maribyrnong</th>\n",
              "      <th>CouncilArea_Melbourne</th>\n",
              "      <th>CouncilArea_Monash</th>\n",
              "      <th>CouncilArea_Moonee Valley</th>\n",
              "      <th>CouncilArea_Moreland</th>\n",
              "      <th>CouncilArea_Port Phillip</th>\n",
              "      <th>CouncilArea_Stonnington</th>\n",
              "      <th>CouncilArea_Whitehorse</th>\n",
              "      <th>CouncilArea_Wyndham</th>\n",
              "      <th>CouncilArea_Yarra</th>\n",
              "    </tr>\n",
              "  </thead>\n",
              "  <tbody>\n",
              "    <tr>\n",
              "      <th>0</th>\n",
              "      <td>2</td>\n",
              "      <td>771000.0</td>\n",
              "      <td>13.8</td>\n",
              "      <td>2.0</td>\n",
              "      <td>1.0</td>\n",
              "      <td>1.0</td>\n",
              "      <td>0.0</td>\n",
              "      <td>99.0</td>\n",
              "      <td>1992.0</td>\n",
              "      <td>0</td>\n",
              "      <td>...</td>\n",
              "      <td>0</td>\n",
              "      <td>0</td>\n",
              "      <td>0</td>\n",
              "      <td>0</td>\n",
              "      <td>0</td>\n",
              "      <td>0</td>\n",
              "      <td>0</td>\n",
              "      <td>0</td>\n",
              "      <td>0</td>\n",
              "      <td>0</td>\n",
              "    </tr>\n",
              "    <tr>\n",
              "      <th>1</th>\n",
              "      <td>3</td>\n",
              "      <td>700000.0</td>\n",
              "      <td>7.9</td>\n",
              "      <td>3.0</td>\n",
              "      <td>2.0</td>\n",
              "      <td>1.0</td>\n",
              "      <td>189.0</td>\n",
              "      <td>110.0</td>\n",
              "      <td>1990.0</td>\n",
              "      <td>1</td>\n",
              "      <td>...</td>\n",
              "      <td>0</td>\n",
              "      <td>0</td>\n",
              "      <td>0</td>\n",
              "      <td>0</td>\n",
              "      <td>0</td>\n",
              "      <td>0</td>\n",
              "      <td>0</td>\n",
              "      <td>0</td>\n",
              "      <td>0</td>\n",
              "      <td>0</td>\n",
              "    </tr>\n",
              "    <tr>\n",
              "      <th>2</th>\n",
              "      <td>3</td>\n",
              "      <td>975000.0</td>\n",
              "      <td>12.1</td>\n",
              "      <td>3.0</td>\n",
              "      <td>2.0</td>\n",
              "      <td>1.0</td>\n",
              "      <td>277.0</td>\n",
              "      <td>109.0</td>\n",
              "      <td>1975.0</td>\n",
              "      <td>0</td>\n",
              "      <td>...</td>\n",
              "      <td>0</td>\n",
              "      <td>0</td>\n",
              "      <td>0</td>\n",
              "      <td>0</td>\n",
              "      <td>0</td>\n",
              "      <td>0</td>\n",
              "      <td>0</td>\n",
              "      <td>0</td>\n",
              "      <td>0</td>\n",
              "      <td>0</td>\n",
              "    </tr>\n",
              "    <tr>\n",
              "      <th>3</th>\n",
              "      <td>3</td>\n",
              "      <td>1290000.0</td>\n",
              "      <td>8.0</td>\n",
              "      <td>3.0</td>\n",
              "      <td>1.0</td>\n",
              "      <td>1.0</td>\n",
              "      <td>618.0</td>\n",
              "      <td>132.0</td>\n",
              "      <td>1960.0</td>\n",
              "      <td>0</td>\n",
              "      <td>...</td>\n",
              "      <td>0</td>\n",
              "      <td>0</td>\n",
              "      <td>0</td>\n",
              "      <td>1</td>\n",
              "      <td>0</td>\n",
              "      <td>0</td>\n",
              "      <td>0</td>\n",
              "      <td>0</td>\n",
              "      <td>0</td>\n",
              "      <td>0</td>\n",
              "    </tr>\n",
              "    <tr>\n",
              "      <th>4</th>\n",
              "      <td>2</td>\n",
              "      <td>500000.0</td>\n",
              "      <td>4.2</td>\n",
              "      <td>2.0</td>\n",
              "      <td>1.0</td>\n",
              "      <td>1.0</td>\n",
              "      <td>0.0</td>\n",
              "      <td>86.0</td>\n",
              "      <td>2000.0</td>\n",
              "      <td>0</td>\n",
              "      <td>...</td>\n",
              "      <td>0</td>\n",
              "      <td>1</td>\n",
              "      <td>0</td>\n",
              "      <td>0</td>\n",
              "      <td>0</td>\n",
              "      <td>0</td>\n",
              "      <td>0</td>\n",
              "      <td>0</td>\n",
              "      <td>0</td>\n",
              "      <td>0</td>\n",
              "    </tr>\n",
              "    <tr>\n",
              "      <th>...</th>\n",
              "      <td>...</td>\n",
              "      <td>...</td>\n",
              "      <td>...</td>\n",
              "      <td>...</td>\n",
              "      <td>...</td>\n",
              "      <td>...</td>\n",
              "      <td>...</td>\n",
              "      <td>...</td>\n",
              "      <td>...</td>\n",
              "      <td>...</td>\n",
              "      <td>...</td>\n",
              "      <td>...</td>\n",
              "      <td>...</td>\n",
              "      <td>...</td>\n",
              "      <td>...</td>\n",
              "      <td>...</td>\n",
              "      <td>...</td>\n",
              "      <td>...</td>\n",
              "      <td>...</td>\n",
              "      <td>...</td>\n",
              "      <td>...</td>\n",
              "    </tr>\n",
              "    <tr>\n",
              "      <th>805</th>\n",
              "      <td>2</td>\n",
              "      <td>855000.0</td>\n",
              "      <td>11.4</td>\n",
              "      <td>2.0</td>\n",
              "      <td>1.0</td>\n",
              "      <td>1.0</td>\n",
              "      <td>158.0</td>\n",
              "      <td>106.0</td>\n",
              "      <td>1994.0</td>\n",
              "      <td>0</td>\n",
              "      <td>...</td>\n",
              "      <td>0</td>\n",
              "      <td>0</td>\n",
              "      <td>0</td>\n",
              "      <td>0</td>\n",
              "      <td>0</td>\n",
              "      <td>0</td>\n",
              "      <td>0</td>\n",
              "      <td>0</td>\n",
              "      <td>0</td>\n",
              "      <td>0</td>\n",
              "    </tr>\n",
              "    <tr>\n",
              "      <th>806</th>\n",
              "      <td>2</td>\n",
              "      <td>696000.0</td>\n",
              "      <td>2.6</td>\n",
              "      <td>2.0</td>\n",
              "      <td>2.0</td>\n",
              "      <td>1.0</td>\n",
              "      <td>0.0</td>\n",
              "      <td>68.0</td>\n",
              "      <td>2008.0</td>\n",
              "      <td>0</td>\n",
              "      <td>...</td>\n",
              "      <td>0</td>\n",
              "      <td>0</td>\n",
              "      <td>0</td>\n",
              "      <td>0</td>\n",
              "      <td>0</td>\n",
              "      <td>0</td>\n",
              "      <td>0</td>\n",
              "      <td>0</td>\n",
              "      <td>0</td>\n",
              "      <td>1</td>\n",
              "    </tr>\n",
              "    <tr>\n",
              "      <th>807</th>\n",
              "      <td>2</td>\n",
              "      <td>520000.0</td>\n",
              "      <td>9.9</td>\n",
              "      <td>2.0</td>\n",
              "      <td>1.0</td>\n",
              "      <td>1.0</td>\n",
              "      <td>0.0</td>\n",
              "      <td>82.0</td>\n",
              "      <td>2011.0</td>\n",
              "      <td>0</td>\n",
              "      <td>...</td>\n",
              "      <td>0</td>\n",
              "      <td>0</td>\n",
              "      <td>0</td>\n",
              "      <td>0</td>\n",
              "      <td>1</td>\n",
              "      <td>0</td>\n",
              "      <td>0</td>\n",
              "      <td>0</td>\n",
              "      <td>0</td>\n",
              "      <td>0</td>\n",
              "    </tr>\n",
              "    <tr>\n",
              "      <th>808</th>\n",
              "      <td>3</td>\n",
              "      <td>815000.0</td>\n",
              "      <td>4.3</td>\n",
              "      <td>3.0</td>\n",
              "      <td>2.0</td>\n",
              "      <td>2.0</td>\n",
              "      <td>198.0</td>\n",
              "      <td>130.0</td>\n",
              "      <td>1990.0</td>\n",
              "      <td>0</td>\n",
              "      <td>...</td>\n",
              "      <td>1</td>\n",
              "      <td>0</td>\n",
              "      <td>0</td>\n",
              "      <td>0</td>\n",
              "      <td>0</td>\n",
              "      <td>0</td>\n",
              "      <td>0</td>\n",
              "      <td>0</td>\n",
              "      <td>0</td>\n",
              "      <td>0</td>\n",
              "    </tr>\n",
              "    <tr>\n",
              "      <th>809</th>\n",
              "      <td>3</td>\n",
              "      <td>1302500.0</td>\n",
              "      <td>11.2</td>\n",
              "      <td>3.0</td>\n",
              "      <td>2.0</td>\n",
              "      <td>2.0</td>\n",
              "      <td>0.0</td>\n",
              "      <td>171.0</td>\n",
              "      <td>1993.0</td>\n",
              "      <td>0</td>\n",
              "      <td>...</td>\n",
              "      <td>0</td>\n",
              "      <td>0</td>\n",
              "      <td>0</td>\n",
              "      <td>0</td>\n",
              "      <td>0</td>\n",
              "      <td>0</td>\n",
              "      <td>0</td>\n",
              "      <td>0</td>\n",
              "      <td>0</td>\n",
              "      <td>0</td>\n",
              "    </tr>\n",
              "  </tbody>\n",
              "</table>\n",
              "<p>810 rows × 30 columns</p>\n",
              "</div>"
            ],
            "text/plain": [
              "     Rooms      Price  Distance  Bedroom2  Bathroom  Car  Landsize  \\\n",
              "0        2   771000.0      13.8       2.0       1.0  1.0       0.0   \n",
              "1        3   700000.0       7.9       3.0       2.0  1.0     189.0   \n",
              "2        3   975000.0      12.1       3.0       2.0  1.0     277.0   \n",
              "3        3  1290000.0       8.0       3.0       1.0  1.0     618.0   \n",
              "4        2   500000.0       4.2       2.0       1.0  1.0       0.0   \n",
              "..     ...        ...       ...       ...       ...  ...       ...   \n",
              "805      2   855000.0      11.4       2.0       1.0  1.0     158.0   \n",
              "806      2   696000.0       2.6       2.0       2.0  1.0       0.0   \n",
              "807      2   520000.0       9.9       2.0       1.0  1.0       0.0   \n",
              "808      3   815000.0       4.3       3.0       2.0  2.0     198.0   \n",
              "809      3  1302500.0      11.2       3.0       2.0  2.0       0.0   \n",
              "\n",
              "     BuildingArea  YearBuilt  CouncilArea_Banyule  ...  \\\n",
              "0            99.0     1992.0                    0  ...   \n",
              "1           110.0     1990.0                    1  ...   \n",
              "2           109.0     1975.0                    0  ...   \n",
              "3           132.0     1960.0                    0  ...   \n",
              "4            86.0     2000.0                    0  ...   \n",
              "..            ...        ...                  ...  ...   \n",
              "805         106.0     1994.0                    0  ...   \n",
              "806          68.0     2008.0                    0  ...   \n",
              "807          82.0     2011.0                    0  ...   \n",
              "808         130.0     1990.0                    0  ...   \n",
              "809         171.0     1993.0                    0  ...   \n",
              "\n",
              "     CouncilArea_Maribyrnong  CouncilArea_Melbourne  CouncilArea_Monash  \\\n",
              "0                          0                      0                   0   \n",
              "1                          0                      0                   0   \n",
              "2                          0                      0                   0   \n",
              "3                          0                      0                   0   \n",
              "4                          0                      1                   0   \n",
              "..                       ...                    ...                 ...   \n",
              "805                        0                      0                   0   \n",
              "806                        0                      0                   0   \n",
              "807                        0                      0                   0   \n",
              "808                        1                      0                   0   \n",
              "809                        0                      0                   0   \n",
              "\n",
              "     CouncilArea_Moonee Valley  CouncilArea_Moreland  \\\n",
              "0                            0                     0   \n",
              "1                            0                     0   \n",
              "2                            0                     0   \n",
              "3                            1                     0   \n",
              "4                            0                     0   \n",
              "..                         ...                   ...   \n",
              "805                          0                     0   \n",
              "806                          0                     0   \n",
              "807                          0                     1   \n",
              "808                          0                     0   \n",
              "809                          0                     0   \n",
              "\n",
              "     CouncilArea_Port Phillip  CouncilArea_Stonnington  \\\n",
              "0                           0                        0   \n",
              "1                           0                        0   \n",
              "2                           0                        0   \n",
              "3                           0                        0   \n",
              "4                           0                        0   \n",
              "..                        ...                      ...   \n",
              "805                         0                        0   \n",
              "806                         0                        0   \n",
              "807                         0                        0   \n",
              "808                         0                        0   \n",
              "809                         0                        0   \n",
              "\n",
              "     CouncilArea_Whitehorse  CouncilArea_Wyndham  CouncilArea_Yarra  \n",
              "0                         0                    0                  0  \n",
              "1                         0                    0                  0  \n",
              "2                         0                    0                  0  \n",
              "3                         0                    0                  0  \n",
              "4                         0                    0                  0  \n",
              "..                      ...                  ...                ...  \n",
              "805                       0                    0                  0  \n",
              "806                       0                    0                  1  \n",
              "807                       0                    0                  0  \n",
              "808                       0                    0                  0  \n",
              "809                       0                    0                  0  \n",
              "\n",
              "[810 rows x 30 columns]"
            ]
          },
          "execution_count": 5,
          "metadata": {},
          "output_type": "execute_result"
        }
      ],
      "source": [
        "df_X = pd.get_dummies(df_X, columns=['CouncilArea'])\n",
        "df_X"
      ]
    },
    {
      "cell_type": "code",
      "execution_count": null,
      "metadata": {
        "colab": {
          "base_uri": "https://localhost:8080/"
        },
        "id": "b9Cpv88u6U-q",
        "outputId": "b0a15305-b442-466b-b4eb-9818ec20b1e2"
      },
      "outputs": [
        {
          "data": {
            "text/plain": [
              "0    t\n",
              "1    t\n",
              "2    u\n",
              "3    h\n",
              "4    u\n",
              "Name: Type, dtype: object"
            ]
          },
          "execution_count": 6,
          "metadata": {},
          "output_type": "execute_result"
        }
      ],
      "source": [
        "s_y.head()"
      ]
    },
    {
      "cell_type": "code",
      "execution_count": null,
      "metadata": {
        "colab": {
          "base_uri": "https://localhost:8080/"
        },
        "id": "twPeK_r26TGA",
        "outputId": "6ba12a31-0a78-4846-cfcf-df5c41612aed"
      },
      "outputs": [
        {
          "name": "stdout",
          "output_type": "stream",
          "text": [
            "Shape of df_X: (810, 30)\n",
            "Shape of s_y: (810,)\n"
          ]
        }
      ],
      "source": [
        "# Check the shapes of the dataframes\n",
        "print(\"Shape of df_X:\", df_X.shape)\n",
        "print(\"Shape of s_y:\", s_y.shape)"
      ]
    },
    {
      "cell_type": "markdown",
      "metadata": {
        "id": "OBhSoBUYrmyq"
      },
      "source": [
        "## Q2 Implement a function to calculate entropy\n",
        "Implement a function `calc_entropy` that takes the the class label series, `s_y`, as a parameter. Implement using the definition on p128 in the DM book and only use pandas and log2 libraries"
      ]
    },
    {
      "cell_type": "code",
      "execution_count": null,
      "metadata": {
        "id": "Yv5e5k0Lrmyr"
      },
      "outputs": [],
      "source": [
        "# calc_entropy(s_y) definition\n",
        "def calc_entropy(s_y):\n",
        "    # Count the number of occurrences of each class label\n",
        "    counts = s_y.value_counts()\n",
        "    total = len(s_y)\n",
        "    entropy = 0\n",
        "\n",
        "    # Calculate the entropy for each class label\n",
        "    for count in counts:\n",
        "        p = count / total\n",
        "        entropy -= p * np.log2(p)\n",
        "\n",
        "    return entropy"
      ]
    },
    {
      "cell_type": "markdown",
      "metadata": {
        "id": "MLp2bn0Xrmyr"
      },
      "source": [
        "## Q3 Use the entropy function to\n",
        "  - (a) Calculate the entropy of the entire training set\n",
        "  - (b) Calculate the entropy of the three partitions formed from the following three intervals:\n",
        "\n",
        "(i) Landsize $\\in [0,200]$\n",
        "\n",
        "(ii) Landsize $\\in (200,450]$\n",
        "\n",
        "(iii) Landsize $\\in (450, \\infty)$"
      ]
    },
    {
      "cell_type": "code",
      "execution_count": null,
      "metadata": {
        "colab": {
          "base_uri": "https://localhost:8080/"
        },
        "id": "VXttKnTirmyr",
        "outputId": "8784e136-b0a8-4652-f54f-b228f796f601"
      },
      "outputs": [
        {
          "data": {
            "text/plain": [
              "1.582533311426178"
            ]
          },
          "execution_count": 9,
          "metadata": {},
          "output_type": "execute_result"
        }
      ],
      "source": [
        "# The entire data set\n",
        "entropy_total = calc_entropy(s_y)\n",
        "entropy_total"
      ]
    },
    {
      "cell_type": "code",
      "execution_count": null,
      "metadata": {
        "colab": {
          "base_uri": "https://localhost:8080/"
        },
        "id": "qEm2Nbuxrmys",
        "outputId": "fde44a5d-6147-4373-999a-62aa721a8ba4"
      },
      "outputs": [
        {
          "data": {
            "text/plain": [
              "1.3456432116206725"
            ]
          },
          "execution_count": 10,
          "metadata": {},
          "output_type": "execute_result"
        }
      ],
      "source": [
        "# Less than or equal to 200\n",
        "mask1 = (df_X[\"Landsize\"] <= 200)\n",
        "entropy1 = calc_entropy(s_y[mask1])\n",
        "entropy1"
      ]
    },
    {
      "cell_type": "code",
      "execution_count": null,
      "metadata": {
        "colab": {
          "base_uri": "https://localhost:8080/"
        },
        "id": "grNiOkRgrmys",
        "outputId": "05650696-50c0-4023-883d-a212063cc1b9"
      },
      "outputs": [
        {
          "data": {
            "text/plain": [
              "1.4660501816027975"
            ]
          },
          "execution_count": 11,
          "metadata": {},
          "output_type": "execute_result"
        }
      ],
      "source": [
        "# Between 200 and 450\n",
        "mask2 = ((df_X[\"Landsize\"] > 200) & (df_X[\"Landsize\"] <= 450))\n",
        "entropy2 = calc_entropy(s_y[mask2])\n",
        "entropy2"
      ]
    },
    {
      "cell_type": "code",
      "execution_count": null,
      "metadata": {
        "colab": {
          "base_uri": "https://localhost:8080/"
        },
        "id": "hRHOSY7Brmys",
        "outputId": "1f2b06b1-af10-45b4-a654-ff6b8b82a41a"
      },
      "outputs": [
        {
          "data": {
            "text/plain": [
              "1.09954792005911"
            ]
          },
          "execution_count": 12,
          "metadata": {},
          "output_type": "execute_result"
        }
      ],
      "source": [
        "# greater than 450\n",
        "mask3 = (df_X[\"Landsize\"] > 450)\n",
        "entropy3 = calc_entropy(s_y[mask3])\n",
        "entropy3"
      ]
    },
    {
      "cell_type": "markdown",
      "metadata": {
        "id": "3STCrFxqrmys"
      },
      "source": [
        "## Q4 Implement a function to calculate the Gini Index\n",
        "Implement the function `calc_gini` that takes the class label series, `s_y`, as a parameter. Implement using the definition on p128 in the DM book and only use the pandas library."
      ]
    },
    {
      "cell_type": "code",
      "execution_count": null,
      "metadata": {
        "id": "9HWZHo9_rmyt"
      },
      "outputs": [],
      "source": [
        "def calc_gini( s_y ):\n",
        "      # Count the number of occurrences of each class label\n",
        "    counts = s_y.value_counts()\n",
        "    total = len(s_y)\n",
        "    gini = 1\n",
        "\n",
        "    # Calculate the Gini index for each class label\n",
        "    for count in counts:\n",
        "        p = count / total\n",
        "        gini -= p**2\n",
        "\n",
        "    return gini"
      ]
    },
    {
      "cell_type": "markdown",
      "metadata": {
        "id": "4oxrseZZrmyt"
      },
      "source": [
        "## Q5 Use the Gini Index function to\n",
        "  - (a) Calculate the Gini index of the entire training set\n",
        "  - (b) Calculate the Gini index of the three partitions formed from the following three intervals:\n",
        "\n",
        "(i) Landsize $\\in [0,200]$\n",
        "\n",
        "(ii) Landsize $\\in (200,450]$\n",
        "\n",
        "(iii) Landsize $\\in (450, \\infty)$"
      ]
    },
    {
      "cell_type": "code",
      "execution_count": null,
      "metadata": {
        "colab": {
          "base_uri": "https://localhost:8080/"
        },
        "id": "hSc2RRtHrmyt",
        "outputId": "a5cf555f-ac97-4101-952b-8e05d50cef6f"
      },
      "outputs": [
        {
          "data": {
            "text/plain": [
              "0.6655601280292637"
            ]
          },
          "execution_count": 14,
          "metadata": {},
          "output_type": "execute_result"
        }
      ],
      "source": [
        "# The entire data set\n",
        "gini_total = calc_gini(s_y)\n",
        "gini_total"
      ]
    },
    {
      "cell_type": "code",
      "execution_count": null,
      "metadata": {
        "colab": {
          "base_uri": "https://localhost:8080/"
        },
        "id": "M0fGwiMurmyt",
        "outputId": "8758d26c-1f82-4b36-af1d-b811f29a4ca3"
      },
      "outputs": [
        {
          "data": {
            "text/plain": [
              "0.5741211482422965"
            ]
          },
          "execution_count": 15,
          "metadata": {},
          "output_type": "execute_result"
        }
      ],
      "source": [
        "# Less than or equal to 200\n",
        "# mask1 = (df_X[\"Landsize\"] <= 200)\n",
        "gini1 = calc_gini(s_y[mask1])\n",
        "gini1"
      ]
    },
    {
      "cell_type": "code",
      "execution_count": null,
      "metadata": {
        "colab": {
          "base_uri": "https://localhost:8080/"
        },
        "id": "Fik-UAdErmyu",
        "outputId": "8e9777b1-99d9-4552-d275-e3ed3d016032"
      },
      "outputs": [
        {
          "data": {
            "text/plain": [
              "0.6101021682602731"
            ]
          },
          "execution_count": 16,
          "metadata": {},
          "output_type": "execute_result"
        }
      ],
      "source": [
        "# Between 200 and 450\n",
        "# mask2 = ((df_X[\"Landsize\"] > 200) & (df_X[\"Landsize\"] <= 450))\n",
        "gini2 = calc_gini(s_y[mask2])\n",
        "gini2"
      ]
    },
    {
      "cell_type": "code",
      "execution_count": null,
      "metadata": {
        "colab": {
          "base_uri": "https://localhost:8080/"
        },
        "id": "wFRETURErmyu",
        "outputId": "f1cf7bd5-7ed1-49f7-bbf7-37e0f510d947"
      },
      "outputs": [
        {
          "data": {
            "text/plain": [
              "0.4381934171597633"
            ]
          },
          "execution_count": 17,
          "metadata": {},
          "output_type": "execute_result"
        }
      ],
      "source": [
        "# greater than 450\n",
        "# mask3 = (df_X[\"Landsize\"] > 450)\n",
        "gini3 = calc_gini(s_y[mask3])\n",
        "gini3"
      ]
    },
    {
      "cell_type": "markdown",
      "metadata": {
        "id": "-nM6TlZvrmyu"
      },
      "source": [
        "## Q6 Create a decision tree\n",
        "Using [scikit-learn](https://scikit-learn.org/stable/modules/tree.html#tree) create a multi class classifer for the data set using the Entropy impurity measure and a max depth of 3.\n",
        "\n",
        "Note that scikit-learn's algorithm doesn't handle categorical data, so that needs to be preprocessed using an one hot encoding.\n",
        "\n",
        "Display the tree using `export_text` from sklearn.tree, and use that information to write some descriptive analytics on the classification of houses.  For extra fun, use the export_graphviz to draw the graph (see documentation on the [scikit-learn webpage](https://scikit-learn.org/stable/modules/tree.html#classification))."
      ]
    },
    {
      "cell_type": "code",
      "execution_count": null,
      "metadata": {
        "id": "IT9oxFhUrmyu"
      },
      "outputs": [],
      "source": [
        "# Create Tree\n",
        "\n",
        "clf = tree.DecisionTreeClassifier(criterion='entropy', max_depth=3)\n",
        "clf = clf.fit(df_X, s_y)\n"
      ]
    },
    {
      "cell_type": "code",
      "execution_count": null,
      "metadata": {
        "colab": {
          "base_uri": "https://localhost:8080/",
          "height": 87
        },
        "id": "ZeXj95cSrmyv",
        "outputId": "29c772f0-6b0b-48fc-ffd4-b5616c52e8a4"
      },
      "outputs": [
        {
          "data": {
            "text/plain": [
              "'|--- feature_8 <= 1977.50\\n|   |--- feature_0 <= 2.50\\n|   |   |--- feature_1 <= 915000.00\\n|   |   |   |--- class: u\\n|   |   |--- feature_1 >  915000.00\\n|   |   |   |--- class: h\\n|   |--- feature_0 >  2.50\\n|   |   |--- feature_6 <= 429.00\\n|   |   |   |--- class: h\\n|   |   |--- feature_6 >  429.00\\n|   |   |   |--- class: h\\n|--- feature_8 >  1977.50\\n|   |--- feature_7 <= 104.31\\n|   |   |--- feature_6 <= 76.00\\n|   |   |   |--- class: u\\n|   |   |--- feature_6 >  76.00\\n|   |   |   |--- class: t\\n|   |--- feature_7 >  104.31\\n|   |   |--- feature_6 <= 391.00\\n|   |   |   |--- class: t\\n|   |   |--- feature_6 >  391.00\\n|   |   |   |--- class: h\\n'"
            ]
          },
          "execution_count": 19,
          "metadata": {},
          "output_type": "execute_result"
        }
      ],
      "source": [
        "# Display text version of the tree\n",
        "tree.export_text(clf)"
      ]
    },
    {
      "cell_type": "code",
      "execution_count": null,
      "metadata": {
        "colab": {
          "base_uri": "https://localhost:8080/",
          "height": 519
        },
        "id": "XFaREA6Frmyv",
        "outputId": "d2d4dd55-8875-40ac-a3e1-3a691c9ab958"
      },
      "outputs": [
        {
          "data": {
            "image/svg+xml": [
              "<?xml version=\"1.0\" encoding=\"UTF-8\" standalone=\"no\"?>\n",
              "<!DOCTYPE svg PUBLIC \"-//W3C//DTD SVG 1.1//EN\"\n",
              " \"http://www.w3.org/Graphics/SVG/1.1/DTD/svg11.dtd\">\n",
              "<!-- Generated by graphviz version 7.1.0 (20230121.1956)\n",
              " -->\n",
              "<!-- Title: Tree Pages: 1 -->\n",
              "<svg width=\"1142pt\" height=\"373pt\"\n",
              " viewBox=\"0.00 0.00 1142.00 373.00\" xmlns=\"http://www.w3.org/2000/svg\" xmlns:xlink=\"http://www.w3.org/1999/xlink\">\n",
              "<g id=\"graph0\" class=\"graph\" transform=\"scale(1 1) rotate(0) translate(4 369)\">\n",
              "<title>Tree</title>\n",
              "<polygon fill=\"white\" stroke=\"none\" points=\"-4,4 -4,-369 1138,-369 1138,4 -4,4\"/>\n",
              "<!-- 0 -->\n",
              "<g id=\"node1\" class=\"node\">\n",
              "<title>0</title>\n",
              "<polygon fill=\"none\" stroke=\"black\" points=\"625,-365 470,-365 470,-297 625,-297 625,-365\"/>\n",
              "<text text-anchor=\"middle\" x=\"547.5\" y=\"-349.8\" font-family=\"Helvetica,sans-Serif\" font-size=\"14.00\">x[8] &lt;= 1977.5</text>\n",
              "<text text-anchor=\"middle\" x=\"547.5\" y=\"-334.8\" font-family=\"Helvetica,sans-Serif\" font-size=\"14.00\">entropy = 1.583</text>\n",
              "<text text-anchor=\"middle\" x=\"547.5\" y=\"-319.8\" font-family=\"Helvetica,sans-Serif\" font-size=\"14.00\">samples = 810</text>\n",
              "<text text-anchor=\"middle\" x=\"547.5\" y=\"-304.8\" font-family=\"Helvetica,sans-Serif\" font-size=\"14.00\">value = [248, 281, 281]</text>\n",
              "</g>\n",
              "<!-- 1 -->\n",
              "<g id=\"node2\" class=\"node\">\n",
              "<title>1</title>\n",
              "<polygon fill=\"none\" stroke=\"black\" points=\"486,-261 339,-261 339,-193 486,-193 486,-261\"/>\n",
              "<text text-anchor=\"middle\" x=\"412.5\" y=\"-245.8\" font-family=\"Helvetica,sans-Serif\" font-size=\"14.00\">x[0] &lt;= 2.5</text>\n",
              "<text text-anchor=\"middle\" x=\"412.5\" y=\"-230.8\" font-family=\"Helvetica,sans-Serif\" font-size=\"14.00\">entropy = 1.264</text>\n",
              "<text text-anchor=\"middle\" x=\"412.5\" y=\"-215.8\" font-family=\"Helvetica,sans-Serif\" font-size=\"14.00\">samples = 370</text>\n",
              "<text text-anchor=\"middle\" x=\"412.5\" y=\"-200.8\" font-family=\"Helvetica,sans-Serif\" font-size=\"14.00\">value = [194, 23, 153]</text>\n",
              "</g>\n",
              "<!-- 0&#45;&gt;1 -->\n",
              "<g id=\"edge1\" class=\"edge\">\n",
              "<title>0&#45;&gt;1</title>\n",
              "<path fill=\"none\" stroke=\"black\" d=\"M503.3,-296.6C491.29,-287.53 478.17,-277.61 465.72,-268.21\"/>\n",
              "<polygon fill=\"black\" stroke=\"black\" points=\"468.1,-265.62 458.01,-262.39 463.88,-271.21 468.1,-265.62\"/>\n",
              "<text text-anchor=\"middle\" x=\"460.25\" y=\"-282.53\" font-family=\"Helvetica,sans-Serif\" font-size=\"14.00\">True</text>\n",
              "</g>\n",
              "<!-- 8 -->\n",
              "<g id=\"node9\" class=\"node\">\n",
              "<title>8</title>\n",
              "<polygon fill=\"none\" stroke=\"black\" points=\"773,-261 626,-261 626,-193 773,-193 773,-261\"/>\n",
              "<text text-anchor=\"middle\" x=\"699.5\" y=\"-245.8\" font-family=\"Helvetica,sans-Serif\" font-size=\"14.00\">x[7] &lt;= 104.315</text>\n",
              "<text text-anchor=\"middle\" x=\"699.5\" y=\"-230.8\" font-family=\"Helvetica,sans-Serif\" font-size=\"14.00\">entropy = 1.341</text>\n",
              "<text text-anchor=\"middle\" x=\"699.5\" y=\"-215.8\" font-family=\"Helvetica,sans-Serif\" font-size=\"14.00\">samples = 440</text>\n",
              "<text text-anchor=\"middle\" x=\"699.5\" y=\"-200.8\" font-family=\"Helvetica,sans-Serif\" font-size=\"14.00\">value = [54, 258, 128]</text>\n",
              "</g>\n",
              "<!-- 0&#45;&gt;8 -->\n",
              "<g id=\"edge8\" class=\"edge\">\n",
              "<title>0&#45;&gt;8</title>\n",
              "<path fill=\"none\" stroke=\"black\" d=\"M597.27,-296.6C611.05,-287.36 626.14,-277.23 640.39,-267.66\"/>\n",
              "<polygon fill=\"black\" stroke=\"black\" points=\"642.01,-270.8 648.36,-262.32 638.11,-264.98 642.01,-270.8\"/>\n",
              "<text text-anchor=\"middle\" x=\"644.79\" y=\"-282.3\" font-family=\"Helvetica,sans-Serif\" font-size=\"14.00\">False</text>\n",
              "</g>\n",
              "<!-- 2 -->\n",
              "<g id=\"node3\" class=\"node\">\n",
              "<title>2</title>\n",
              "<polygon fill=\"none\" stroke=\"black\" points=\"271.5,-157 131.5,-157 131.5,-89 271.5,-89 271.5,-157\"/>\n",
              "<text text-anchor=\"middle\" x=\"201.5\" y=\"-141.8\" font-family=\"Helvetica,sans-Serif\" font-size=\"14.00\">x[1] &lt;= 915000.0</text>\n",
              "<text text-anchor=\"middle\" x=\"201.5\" y=\"-126.8\" font-family=\"Helvetica,sans-Serif\" font-size=\"14.00\">entropy = 0.974</text>\n",
              "<text text-anchor=\"middle\" x=\"201.5\" y=\"-111.8\" font-family=\"Helvetica,sans-Serif\" font-size=\"14.00\">samples = 182</text>\n",
              "<text text-anchor=\"middle\" x=\"201.5\" y=\"-96.8\" font-family=\"Helvetica,sans-Serif\" font-size=\"14.00\">value = [33, 10, 139]</text>\n",
              "</g>\n",
              "<!-- 1&#45;&gt;2 -->\n",
              "<g id=\"edge2\" class=\"edge\">\n",
              "<title>1&#45;&gt;2</title>\n",
              "<path fill=\"none\" stroke=\"black\" d=\"M343.41,-192.6C323.46,-182.96 301.54,-172.36 281.01,-162.44\"/>\n",
              "<polygon fill=\"black\" stroke=\"black\" points=\"282.63,-159.33 272.11,-158.13 279.59,-165.64 282.63,-159.33\"/>\n",
              "</g>\n",
              "<!-- 5 -->\n",
              "<g id=\"node6\" class=\"node\">\n",
              "<title>5</title>\n",
              "<polygon fill=\"none\" stroke=\"black\" points=\"482.5,-157 342.5,-157 342.5,-89 482.5,-89 482.5,-157\"/>\n",
              "<text text-anchor=\"middle\" x=\"412.5\" y=\"-141.8\" font-family=\"Helvetica,sans-Serif\" font-size=\"14.00\">x[6] &lt;= 429.0</text>\n",
              "<text text-anchor=\"middle\" x=\"412.5\" y=\"-126.8\" font-family=\"Helvetica,sans-Serif\" font-size=\"14.00\">entropy = 0.737</text>\n",
              "<text text-anchor=\"middle\" x=\"412.5\" y=\"-111.8\" font-family=\"Helvetica,sans-Serif\" font-size=\"14.00\">samples = 188</text>\n",
              "<text text-anchor=\"middle\" x=\"412.5\" y=\"-96.8\" font-family=\"Helvetica,sans-Serif\" font-size=\"14.00\">value = [161, 13, 14]</text>\n",
              "</g>\n",
              "<!-- 1&#45;&gt;5 -->\n",
              "<g id=\"edge5\" class=\"edge\">\n",
              "<title>1&#45;&gt;5</title>\n",
              "<path fill=\"none\" stroke=\"black\" d=\"M412.5,-192.6C412.5,-185.03 412.5,-176.87 412.5,-168.9\"/>\n",
              "<polygon fill=\"black\" stroke=\"black\" points=\"416,-168.99 412.5,-158.99 409,-168.99 416,-168.99\"/>\n",
              "</g>\n",
              "<!-- 3 -->\n",
              "<g id=\"node4\" class=\"node\">\n",
              "<title>3</title>\n",
              "<polygon fill=\"none\" stroke=\"black\" points=\"125,-53 0,-53 0,0 125,0 125,-53\"/>\n",
              "<text text-anchor=\"middle\" x=\"62.5\" y=\"-37.8\" font-family=\"Helvetica,sans-Serif\" font-size=\"14.00\">entropy = 0.595</text>\n",
              "<text text-anchor=\"middle\" x=\"62.5\" y=\"-22.8\" font-family=\"Helvetica,sans-Serif\" font-size=\"14.00\">samples = 150</text>\n",
              "<text text-anchor=\"middle\" x=\"62.5\" y=\"-7.8\" font-family=\"Helvetica,sans-Serif\" font-size=\"14.00\">value = [9, 7, 134]</text>\n",
              "</g>\n",
              "<!-- 2&#45;&gt;3 -->\n",
              "<g id=\"edge3\" class=\"edge\">\n",
              "<title>2&#45;&gt;3</title>\n",
              "<path fill=\"none\" stroke=\"black\" d=\"M152.49,-88.68C138.65,-79.27 123.61,-69.05 109.87,-59.7\"/>\n",
              "<polygon fill=\"black\" stroke=\"black\" points=\"112.08,-56.97 101.84,-54.24 108.14,-62.76 112.08,-56.97\"/>\n",
              "</g>\n",
              "<!-- 4 -->\n",
              "<g id=\"node5\" class=\"node\">\n",
              "<title>4</title>\n",
              "<polygon fill=\"none\" stroke=\"black\" points=\"260,-53 143,-53 143,0 260,0 260,-53\"/>\n",
              "<text text-anchor=\"middle\" x=\"201.5\" y=\"-37.8\" font-family=\"Helvetica,sans-Serif\" font-size=\"14.00\">entropy = 1.05</text>\n",
              "<text text-anchor=\"middle\" x=\"201.5\" y=\"-22.8\" font-family=\"Helvetica,sans-Serif\" font-size=\"14.00\">samples = 32</text>\n",
              "<text text-anchor=\"middle\" x=\"201.5\" y=\"-7.8\" font-family=\"Helvetica,sans-Serif\" font-size=\"14.00\">value = [24, 3, 5]</text>\n",
              "</g>\n",
              "<!-- 2&#45;&gt;4 -->\n",
              "<g id=\"edge4\" class=\"edge\">\n",
              "<title>2&#45;&gt;4</title>\n",
              "<path fill=\"none\" stroke=\"black\" d=\"M201.5,-88.68C201.5,-80.99 201.5,-72.76 201.5,-64.9\"/>\n",
              "<polygon fill=\"black\" stroke=\"black\" points=\"205,-64.91 201.5,-54.91 198,-64.91 205,-64.91\"/>\n",
              "</g>\n",
              "<!-- 6 -->\n",
              "<g id=\"node7\" class=\"node\">\n",
              "<title>6</title>\n",
              "<polygon fill=\"none\" stroke=\"black\" points=\"410.5,-53 278.5,-53 278.5,0 410.5,0 410.5,-53\"/>\n",
              "<text text-anchor=\"middle\" x=\"344.5\" y=\"-37.8\" font-family=\"Helvetica,sans-Serif\" font-size=\"14.00\">entropy = 1.22</text>\n",
              "<text text-anchor=\"middle\" x=\"344.5\" y=\"-22.8\" font-family=\"Helvetica,sans-Serif\" font-size=\"14.00\">samples = 69</text>\n",
              "<text text-anchor=\"middle\" x=\"344.5\" y=\"-7.8\" font-family=\"Helvetica,sans-Serif\" font-size=\"14.00\">value = [47, 10, 12]</text>\n",
              "</g>\n",
              "<!-- 5&#45;&gt;6 -->\n",
              "<g id=\"edge6\" class=\"edge\">\n",
              "<title>5&#45;&gt;6</title>\n",
              "<path fill=\"none\" stroke=\"black\" d=\"M388.53,-88.68C382.47,-80.27 375.95,-71.2 369.83,-62.7\"/>\n",
              "<polygon fill=\"black\" stroke=\"black\" points=\"372.7,-60.7 364.02,-54.62 367.02,-64.78 372.7,-60.7\"/>\n",
              "</g>\n",
              "<!-- 7 -->\n",
              "<g id=\"node8\" class=\"node\">\n",
              "<title>7</title>\n",
              "<polygon fill=\"none\" stroke=\"black\" points=\"554,-53 429,-53 429,0 554,0 554,-53\"/>\n",
              "<text text-anchor=\"middle\" x=\"491.5\" y=\"-37.8\" font-family=\"Helvetica,sans-Serif\" font-size=\"14.00\">entropy = 0.292</text>\n",
              "<text text-anchor=\"middle\" x=\"491.5\" y=\"-22.8\" font-family=\"Helvetica,sans-Serif\" font-size=\"14.00\">samples = 119</text>\n",
              "<text text-anchor=\"middle\" x=\"491.5\" y=\"-7.8\" font-family=\"Helvetica,sans-Serif\" font-size=\"14.00\">value = [114, 3, 2]</text>\n",
              "</g>\n",
              "<!-- 5&#45;&gt;7 -->\n",
              "<g id=\"edge7\" class=\"edge\">\n",
              "<title>5&#45;&gt;7</title>\n",
              "<path fill=\"none\" stroke=\"black\" d=\"M440.35,-88.68C447.54,-80.09 455.29,-70.81 462.54,-62.15\"/>\n",
              "<polygon fill=\"black\" stroke=\"black\" points=\"465.15,-64.47 468.88,-54.56 459.78,-59.98 465.15,-64.47\"/>\n",
              "</g>\n",
              "<!-- 9 -->\n",
              "<g id=\"node10\" class=\"node\">\n",
              "<title>9</title>\n",
              "<polygon fill=\"none\" stroke=\"black\" points=\"762,-157 637,-157 637,-89 762,-89 762,-157\"/>\n",
              "<text text-anchor=\"middle\" x=\"699.5\" y=\"-141.8\" font-family=\"Helvetica,sans-Serif\" font-size=\"14.00\">x[6] &lt;= 76.0</text>\n",
              "<text text-anchor=\"middle\" x=\"699.5\" y=\"-126.8\" font-family=\"Helvetica,sans-Serif\" font-size=\"14.00\">entropy = 1.118</text>\n",
              "<text text-anchor=\"middle\" x=\"699.5\" y=\"-111.8\" font-family=\"Helvetica,sans-Serif\" font-size=\"14.00\">samples = 145</text>\n",
              "<text text-anchor=\"middle\" x=\"699.5\" y=\"-96.8\" font-family=\"Helvetica,sans-Serif\" font-size=\"14.00\">value = [5, 49, 91]</text>\n",
              "</g>\n",
              "<!-- 8&#45;&gt;9 -->\n",
              "<g id=\"edge9\" class=\"edge\">\n",
              "<title>8&#45;&gt;9</title>\n",
              "<path fill=\"none\" stroke=\"black\" d=\"M699.5,-192.6C699.5,-185.03 699.5,-176.87 699.5,-168.9\"/>\n",
              "<polygon fill=\"black\" stroke=\"black\" points=\"703,-168.99 699.5,-158.99 696,-168.99 703,-168.99\"/>\n",
              "</g>\n",
              "<!-- 12 -->\n",
              "<g id=\"node13\" class=\"node\">\n",
              "<title>12</title>\n",
              "<polygon fill=\"none\" stroke=\"black\" points=\"990.5,-157 850.5,-157 850.5,-89 990.5,-89 990.5,-157\"/>\n",
              "<text text-anchor=\"middle\" x=\"920.5\" y=\"-141.8\" font-family=\"Helvetica,sans-Serif\" font-size=\"14.00\">x[6] &lt;= 391.0</text>\n",
              "<text text-anchor=\"middle\" x=\"920.5\" y=\"-126.8\" font-family=\"Helvetica,sans-Serif\" font-size=\"14.00\">entropy = 1.158</text>\n",
              "<text text-anchor=\"middle\" x=\"920.5\" y=\"-111.8\" font-family=\"Helvetica,sans-Serif\" font-size=\"14.00\">samples = 295</text>\n",
              "<text text-anchor=\"middle\" x=\"920.5\" y=\"-96.8\" font-family=\"Helvetica,sans-Serif\" font-size=\"14.00\">value = [49, 209, 37]</text>\n",
              "</g>\n",
              "<!-- 8&#45;&gt;12 -->\n",
              "<g id=\"edge12\" class=\"edge\">\n",
              "<title>8&#45;&gt;12</title>\n",
              "<path fill=\"none\" stroke=\"black\" d=\"M771.86,-192.6C793.6,-182.57 817.58,-171.5 839.81,-161.24\"/>\n",
              "<polygon fill=\"black\" stroke=\"black\" points=\"841.25,-164.43 848.86,-157.07 838.31,-158.08 841.25,-164.43\"/>\n",
              "</g>\n",
              "<!-- 10 -->\n",
              "<g id=\"node11\" class=\"node\">\n",
              "<title>10</title>\n",
              "<polygon fill=\"none\" stroke=\"black\" points=\"689,-53 572,-53 572,0 689,0 689,-53\"/>\n",
              "<text text-anchor=\"middle\" x=\"630.5\" y=\"-37.8\" font-family=\"Helvetica,sans-Serif\" font-size=\"14.00\">entropy = 0.523</text>\n",
              "<text text-anchor=\"middle\" x=\"630.5\" y=\"-22.8\" font-family=\"Helvetica,sans-Serif\" font-size=\"14.00\">samples = 68</text>\n",
              "<text text-anchor=\"middle\" x=\"630.5\" y=\"-7.8\" font-family=\"Helvetica,sans-Serif\" font-size=\"14.00\">value = [0, 8, 60]</text>\n",
              "</g>\n",
              "<!-- 9&#45;&gt;10 -->\n",
              "<g id=\"edge10\" class=\"edge\">\n",
              "<title>9&#45;&gt;10</title>\n",
              "<path fill=\"none\" stroke=\"black\" d=\"M675.17,-88.68C668.96,-80.18 662.27,-71.01 656,-62.42\"/>\n",
              "<polygon fill=\"black\" stroke=\"black\" points=\"659.02,-60.63 650.3,-54.62 653.37,-64.76 659.02,-60.63\"/>\n",
              "</g>\n",
              "<!-- 11 -->\n",
              "<g id=\"node12\" class=\"node\">\n",
              "<title>11</title>\n",
              "<polygon fill=\"none\" stroke=\"black\" points=\"832,-53 707,-53 707,0 832,0 832,-53\"/>\n",
              "<text text-anchor=\"middle\" x=\"769.5\" y=\"-37.8\" font-family=\"Helvetica,sans-Serif\" font-size=\"14.00\">entropy = 1.269</text>\n",
              "<text text-anchor=\"middle\" x=\"769.5\" y=\"-22.8\" font-family=\"Helvetica,sans-Serif\" font-size=\"14.00\">samples = 77</text>\n",
              "<text text-anchor=\"middle\" x=\"769.5\" y=\"-7.8\" font-family=\"Helvetica,sans-Serif\" font-size=\"14.00\">value = [5, 41, 31]</text>\n",
              "</g>\n",
              "<!-- 9&#45;&gt;11 -->\n",
              "<g id=\"edge11\" class=\"edge\">\n",
              "<title>9&#45;&gt;11</title>\n",
              "<path fill=\"none\" stroke=\"black\" d=\"M724.18,-88.68C730.48,-80.18 737.27,-71.01 743.63,-62.42\"/>\n",
              "<polygon fill=\"black\" stroke=\"black\" points=\"746.28,-64.73 749.42,-54.61 740.65,-60.56 746.28,-64.73\"/>\n",
              "</g>\n",
              "<!-- 13 -->\n",
              "<g id=\"node14\" class=\"node\">\n",
              "<title>13</title>\n",
              "<polygon fill=\"none\" stroke=\"black\" points=\"990.5,-53 850.5,-53 850.5,0 990.5,0 990.5,-53\"/>\n",
              "<text text-anchor=\"middle\" x=\"920.5\" y=\"-37.8\" font-family=\"Helvetica,sans-Serif\" font-size=\"14.00\">entropy = 0.933</text>\n",
              "<text text-anchor=\"middle\" x=\"920.5\" y=\"-22.8\" font-family=\"Helvetica,sans-Serif\" font-size=\"14.00\">samples = 245</text>\n",
              "<text text-anchor=\"middle\" x=\"920.5\" y=\"-7.8\" font-family=\"Helvetica,sans-Serif\" font-size=\"14.00\">value = [18, 194, 33]</text>\n",
              "</g>\n",
              "<!-- 12&#45;&gt;13 -->\n",
              "<g id=\"edge13\" class=\"edge\">\n",
              "<title>12&#45;&gt;13</title>\n",
              "<path fill=\"none\" stroke=\"black\" d=\"M920.5,-88.68C920.5,-80.99 920.5,-72.76 920.5,-64.9\"/>\n",
              "<polygon fill=\"black\" stroke=\"black\" points=\"924,-64.91 920.5,-54.91 917,-64.91 924,-64.91\"/>\n",
              "</g>\n",
              "<!-- 14 -->\n",
              "<g id=\"node15\" class=\"node\">\n",
              "<title>14</title>\n",
              "<polygon fill=\"none\" stroke=\"black\" points=\"1134,-53 1009,-53 1009,0 1134,0 1134,-53\"/>\n",
              "<text text-anchor=\"middle\" x=\"1071.5\" y=\"-37.8\" font-family=\"Helvetica,sans-Serif\" font-size=\"14.00\">entropy = 1.24</text>\n",
              "<text text-anchor=\"middle\" x=\"1071.5\" y=\"-22.8\" font-family=\"Helvetica,sans-Serif\" font-size=\"14.00\">samples = 50</text>\n",
              "<text text-anchor=\"middle\" x=\"1071.5\" y=\"-7.8\" font-family=\"Helvetica,sans-Serif\" font-size=\"14.00\">value = [31, 15, 4]</text>\n",
              "</g>\n",
              "<!-- 12&#45;&gt;14 -->\n",
              "<g id=\"edge14\" class=\"edge\">\n",
              "<title>12&#45;&gt;14</title>\n",
              "<path fill=\"none\" stroke=\"black\" d=\"M973.74,-88.68C988.92,-79.18 1005.42,-68.85 1020.47,-59.43\"/>\n",
              "<polygon fill=\"black\" stroke=\"black\" points=\"1022.22,-62.47 1028.84,-54.2 1018.51,-56.53 1022.22,-62.47\"/>\n",
              "</g>\n",
              "</g>\n",
              "</svg>\n"
            ],
            "text/plain": [
              "<graphviz.sources.Source at 0x16aa8a410>"
            ]
          },
          "execution_count": 20,
          "metadata": {},
          "output_type": "execute_result"
        }
      ],
      "source": [
        "# Display graphviz version of the tree\n",
        "dot_data = tree.export_graphviz(clf, out_file=None)\n",
        "\n",
        "graph = graphviz.Source(dot_data)\n",
        "graph"
      ]
    },
    {
      "cell_type": "markdown",
      "metadata": {
        "id": "UtkL3I7Irmyv"
      },
      "source": [
        "**➡️** Answer containing your descriptive analytics in markdown here ⬅️\n",
        "\n",
        "* The first split tests the 8th feature (YearBuilt), comparing it to a threshold of 1977.5. If the value of YearBuilt is less than or equal to the threshold, the data is divided into two groups based on the second split, which tests the 0th feature (Rooms), comparing it to a threshold of 2.5. If the value of Rooms is less than or equal to the threshold, the data is divided into two groups based on the third split, which tests the 1st feature (Price), comparing it to a threshold of 915000. If the value of Price is less than or equal to the threshold, the class is predicted as 'u' (unknown), otherwise, it is predicted as 'h' (house).\n",
        "\n",
        "* If the value of Rooms is greater than the threshold, the data is divided into two groups based on the third split, which tests the 6th feature (Distance), comparing it to a threshold of 429. If the value of Distance is less than or equal to the threshold, the class is predicted as 'h' (house), otherwise, it is predicted as 't' (townhouse).\n",
        "\n",
        "* If the value of YearBuilt is greater than the threshold, the data is divided into two groups based on the second split, which tests the 7th feature (BuildingArea), comparing it to a threshold of 104.31. If the value of BuildingArea is less than or equal to the threshold, the data is divided into two groups based on the third split, which tests the 6th feature (Distance), comparing it to a threshold of 76. If the value of Distance is less than or equal to the threshold, the class is predicted as 'u' (unknown), otherwise, it is predicted as 't' (townhouse).\n",
        "\n",
        "* If the value of BuildingArea is greater than the threshold, the data is divided into two groups based on the third split, which tests the 6th feature (Distance), comparing it to a threshold of 391. If the value of Distance is less than or equal to the threshold, the class is predicted as 't' (townhouse), otherwise, it is predicted as 'h' (house).\n",
        "\n"
      ]
    },
    {
      "cell_type": "markdown",
      "metadata": {
        "id": "jw32op9grmyv"
      },
      "source": [
        "## Q7 Calculate the Accuracy and Display Learning Curve\n",
        "Load in the test data from melb_tree_test.csv.\n",
        "\n",
        "Use the scikit-learn library to create many decision trees, each one with a different configuration (aka Hyperparameters).  You will create 28 different trees by:\n",
        "\n",
        "    - Varying the max depth from 2 to 15 with the Gini Index as the impurity measure\n",
        "    - Varying the max depth from 2 to 15 with the Entropy as the impurity measure\n",
        "\n",
        "Implementation tip: you can create an array of numbers from 2 to 15 by using the numpy function [arange](https://numpy.org/doc/stable/reference/generated/numpy.arange.html).\n",
        "\n",
        "For each of the 28 decistion trees, calculate the error rate by using the data in the:\n",
        "  - Training set, and\n",
        "  - Test set.\n",
        "\n",
        "Display the results graphicaly, and offer an analysis of the trend (or if no trend present, offer a hypotheisis of why).  The max depth should be on the x-axis, and the error rate should be on the y-axis (see figure 3.23 in your DM textbook for a similar style of graph that uses leaf nodes instead of depth for the x-axis). Your plot will include 4 series of data\n",
        "   - Test error (entropy)\n",
        "   - Test error (gini index)\n",
        "   - Training error (entropy)\n",
        "   - Training error (gini index)"
      ]
    },
    {
      "cell_type": "code",
      "execution_count": null,
      "metadata": {
        "colab": {
          "base_uri": "https://localhost:8080/",
          "height": 317
        },
        "id": "6Y7YProxrmyw",
        "outputId": "d47ceb5f-619e-41cb-ad2c-0fe1d96e32dc"
      },
      "outputs": [
        {
          "data": {
            "text/html": [
              "<div>\n",
              "<style scoped>\n",
              "    .dataframe tbody tr th:only-of-type {\n",
              "        vertical-align: middle;\n",
              "    }\n",
              "\n",
              "    .dataframe tbody tr th {\n",
              "        vertical-align: top;\n",
              "    }\n",
              "\n",
              "    .dataframe thead th {\n",
              "        text-align: right;\n",
              "    }\n",
              "</style>\n",
              "<table border=\"1\" class=\"dataframe\">\n",
              "  <thead>\n",
              "    <tr style=\"text-align: right;\">\n",
              "      <th></th>\n",
              "      <th>Rooms</th>\n",
              "      <th>Price</th>\n",
              "      <th>Distance</th>\n",
              "      <th>Bedroom2</th>\n",
              "      <th>Bathroom</th>\n",
              "      <th>Car</th>\n",
              "      <th>Landsize</th>\n",
              "      <th>BuildingArea</th>\n",
              "      <th>YearBuilt</th>\n",
              "      <th>CouncilArea_Banyule</th>\n",
              "      <th>...</th>\n",
              "      <th>CouncilArea_Maribyrnong</th>\n",
              "      <th>CouncilArea_Melbourne</th>\n",
              "      <th>CouncilArea_Monash</th>\n",
              "      <th>CouncilArea_Moonee Valley</th>\n",
              "      <th>CouncilArea_Moreland</th>\n",
              "      <th>CouncilArea_Port Phillip</th>\n",
              "      <th>CouncilArea_Stonnington</th>\n",
              "      <th>CouncilArea_Whitehorse</th>\n",
              "      <th>CouncilArea_Wyndham</th>\n",
              "      <th>CouncilArea_Yarra</th>\n",
              "    </tr>\n",
              "  </thead>\n",
              "  <tbody>\n",
              "    <tr>\n",
              "      <th>0</th>\n",
              "      <td>2</td>\n",
              "      <td>930000.0</td>\n",
              "      <td>2.6</td>\n",
              "      <td>2.0</td>\n",
              "      <td>1.0</td>\n",
              "      <td>1.0</td>\n",
              "      <td>97.0</td>\n",
              "      <td>85.0</td>\n",
              "      <td>2004.0</td>\n",
              "      <td>0</td>\n",
              "      <td>...</td>\n",
              "      <td>0</td>\n",
              "      <td>0</td>\n",
              "      <td>0</td>\n",
              "      <td>0</td>\n",
              "      <td>0</td>\n",
              "      <td>0</td>\n",
              "      <td>0</td>\n",
              "      <td>0</td>\n",
              "      <td>0</td>\n",
              "      <td>1</td>\n",
              "    </tr>\n",
              "    <tr>\n",
              "      <th>1</th>\n",
              "      <td>3</td>\n",
              "      <td>815000.0</td>\n",
              "      <td>11.0</td>\n",
              "      <td>3.0</td>\n",
              "      <td>2.0</td>\n",
              "      <td>2.0</td>\n",
              "      <td>159.0</td>\n",
              "      <td>130.0</td>\n",
              "      <td>2014.0</td>\n",
              "      <td>0</td>\n",
              "      <td>...</td>\n",
              "      <td>0</td>\n",
              "      <td>0</td>\n",
              "      <td>0</td>\n",
              "      <td>0</td>\n",
              "      <td>0</td>\n",
              "      <td>0</td>\n",
              "      <td>0</td>\n",
              "      <td>0</td>\n",
              "      <td>0</td>\n",
              "      <td>0</td>\n",
              "    </tr>\n",
              "    <tr>\n",
              "      <th>2</th>\n",
              "      <td>4</td>\n",
              "      <td>638000.0</td>\n",
              "      <td>13.0</td>\n",
              "      <td>4.0</td>\n",
              "      <td>2.0</td>\n",
              "      <td>1.0</td>\n",
              "      <td>624.0</td>\n",
              "      <td>258.0</td>\n",
              "      <td>2005.0</td>\n",
              "      <td>0</td>\n",
              "      <td>...</td>\n",
              "      <td>0</td>\n",
              "      <td>0</td>\n",
              "      <td>0</td>\n",
              "      <td>0</td>\n",
              "      <td>1</td>\n",
              "      <td>0</td>\n",
              "      <td>0</td>\n",
              "      <td>0</td>\n",
              "      <td>0</td>\n",
              "      <td>0</td>\n",
              "    </tr>\n",
              "    <tr>\n",
              "      <th>3</th>\n",
              "      <td>2</td>\n",
              "      <td>595000.0</td>\n",
              "      <td>11.2</td>\n",
              "      <td>2.0</td>\n",
              "      <td>2.0</td>\n",
              "      <td>1.0</td>\n",
              "      <td>201.0</td>\n",
              "      <td>111.0</td>\n",
              "      <td>2005.0</td>\n",
              "      <td>0</td>\n",
              "      <td>...</td>\n",
              "      <td>0</td>\n",
              "      <td>0</td>\n",
              "      <td>0</td>\n",
              "      <td>0</td>\n",
              "      <td>1</td>\n",
              "      <td>0</td>\n",
              "      <td>0</td>\n",
              "      <td>0</td>\n",
              "      <td>0</td>\n",
              "      <td>0</td>\n",
              "    </tr>\n",
              "    <tr>\n",
              "      <th>4</th>\n",
              "      <td>3</td>\n",
              "      <td>620500.0</td>\n",
              "      <td>11.2</td>\n",
              "      <td>3.0</td>\n",
              "      <td>2.0</td>\n",
              "      <td>1.0</td>\n",
              "      <td>158.0</td>\n",
              "      <td>117.0</td>\n",
              "      <td>2011.0</td>\n",
              "      <td>0</td>\n",
              "      <td>...</td>\n",
              "      <td>0</td>\n",
              "      <td>0</td>\n",
              "      <td>0</td>\n",
              "      <td>0</td>\n",
              "      <td>0</td>\n",
              "      <td>0</td>\n",
              "      <td>0</td>\n",
              "      <td>0</td>\n",
              "      <td>0</td>\n",
              "      <td>0</td>\n",
              "    </tr>\n",
              "  </tbody>\n",
              "</table>\n",
              "<p>5 rows × 30 columns</p>\n",
              "</div>"
            ],
            "text/plain": [
              "   Rooms     Price  Distance  Bedroom2  Bathroom  Car  Landsize  BuildingArea  \\\n",
              "0      2  930000.0       2.6       2.0       1.0  1.0      97.0          85.0   \n",
              "1      3  815000.0      11.0       3.0       2.0  2.0     159.0         130.0   \n",
              "2      4  638000.0      13.0       4.0       2.0  1.0     624.0         258.0   \n",
              "3      2  595000.0      11.2       2.0       2.0  1.0     201.0         111.0   \n",
              "4      3  620500.0      11.2       3.0       2.0  1.0     158.0         117.0   \n",
              "\n",
              "   YearBuilt  CouncilArea_Banyule  ...  CouncilArea_Maribyrnong  \\\n",
              "0     2004.0                    0  ...                        0   \n",
              "1     2014.0                    0  ...                        0   \n",
              "2     2005.0                    0  ...                        0   \n",
              "3     2005.0                    0  ...                        0   \n",
              "4     2011.0                    0  ...                        0   \n",
              "\n",
              "   CouncilArea_Melbourne  CouncilArea_Monash  CouncilArea_Moonee Valley  \\\n",
              "0                      0                   0                          0   \n",
              "1                      0                   0                          0   \n",
              "2                      0                   0                          0   \n",
              "3                      0                   0                          0   \n",
              "4                      0                   0                          0   \n",
              "\n",
              "   CouncilArea_Moreland  CouncilArea_Port Phillip  CouncilArea_Stonnington  \\\n",
              "0                     0                         0                        0   \n",
              "1                     0                         0                        0   \n",
              "2                     1                         0                        0   \n",
              "3                     1                         0                        0   \n",
              "4                     0                         0                        0   \n",
              "\n",
              "   CouncilArea_Whitehorse  CouncilArea_Wyndham  CouncilArea_Yarra  \n",
              "0                       0                    0                  1  \n",
              "1                       0                    0                  0  \n",
              "2                       0                    0                  0  \n",
              "3                       0                    0                  0  \n",
              "4                       0                    0                  0  \n",
              "\n",
              "[5 rows x 30 columns]"
            ]
          },
          "execution_count": 21,
          "metadata": {},
          "output_type": "execute_result"
        }
      ],
      "source": [
        "# Load in the test data\n",
        "df_X_test = df_test.drop(\"Type\", axis=1)\n",
        "s_y_test = df_test[\"Type\"]\n",
        "df_X_test = pd.get_dummies(df_X_test, columns=['CouncilArea'])\n",
        "df_X_test.head()\n"
      ]
    },
    {
      "cell_type": "code",
      "execution_count": null,
      "metadata": {
        "id": "Mn7Ocq2zrmyw"
      },
      "outputs": [],
      "source": [
        "# Build the trees using the training data\n",
        "from sklearn.metrics import accuracy_score\n",
        "\n",
        "# Define an array of max depths to test\n",
        "max_depths = np.arange(2, 16)\n",
        "\n",
        "# Define arrays to store error rates\n",
        "train_errors_entropy = []\n",
        "test_errors_entropy = []\n",
        "train_errors_gini = []\n",
        "test_errors_gini = []\n",
        "\n",
        "# Iterate over the max depths and calculate error rates\n",
        "for md in max_depths:\n",
        "    # Create decision trees with entropy and gini impurity measures\n",
        "    clf_entropy = tree.DecisionTreeClassifier(criterion='entropy', max_depth=md)\n",
        "    clf_gini = tree.DecisionTreeClassifier(criterion='gini', max_depth=md)\n",
        "\n",
        "    # Train the decision trees\n",
        "    clf_entropy = clf_entropy.fit(df_X, s_y)\n",
        "    clf_gini = clf_gini.fit(df_X, s_y)\n",
        "\n",
        "    # Make predictions for the training and test sets\n",
        "    s_y_train_pred_entropy = clf_entropy.predict(df_X)\n",
        "    s_y_train_pred_gini = clf_gini.predict(df_X)\n",
        "    s_y_test_pred_entropy = clf_entropy.predict(df_X_test)\n",
        "    s_y_test_pred_gini = clf_gini.predict(df_X_test)\n",
        "\n",
        "    # Calculate the error rates\n",
        "    train_error_entropy = 1 - accuracy_score(s_y, s_y_train_pred_entropy)\n",
        "    test_error_entropy = 1 - accuracy_score(s_y_test, s_y_test_pred_entropy)\n",
        "    train_error_gini = 1 - accuracy_score(s_y, s_y_train_pred_gini)\n",
        "    test_error_gini = 1 - accuracy_score(s_y_test, s_y_test_pred_gini)\n",
        "\n",
        "    # Add the error rates to the arrays\n",
        "    train_errors_entropy.append(train_error_entropy)\n",
        "    test_errors_entropy.append(test_error_entropy)\n",
        "    train_errors_gini.append(train_error_gini)\n",
        "    test_errors_gini.append(test_error_gini)\n",
        "\n",
        "\n",
        "\n",
        "\n"
      ]
    },
    {
      "cell_type": "code",
      "execution_count": null,
      "metadata": {
        "colab": {
          "base_uri": "https://localhost:8080/",
          "height": 279
        },
        "id": "E-z2Clf2rmyw",
        "outputId": "b1e2fc2c-370a-4c3b-bce5-b172fd760707"
      },
      "outputs": [
        {
          "data": {
            "image/png": "[encoded data removed]",
            "text/plain": [
              "<Figure size 640x480 with 1 Axes>"
            ]
          },
          "metadata": {},
          "output_type": "display_data"
        }
      ],
      "source": [
        "# Plot the 4 learning curves\n",
        "plt.plot(max_depths, train_errors_entropy, label='Training error (entropy)')\n",
        "plt.plot(max_depths, test_errors_entropy, label='Test error (entropy)')\n",
        "plt.plot(max_depths, train_errors_gini, label='Training error (gini)')\n",
        "plt.plot(max_depths, test_errors_gini, label='Test error (gini)')\n",
        "plt.xlabel('Max Depth')\n",
        "plt.ylabel('Error Rate')\n",
        "plt.legend()\n",
        "plt.show()"
      ]
    },
    {
      "cell_type": "markdown",
      "metadata": {
        "id": "sTT774qwrmyw"
      },
      "source": [
        "➡️ Answer containing your analysis of the trend (or if no trend present, offer a hypotheisis of why) here ⬅️\n",
        "\n",
        "* This will display a graph with the max depth on the x-axis and the error rate on the y-axis. There will be four lines, representing the test and training error rates for both the entropy and gini impurity measures.\n",
        "\n",
        "* The learning curve shows that as the maximum depth increases, the training error rates decrease for both entropy and gini impurity measures. However, the test error rates for both measures increase as the maximum depth increases. This is likely due to overfitting, where the model is too complex and fits the training data too closely, causing it to perform poorly on new data.\n",
        "\n",
        "* In general, a simpler model with a lower maximum depth may perform better on new data than a more complex model with a higher maximum depth."
      ]
    },
    {
      "cell_type": "code",
      "execution_count": null,
      "metadata": {
        "id": "SsGlrgBrUSs-"
      },
      "outputs": [],
      "source": []
    }
  ],
  "metadata": {
    "colab": {
      "provenance": []
    },
    "kernelspec": {
      "display_name": "Python 3 (ipykernel)",
      "language": "python",
      "name": "python3"
    },
    "language_info": {
      "codemirror_mode": {
        "name": "ipython",
        "version": 3
      },
      "file_extension": ".py",
      "mimetype": "text/x-python",
      "name": "python",
      "nbconvert_exporter": "python",
      "pygments_lexer": "ipython3",
      "version": "3.11.1"
    }
  },
  "nbformat": 4,
  "nbformat_minor": 0
}
