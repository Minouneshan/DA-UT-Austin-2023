{
  "cells": [
    {
      "cell_type": "markdown",
      "metadata": {
        "id": "xfp9EBuQ5N7R"
      },
      "source": [
        "## C S 329E HW 9\n",
        "\n",
        "# Clustering with K-means \n",
        "\n",
        "## Fayed Nassor & Mohamad Minoneshan\n",
        "\n",
        "For this week's homework we are going explore our first clustering method:\n",
        "\n",
        "  - K-Means\n",
        "  \n",
        "As we discussed in lecture, k-means creates clusters based on a distance measure.  Using a small example data set, we will implement the algorithm and visualize the results.\n",
        "\n",
        "Even though the example data is small and 2 dimensional, write your helper functions to not assume a 2-D data set.  Your plotting code can reference the `x` and `y` column names from the sample data directly. \n",
        "\n",
        "Note that I have added a one or two lines of code to the questions to test your implementation. "
      ]
    },
    {
      "cell_type": "code",
      "execution_count": null,
      "metadata": {
        "id": "x2E-ZHJ75N7T"
      },
      "outputs": [],
      "source": [
        "# Do not import anything else\n",
        "import pandas as pd\n",
        "import matplotlib.pyplot as plt\n",
        "import numpy as np\n"
      ]
    },
    {
      "cell_type": "markdown",
      "metadata": {
        "id": "bMg_9JJ35N7U"
      },
      "source": [
        "# K-Means\n",
        "\n",
        "We will implement the Algorithm 7.1 \"Basic K-means\", and apply that algorithm to a small data set provided with the assignment in the `data_kmeans.csv` file. We will build up some helper functions along the way, test them, and put it all together to apply to our small example data set. "
      ]
    },
    {
      "cell_type": "code",
      "execution_count": null,
      "metadata": {
        "colab": {
          "base_uri": "https://localhost:8080/",
          "height": 206
        },
        "id": "JYk9uibt5N7U",
        "outputId": "5545b3ea-e19d-452a-e5ee-b3f39a274cf4"
      },
      "outputs": [
        {
          "data": {
            "text/html": [
              "<div>\n",
              "<style scoped>\n",
              "    .dataframe tbody tr th:only-of-type {\n",
              "        vertical-align: middle;\n",
              "    }\n",
              "\n",
              "    .dataframe tbody tr th {\n",
              "        vertical-align: top;\n",
              "    }\n",
              "\n",
              "    .dataframe thead th {\n",
              "        text-align: right;\n",
              "    }\n",
              "</style>\n",
              "<table border=\"1\" class=\"dataframe\">\n",
              "  <thead>\n",
              "    <tr style=\"text-align: right;\">\n",
              "      <th></th>\n",
              "      <th>x</th>\n",
              "      <th>y</th>\n",
              "    </tr>\n",
              "  </thead>\n",
              "  <tbody>\n",
              "    <tr>\n",
              "      <th>0</th>\n",
              "      <td>-0.731698</td>\n",
              "      <td>-0.874311</td>\n",
              "    </tr>\n",
              "    <tr>\n",
              "      <th>1</th>\n",
              "      <td>-0.547702</td>\n",
              "      <td>-0.580320</td>\n",
              "    </tr>\n",
              "    <tr>\n",
              "      <th>2</th>\n",
              "      <td>-0.762840</td>\n",
              "      <td>-0.885572</td>\n",
              "    </tr>\n",
              "    <tr>\n",
              "      <th>3</th>\n",
              "      <td>-0.340946</td>\n",
              "      <td>-0.810411</td>\n",
              "    </tr>\n",
              "    <tr>\n",
              "      <th>4</th>\n",
              "      <td>-0.749065</td>\n",
              "      <td>-0.399218</td>\n",
              "    </tr>\n",
              "  </tbody>\n",
              "</table>\n",
              "</div>"
            ],
            "text/plain": [
              "          x         y\n",
              "0 -0.731698 -0.874311\n",
              "1 -0.547702 -0.580320\n",
              "2 -0.762840 -0.885572\n",
              "3 -0.340946 -0.810411\n",
              "4 -0.749065 -0.399218"
            ]
          },
          "execution_count": 98,
          "metadata": {},
          "output_type": "execute_result"
        }
      ],
      "source": [
        "# loading in our toy data\n",
        "df_kmeans = pd.read_csv(\"https://gist.githubusercontent.com/TieJean/ff4dbd0022ab5e292db73d8b4910f551/raw/624db21e20faa92b79e5289ce4d9002e863b0d68/data_kmeans.csv\")\n",
        "df_kmeans.head()"
      ]
    },
    {
      "cell_type": "markdown",
      "metadata": {
        "id": "YfSdrXyW5N7U"
      },
      "source": [
        "## Q1 - Write a function that returns `k` random rows from a data frame\n",
        "\n",
        "To initialize the centroids, we pick `k` random points from a data frame.  Write a function `init_centroids( df_data, k )` that accepts two parameters: a data frame `df_data`, and an integer `k`, and returns the initial centroids for our k-means algorithm.  Note, we want the indices of the returned data frame to range from 0 - (k-1) so that we can use these as the centroid labels.  Use [pandas sample](https://pandas.pydata.org/pandas-docs/stable/reference/api/pandas.DataFrame.sample.html) method, and pass it the value of $42$ for `random_state`. "
      ]
    },
    {
      "cell_type": "code",
      "execution_count": null,
      "metadata": {
        "id": "59bP2rBV5N7U"
      },
      "outputs": [],
      "source": [
        "def init_centroids( df_data, k ):\n",
        "    # your code here\n",
        "    df_sample = df_data.sample(n = k, random_state = 42).reset_index(drop=True)\n",
        "    return df_sample\n",
        "\n"
      ]
    },
    {
      "cell_type": "code",
      "execution_count": null,
      "metadata": {
        "colab": {
          "base_uri": "https://localhost:8080/",
          "height": 269
        },
        "id": "eXssT6Td5N7U",
        "outputId": "f659ce04-c03d-4224-e245-107ccc4d7c6d"
      },
      "outputs": [
        {
          "data": {
            "text/html": [
              "<div>\n",
              "<style scoped>\n",
              "    .dataframe tbody tr th:only-of-type {\n",
              "        vertical-align: middle;\n",
              "    }\n",
              "\n",
              "    .dataframe tbody tr th {\n",
              "        vertical-align: top;\n",
              "    }\n",
              "\n",
              "    .dataframe thead th {\n",
              "        text-align: right;\n",
              "    }\n",
              "</style>\n",
              "<table border=\"1\" class=\"dataframe\">\n",
              "  <thead>\n",
              "    <tr style=\"text-align: right;\">\n",
              "      <th></th>\n",
              "      <th>x</th>\n",
              "      <th>y</th>\n",
              "    </tr>\n",
              "  </thead>\n",
              "  <tbody>\n",
              "    <tr>\n",
              "      <th>0</th>\n",
              "      <td>-0.633437</td>\n",
              "      <td>0.488756</td>\n",
              "    </tr>\n",
              "    <tr>\n",
              "      <th>1</th>\n",
              "      <td>-0.597736</td>\n",
              "      <td>0.632194</td>\n",
              "    </tr>\n",
              "    <tr>\n",
              "      <th>2</th>\n",
              "      <td>-0.635867</td>\n",
              "      <td>0.166613</td>\n",
              "    </tr>\n",
              "    <tr>\n",
              "      <th>3</th>\n",
              "      <td>-0.539351</td>\n",
              "      <td>-0.875532</td>\n",
              "    </tr>\n",
              "    <tr>\n",
              "      <th>4</th>\n",
              "      <td>-0.588597</td>\n",
              "      <td>0.293062</td>\n",
              "    </tr>\n",
              "    <tr>\n",
              "      <th>5</th>\n",
              "      <td>-0.127985</td>\n",
              "      <td>-0.136639</td>\n",
              "    </tr>\n",
              "    <tr>\n",
              "      <th>6</th>\n",
              "      <td>0.342579</td>\n",
              "      <td>0.211717</td>\n",
              "    </tr>\n",
              "  </tbody>\n",
              "</table>\n",
              "</div>"
            ],
            "text/plain": [
              "          x         y\n",
              "0 -0.633437  0.488756\n",
              "1 -0.597736  0.632194\n",
              "2 -0.635867  0.166613\n",
              "3 -0.539351 -0.875532\n",
              "4 -0.588597  0.293062\n",
              "5 -0.127985 -0.136639\n",
              "6  0.342579  0.211717"
            ]
          },
          "execution_count": 100,
          "metadata": {},
          "output_type": "execute_result"
        }
      ],
      "source": [
        "# Testing our init centroid function\n",
        "df_centroids = init_centroids( df_kmeans, 7 )\n",
        "df_centroids"
      ]
    },
    {
      "cell_type": "markdown",
      "metadata": {
        "id": "zx1H2xbp5N7V"
      },
      "source": [
        "## Q2 - Write a function to assign every row in a data frame to a centroid \n",
        "\n",
        "Write a function, `assign_to_centroid`, that accepts two parameters: a data frame, `df_data`, that represents our data to be clustered, and the data frame, `df_centroids`, which is of length `k` and contains the current centroids for our clusters.  The functions returns a series of the same length of `df_data` that contains the index of the closest centroid in `df_centroid`.  Use Euclidean distance as your distance measure. \n",
        "\n",
        "For example, if a row of data contained the data point $(100,123)$ and the three centroids were in a data frame that had the following information:\n",
        "\n",
        "  - Index 0 : (34,34)\n",
        "  - Index 1 : (0,1)\n",
        "  - Index 2 : (83,99)\n",
        "\n",
        "The `assign_to_centroid` function would assign the index $2$ to that row of data. "
      ]
    },
    {
      "cell_type": "code",
      "execution_count": null,
      "metadata": {
        "id": "eTAEOhoS5N7V"
      },
      "outputs": [],
      "source": [
        "def assign_to_centroid(df_data, df_centroids):\n",
        "    # create a new column for the centroid assignment\n",
        "    df_data['centroid_assignment'] = 0\n",
        "    \n",
        "    # loop over each data point\n",
        "    for i, row in df_data.iterrows():\n",
        "        # calculate distances to each centroid\n",
        "        distances = np.sqrt((row['x'] - df_centroids['x'])**2 + (row['y'] - df_centroids['y'])**2)\n",
        "        # assign the centroid with the minimum distance\n",
        "        df_data.at[i, 'centroid_assignment'] = np.argmin(distances)\n",
        "    #returns series of data, I also concatanated to make df easier to visualize cluster\n",
        "    return df_data['centroid_assignment']"
      ]
    },
    {
      "cell_type": "code",
      "execution_count": null,
      "metadata": {
        "colab": {
          "base_uri": "https://localhost:8080/"
        },
        "id": "8Sb9lq8x5N7V",
        "outputId": "6dd39842-db50-4ece-b7fd-a8537b79e3eb"
      },
      "outputs": [
        {
          "data": {
            "text/plain": [
              "6    126\n",
              "1     94\n",
              "3     71\n",
              "5     58\n",
              "0     53\n",
              "2     26\n",
              "4     22\n",
              "Name: centroid_assignment, dtype: int64"
            ]
          },
          "execution_count": 108,
          "metadata": {},
          "output_type": "execute_result"
        }
      ],
      "source": [
        "# Check how many data points were assigned to each centroid\n",
        "s_centroid_assignment = assign_to_centroid( df_kmeans, df_centroids )\n",
        "s_centroid_assignment.value_counts()"
      ]
    },
    {
      "cell_type": "markdown",
      "metadata": {
        "id": "i_uQUmJx5N7V"
      },
      "source": [
        "## Q3 - Write a function that recomputes the centroids\n",
        "\n",
        "Write a function `compute_centroids` that takes two parameters: the data frame, `df_data` containing the data being clustered, and a series of the same length that contains the label of the assigned centroid for every row in df_data, `s_centroid_assignment`. The function will return the a data frame containing the centroids (mean) value for each unique centroid. \n",
        "\n",
        "Note that the indices in the returned data frame should correspond to the unique values in `s_centroid_assignment`.  For example, if I found the mean value of df_data using the slice corresponding to `s_centroid_assigment == 2`, then the centroid should be in the returned data frame at `.iloc[2]`. \n"
      ]
    },
    {
      "cell_type": "code",
      "execution_count": null,
      "metadata": {
        "id": "m5rl8cCt5N7W"
      },
      "outputs": [],
      "source": [
        "def compute_centroids( df_data, s_centroid_assignment ):\n",
        "    # your code here \n",
        "    merged_data = df_data.merge(s_centroid_assignment.rename('centroid'), left_index=True,right_index=True)\n",
        "    data = merged_data.groupby('centroid').mean()\n",
        "    return data"
      ]
    },
    {
      "cell_type": "code",
      "execution_count": null,
      "metadata": {
        "colab": {
          "base_uri": "https://localhost:8080/",
          "height": 300
        },
        "id": "xi5HY3N65N7W",
        "outputId": "e973a55a-f55b-47b3-c980-701de94d4506"
      },
      "outputs": [
        {
          "data": {
            "text/html": [
              "<div>\n",
              "<style scoped>\n",
              "    .dataframe tbody tr th:only-of-type {\n",
              "        vertical-align: middle;\n",
              "    }\n",
              "\n",
              "    .dataframe tbody tr th {\n",
              "        vertical-align: top;\n",
              "    }\n",
              "\n",
              "    .dataframe thead th {\n",
              "        text-align: right;\n",
              "    }\n",
              "</style>\n",
              "<table border=\"1\" class=\"dataframe\">\n",
              "  <thead>\n",
              "    <tr style=\"text-align: right;\">\n",
              "      <th></th>\n",
              "      <th>x</th>\n",
              "      <th>y</th>\n",
              "      <th>centroid_assignment</th>\n",
              "    </tr>\n",
              "    <tr>\n",
              "      <th>centroid</th>\n",
              "      <th></th>\n",
              "      <th></th>\n",
              "      <th></th>\n",
              "    </tr>\n",
              "  </thead>\n",
              "  <tbody>\n",
              "    <tr>\n",
              "      <th>0</th>\n",
              "      <td>-0.715983</td>\n",
              "      <td>0.500552</td>\n",
              "      <td>0.0</td>\n",
              "    </tr>\n",
              "    <tr>\n",
              "      <th>1</th>\n",
              "      <td>-0.721574</td>\n",
              "      <td>0.708343</td>\n",
              "      <td>1.0</td>\n",
              "    </tr>\n",
              "    <tr>\n",
              "      <th>2</th>\n",
              "      <td>-0.738268</td>\n",
              "      <td>-0.113830</td>\n",
              "      <td>2.0</td>\n",
              "    </tr>\n",
              "    <tr>\n",
              "      <th>3</th>\n",
              "      <td>-0.696694</td>\n",
              "      <td>-0.699028</td>\n",
              "      <td>3.0</td>\n",
              "    </tr>\n",
              "    <tr>\n",
              "      <th>4</th>\n",
              "      <td>-0.546913</td>\n",
              "      <td>0.321364</td>\n",
              "      <td>4.0</td>\n",
              "    </tr>\n",
              "    <tr>\n",
              "      <th>5</th>\n",
              "      <td>-0.102365</td>\n",
              "      <td>-0.188876</td>\n",
              "      <td>5.0</td>\n",
              "    </tr>\n",
              "    <tr>\n",
              "      <th>6</th>\n",
              "      <td>0.523364</td>\n",
              "      <td>0.238569</td>\n",
              "      <td>6.0</td>\n",
              "    </tr>\n",
              "  </tbody>\n",
              "</table>\n",
              "</div>"
            ],
            "text/plain": [
              "                 x         y  centroid_assignment\n",
              "centroid                                         \n",
              "0        -0.715983  0.500552                  0.0\n",
              "1        -0.721574  0.708343                  1.0\n",
              "2        -0.738268 -0.113830                  2.0\n",
              "3        -0.696694 -0.699028                  3.0\n",
              "4        -0.546913  0.321364                  4.0\n",
              "5        -0.102365 -0.188876                  5.0\n",
              "6         0.523364  0.238569                  6.0"
            ]
          },
          "execution_count": 110,
          "metadata": {},
          "output_type": "execute_result"
        }
      ],
      "source": [
        "# Test it out\n",
        "df_new_centroids = compute_centroids( df_kmeans, s_centroid_assignment)\n",
        "df_new_centroids"
      ]
    },
    {
      "cell_type": "markdown",
      "metadata": {
        "id": "JvlxECal5N7W"
      },
      "source": [
        "## Q4 - Write a function that compares two centroid data frames\n",
        "\n",
        "The stopping criterion for k-means is when our centroids have not moved since the last iteration.  Write a function `compare_centroids` that is given 2 centroid data frames, `df_centroid_a`, and `df_centroid_b` as parameters and returns `True` or `False` indicating if the centroids at each unique index in the data frame are equal. Use the [equals](https://pandas.pydata.org/pandas-docs/stable/reference/api/pandas.Series.equals.html) method to compare equality of pandas Series objects. "
      ]
    },
    {
      "cell_type": "code",
      "execution_count": null,
      "metadata": {
        "id": "ftTuVK4n5N7W"
      },
      "outputs": [],
      "source": [
        "def compare_centroids( df_centroid_a, df_centroid_b ):\n",
        "    # your code here\n",
        "    return df_centroid_a.equals(df_centroid_b)\n",
        "\n"
      ]
    },
    {
      "cell_type": "code",
      "execution_count": null,
      "metadata": {
        "colab": {
          "base_uri": "https://localhost:8080/"
        },
        "id": "bct3vysx5N7X",
        "outputId": "5c705fb3-43a8-4222-8c45-3f404d4d7341"
      },
      "outputs": [
        {
          "name": "stdout",
          "output_type": "stream",
          "text": [
            "True\n",
            "False\n"
          ]
        }
      ],
      "source": [
        "# Test it out, should print True followed by False\n",
        "print(compare_centroids( df_new_centroids, df_new_centroids ))\n",
        "print(compare_centroids( df_new_centroids, df_centroids ))"
      ]
    },
    {
      "cell_type": "markdown",
      "metadata": {
        "id": "bWTbtf0G5N7X"
      },
      "source": [
        "## Q5 - Write a function that implements k-means\n",
        "\n",
        "Write a function, `k_means`, that takes in as parameters 2 values, a data frame with values to cluster, `df_data`, and the number of clusters to form, `k`.  The function should return a series of data of the same length as `df_data` that contains the cluster assignment (an integer from 0 to (k-1)) for each row of data.  Use the helper functions defined in the prior questions. "
      ]
    },
    {
      "cell_type": "code",
      "execution_count": null,
      "metadata": {
        "id": "iVutdhzt5N7X"
      },
      "outputs": [],
      "source": [
        "def k_means(df_data, k):\n",
        "    # Initialize centroids randomly\n",
        "    centroids = init_centroids(df_data, k)\n",
        "    # Assign data points to initial centroids\n",
        "    centroid_assignment = assign_to_centroid(df_data, centroids)\n",
        "    # Compute new centroids based on current assignments\n",
        "    new_centroids = compute_centroids(df_data, centroid_assignment)\n",
        "    # Set a maximum number of iterations\n",
        "    max_iter = 100\n",
        "    iter_count = 0\n",
        "    while iter_count < max_iter:\n",
        "        # If centroids converge, break the loop\n",
        "        if compare_centroids(centroids, new_centroids):\n",
        "            break\n",
        "        centroids = new_centroids\n",
        "        centroid_assignment = assign_to_centroid(df_data, centroids)\n",
        "        new_centroids = compute_centroids(df_data, centroid_assignment)\n",
        "        iter_count += 1\n",
        "    # Return the cluster assignments\n",
        "    return centroid_assignment\n"
      ]
    },
    {
      "cell_type": "code",
      "execution_count": null,
      "metadata": {
        "colab": {
          "base_uri": "https://localhost:8080/"
        },
        "id": "FIgDsHem5N7X",
        "outputId": "75676765-6d9b-4e81-c25b-82b3a1c9805d"
      },
      "outputs": [
        {
          "data": {
            "text/plain": [
              "0    178\n",
              "3     89\n",
              "2     74\n",
              "4     63\n",
              "1     46\n",
              "Name: centroid_assignment, dtype: int64"
            ]
          },
          "execution_count": 114,
          "metadata": {},
          "output_type": "execute_result"
        }
      ],
      "source": [
        "# Call k_means with k = 5 to test\n",
        "s_cluster_assignment = k_means( df_kmeans, 5)\n",
        "s_cluster_assignment.value_counts()"
      ]
    },
    {
      "cell_type": "markdown",
      "metadata": {
        "id": "4Jx9uW5s5N7X"
      },
      "source": [
        "## Q6 - Plot the results\n",
        "\n",
        "Plot the points in the `df_kmeans` data frame using a 2-D scatter plot, with a different color for each cluster.  Use the cluster assignments from the previous problem (`s_cluster_assignments`).  Label your axes, and give the plot a title. "
      ]
    },
    {
      "cell_type": "code",
      "execution_count": null,
      "metadata": {
        "colab": {
          "base_uri": "https://localhost:8080/",
          "height": 472
        },
        "id": "yj_07XQh5N7Y",
        "outputId": "92a27270-647f-4f31-bfb6-363f51d01055"
      },
      "outputs": [
        {
          "data": {
            "image/png": "[encoded data removed]",
            "text/plain": [
              "<Figure size 640x480 with 1 Axes>"
            ]
          },
          "metadata": {},
          "output_type": "display_data"
        }
      ],
      "source": [
        "# Plot each cluster\n",
        "colorDict = {0.0:'red',1.0:'blue',2.0:'yellow',3.0:'purple',4.0:'black'}\n",
        "#plt.scatter(s_cluster_assignment, df_kmeans.values, color = colorDict[s_cluster_assignment])\n",
        "# Set x/y limits and labels\n",
        "# plt.scatter(df_kmeans['x'],df_kmeans['y'])\n",
        "for i in range(len(s_cluster_assignment)):\n",
        "    val = s_cluster_assignment[i]\n",
        "    color = colorDict[val]\n",
        "    plt.scatter(df_kmeans['x'][i],df_kmeans['y'][i],color = color)\n",
        "plt.xlabel('x')\n",
        "plt.ylabel('y')\n",
        "plt.title('Centroids')\n",
        "plt.show()"
      ]
    }
  ],
  "metadata": {
    "colab": {
      "provenance": []
    },
    "kernelspec": {
      "display_name": "Python 3 (ipykernel)",
      "language": "python",
      "name": "python3"
    },
    "language_info": {
      "codemirror_mode": {
        "name": "ipython",
        "version": 3
      },
      "file_extension": ".py",
      "mimetype": "text/x-python",
      "name": "python",
      "nbconvert_exporter": "python",
      "pygments_lexer": "ipython3",
      "version": "3.11.1"
    }
  },
  "nbformat": 4,
  "nbformat_minor": 0
}
